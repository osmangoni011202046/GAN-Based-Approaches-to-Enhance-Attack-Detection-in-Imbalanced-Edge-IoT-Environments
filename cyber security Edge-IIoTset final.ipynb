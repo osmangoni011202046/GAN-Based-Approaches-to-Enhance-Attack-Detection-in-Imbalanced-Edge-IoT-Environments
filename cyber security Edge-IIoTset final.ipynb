{
 "cells": [
  {
   "cell_type": "code",
   "execution_count": 2,
   "id": "48359559-cd12-4eba-b764-9e051b6c7c21",
   "metadata": {},
   "outputs": [],
   "source": [
    "            # pip install keras-transformer\n",
    "# pip install hyperopt"
   ]
  },
  {
   "cell_type": "code",
   "execution_count": 3,
   "id": "58a792d0-dc6a-422f-8331-c62a0221172f",
   "metadata": {},
   "outputs": [],
   "source": [
    "# import pandas as pd\n",
    "# import numpy as np\n",
    "\n",
    "# df = pd.read_csv(f'./DNN-EdgeIIoT-dataset.csv', low_memory=False) \n",
    "# df.head(5)\n",
    "# print(df['Attack_type'].value_counts())"
   ]
  },
  {
   "cell_type": "code",
   "execution_count": 4,
   "id": "97f731e0-718d-43e0-99d1-72be54c60300",
   "metadata": {},
   "outputs": [],
   "source": [
    "# from sklearn.utils import shuffle\n",
    "# drop_columns = [\"frame.time\", \"ip.src_host\", \"ip.dst_host\", \"arp.src.proto_ipv4\",\"arp.dst.proto_ipv4\", \n",
    "#                 \"http.file_data\",\"http.request.full_uri\",\"icmp.transmit_timestamp\",\n",
    "#                 \"http.request.uri.query\", \"tcp.options\",\"tcp.payload\",\"tcp.srcport\",\n",
    "#                 \"tcp.dstport\", \"udp.port\", \"mqtt.msg\",\"icmp.unused\", \"http.tls_port\", \"dns.qry.type\", \"mqtt.msg_decoded_as\",\"Attack_label\"]\n",
    "\n",
    "# df.drop(drop_columns, axis=1, inplace=True)\n",
    "# df.dropna(axis=0, how='any', inplace=True)\n",
    "# df.drop_duplicates(subset=None, keep=\"first\", inplace=True)\n",
    "# df = shuffle(df)\n",
    "# df.isna().sum()\n",
    "# print(df['Attack_type'].value_counts())"
   ]
  },
  {
   "cell_type": "code",
   "execution_count": 5,
   "id": "03abe378-13fe-4d32-b108-56238bd63ea6",
   "metadata": {},
   "outputs": [],
   "source": [
    "# from sklearn.model_selection import train_test_split\n",
    "# from sklearn.preprocessing import StandardScaler\n",
    "# from sklearn import preprocessing\n",
    "\n",
    "# def encode_text_dummy(df, name):\n",
    "#     dummies = pd.get_dummies(df[name])\n",
    "#     for x in dummies.columns:\n",
    "#         dummy_name = f\"{name}-{x}\"\n",
    "#         df[dummy_name] = dummies[x]\n",
    "#     df.drop(name, axis=1, inplace=True)\n",
    "    \n",
    "# encode_text_dummy(df,'http.request.method')\n",
    "# encode_text_dummy(df,'http.referer')\n",
    "# encode_text_dummy(df,\"http.request.version\")\n",
    "# encode_text_dummy(df,\"dns.qry.name.len\")\n",
    "# encode_text_dummy(df,\"mqtt.conack.flags\")\n",
    "# encode_text_dummy(df,\"mqtt.protoname\")\n",
    "# encode_text_dummy(df,\"mqtt.topic\")"
   ]
  },
  {
   "cell_type": "code",
   "execution_count": 6,
   "id": "82caced5-5b80-45f7-9e96-92ef95b311a3",
   "metadata": {},
   "outputs": [],
   "source": [
    "# df.to_csv('preprocessed_DNN2.csv', encoding='utf-8', index=False)"
   ]
  },
  {
   "cell_type": "code",
   "execution_count": null,
   "id": "296745d0-8c92-4903-abd0-60f8eac8033b",
   "metadata": {},
   "outputs": [],
   "source": []
  },
  {
   "cell_type": "code",
   "execution_count": 1,
   "id": "954ae6e8-d760-48c8-99bd-eb7c7d5196f9",
   "metadata": {},
   "outputs": [
    {
     "data": {
      "text/html": [
       "<div>\n",
       "<style scoped>\n",
       "    .dataframe tbody tr th:only-of-type {\n",
       "        vertical-align: middle;\n",
       "    }\n",
       "\n",
       "    .dataframe tbody tr th {\n",
       "        vertical-align: top;\n",
       "    }\n",
       "\n",
       "    .dataframe thead th {\n",
       "        text-align: right;\n",
       "    }\n",
       "</style>\n",
       "<table border=\"1\" class=\"dataframe\">\n",
       "  <thead>\n",
       "    <tr style=\"text-align: right;\">\n",
       "      <th></th>\n",
       "      <th>arp.opcode</th>\n",
       "      <th>arp.hw.size</th>\n",
       "      <th>icmp.checksum</th>\n",
       "      <th>icmp.seq_le</th>\n",
       "      <th>http.content_length</th>\n",
       "      <th>http.response</th>\n",
       "      <th>tcp.ack</th>\n",
       "      <th>tcp.ack_raw</th>\n",
       "      <th>tcp.checksum</th>\n",
       "      <th>tcp.connection.fin</th>\n",
       "      <th>...</th>\n",
       "      <th>mqtt.conack.flags-1471198</th>\n",
       "      <th>mqtt.conack.flags-1471199</th>\n",
       "      <th>mqtt.conack.flags-1574358</th>\n",
       "      <th>mqtt.conack.flags-1574359</th>\n",
       "      <th>mqtt.protoname-0</th>\n",
       "      <th>mqtt.protoname-0.0</th>\n",
       "      <th>mqtt.protoname-MQTT</th>\n",
       "      <th>mqtt.topic-0</th>\n",
       "      <th>mqtt.topic-0.0</th>\n",
       "      <th>mqtt.topic-Temperature_and_Humidity</th>\n",
       "    </tr>\n",
       "  </thead>\n",
       "  <tbody>\n",
       "    <tr>\n",
       "      <th>0</th>\n",
       "      <td>0.0</td>\n",
       "      <td>0.0</td>\n",
       "      <td>0.0</td>\n",
       "      <td>0.0</td>\n",
       "      <td>0.0</td>\n",
       "      <td>0.0</td>\n",
       "      <td>193293683.0</td>\n",
       "      <td>1.332146e+09</td>\n",
       "      <td>10309.0</td>\n",
       "      <td>0.0</td>\n",
       "      <td>...</td>\n",
       "      <td>False</td>\n",
       "      <td>False</td>\n",
       "      <td>False</td>\n",
       "      <td>False</td>\n",
       "      <td>True</td>\n",
       "      <td>False</td>\n",
       "      <td>False</td>\n",
       "      <td>True</td>\n",
       "      <td>False</td>\n",
       "      <td>False</td>\n",
       "    </tr>\n",
       "    <tr>\n",
       "      <th>1</th>\n",
       "      <td>0.0</td>\n",
       "      <td>0.0</td>\n",
       "      <td>0.0</td>\n",
       "      <td>0.0</td>\n",
       "      <td>0.0</td>\n",
       "      <td>0.0</td>\n",
       "      <td>0.0</td>\n",
       "      <td>0.000000e+00</td>\n",
       "      <td>0.0</td>\n",
       "      <td>0.0</td>\n",
       "      <td>...</td>\n",
       "      <td>False</td>\n",
       "      <td>False</td>\n",
       "      <td>False</td>\n",
       "      <td>False</td>\n",
       "      <td>False</td>\n",
       "      <td>True</td>\n",
       "      <td>False</td>\n",
       "      <td>False</td>\n",
       "      <td>True</td>\n",
       "      <td>False</td>\n",
       "    </tr>\n",
       "    <tr>\n",
       "      <th>2</th>\n",
       "      <td>0.0</td>\n",
       "      <td>0.0</td>\n",
       "      <td>0.0</td>\n",
       "      <td>0.0</td>\n",
       "      <td>0.0</td>\n",
       "      <td>0.0</td>\n",
       "      <td>5.0</td>\n",
       "      <td>1.982540e+09</td>\n",
       "      <td>54699.0</td>\n",
       "      <td>1.0</td>\n",
       "      <td>...</td>\n",
       "      <td>False</td>\n",
       "      <td>False</td>\n",
       "      <td>False</td>\n",
       "      <td>False</td>\n",
       "      <td>True</td>\n",
       "      <td>False</td>\n",
       "      <td>False</td>\n",
       "      <td>True</td>\n",
       "      <td>False</td>\n",
       "      <td>False</td>\n",
       "    </tr>\n",
       "    <tr>\n",
       "      <th>3</th>\n",
       "      <td>0.0</td>\n",
       "      <td>0.0</td>\n",
       "      <td>0.0</td>\n",
       "      <td>0.0</td>\n",
       "      <td>0.0</td>\n",
       "      <td>0.0</td>\n",
       "      <td>121.0</td>\n",
       "      <td>1.365450e+09</td>\n",
       "      <td>29437.0</td>\n",
       "      <td>0.0</td>\n",
       "      <td>...</td>\n",
       "      <td>False</td>\n",
       "      <td>False</td>\n",
       "      <td>False</td>\n",
       "      <td>False</td>\n",
       "      <td>False</td>\n",
       "      <td>True</td>\n",
       "      <td>False</td>\n",
       "      <td>False</td>\n",
       "      <td>True</td>\n",
       "      <td>False</td>\n",
       "    </tr>\n",
       "    <tr>\n",
       "      <th>4</th>\n",
       "      <td>0.0</td>\n",
       "      <td>0.0</td>\n",
       "      <td>0.0</td>\n",
       "      <td>0.0</td>\n",
       "      <td>0.0</td>\n",
       "      <td>0.0</td>\n",
       "      <td>1.0</td>\n",
       "      <td>3.965167e+09</td>\n",
       "      <td>2020.0</td>\n",
       "      <td>0.0</td>\n",
       "      <td>...</td>\n",
       "      <td>False</td>\n",
       "      <td>False</td>\n",
       "      <td>False</td>\n",
       "      <td>False</td>\n",
       "      <td>False</td>\n",
       "      <td>True</td>\n",
       "      <td>False</td>\n",
       "      <td>False</td>\n",
       "      <td>True</td>\n",
       "      <td>False</td>\n",
       "    </tr>\n",
       "    <tr>\n",
       "      <th>...</th>\n",
       "      <td>...</td>\n",
       "      <td>...</td>\n",
       "      <td>...</td>\n",
       "      <td>...</td>\n",
       "      <td>...</td>\n",
       "      <td>...</td>\n",
       "      <td>...</td>\n",
       "      <td>...</td>\n",
       "      <td>...</td>\n",
       "      <td>...</td>\n",
       "      <td>...</td>\n",
       "      <td>...</td>\n",
       "      <td>...</td>\n",
       "      <td>...</td>\n",
       "      <td>...</td>\n",
       "      <td>...</td>\n",
       "      <td>...</td>\n",
       "      <td>...</td>\n",
       "      <td>...</td>\n",
       "      <td>...</td>\n",
       "      <td>...</td>\n",
       "    </tr>\n",
       "    <tr>\n",
       "      <th>1909666</th>\n",
       "      <td>0.0</td>\n",
       "      <td>0.0</td>\n",
       "      <td>0.0</td>\n",
       "      <td>0.0</td>\n",
       "      <td>0.0</td>\n",
       "      <td>0.0</td>\n",
       "      <td>5.0</td>\n",
       "      <td>2.654419e+08</td>\n",
       "      <td>18431.0</td>\n",
       "      <td>1.0</td>\n",
       "      <td>...</td>\n",
       "      <td>False</td>\n",
       "      <td>False</td>\n",
       "      <td>False</td>\n",
       "      <td>False</td>\n",
       "      <td>True</td>\n",
       "      <td>False</td>\n",
       "      <td>False</td>\n",
       "      <td>True</td>\n",
       "      <td>False</td>\n",
       "      <td>False</td>\n",
       "    </tr>\n",
       "    <tr>\n",
       "      <th>1909667</th>\n",
       "      <td>0.0</td>\n",
       "      <td>0.0</td>\n",
       "      <td>0.0</td>\n",
       "      <td>0.0</td>\n",
       "      <td>0.0</td>\n",
       "      <td>0.0</td>\n",
       "      <td>59.0</td>\n",
       "      <td>1.157507e+09</td>\n",
       "      <td>64406.0</td>\n",
       "      <td>1.0</td>\n",
       "      <td>...</td>\n",
       "      <td>False</td>\n",
       "      <td>False</td>\n",
       "      <td>False</td>\n",
       "      <td>False</td>\n",
       "      <td>True</td>\n",
       "      <td>False</td>\n",
       "      <td>False</td>\n",
       "      <td>True</td>\n",
       "      <td>False</td>\n",
       "      <td>False</td>\n",
       "    </tr>\n",
       "    <tr>\n",
       "      <th>1909668</th>\n",
       "      <td>0.0</td>\n",
       "      <td>0.0</td>\n",
       "      <td>0.0</td>\n",
       "      <td>0.0</td>\n",
       "      <td>0.0</td>\n",
       "      <td>0.0</td>\n",
       "      <td>6.0</td>\n",
       "      <td>3.064683e+09</td>\n",
       "      <td>63812.0</td>\n",
       "      <td>0.0</td>\n",
       "      <td>...</td>\n",
       "      <td>False</td>\n",
       "      <td>False</td>\n",
       "      <td>False</td>\n",
       "      <td>False</td>\n",
       "      <td>True</td>\n",
       "      <td>False</td>\n",
       "      <td>False</td>\n",
       "      <td>True</td>\n",
       "      <td>False</td>\n",
       "      <td>False</td>\n",
       "    </tr>\n",
       "    <tr>\n",
       "      <th>1909669</th>\n",
       "      <td>0.0</td>\n",
       "      <td>0.0</td>\n",
       "      <td>0.0</td>\n",
       "      <td>0.0</td>\n",
       "      <td>0.0</td>\n",
       "      <td>0.0</td>\n",
       "      <td>1.0</td>\n",
       "      <td>4.198322e+08</td>\n",
       "      <td>31907.0</td>\n",
       "      <td>0.0</td>\n",
       "      <td>...</td>\n",
       "      <td>False</td>\n",
       "      <td>False</td>\n",
       "      <td>False</td>\n",
       "      <td>False</td>\n",
       "      <td>False</td>\n",
       "      <td>False</td>\n",
       "      <td>True</td>\n",
       "      <td>True</td>\n",
       "      <td>False</td>\n",
       "      <td>False</td>\n",
       "    </tr>\n",
       "    <tr>\n",
       "      <th>1909670</th>\n",
       "      <td>0.0</td>\n",
       "      <td>0.0</td>\n",
       "      <td>0.0</td>\n",
       "      <td>0.0</td>\n",
       "      <td>0.0</td>\n",
       "      <td>0.0</td>\n",
       "      <td>6.0</td>\n",
       "      <td>2.548185e+09</td>\n",
       "      <td>58275.0</td>\n",
       "      <td>0.0</td>\n",
       "      <td>...</td>\n",
       "      <td>False</td>\n",
       "      <td>False</td>\n",
       "      <td>False</td>\n",
       "      <td>False</td>\n",
       "      <td>True</td>\n",
       "      <td>False</td>\n",
       "      <td>False</td>\n",
       "      <td>True</td>\n",
       "      <td>False</td>\n",
       "      <td>False</td>\n",
       "    </tr>\n",
       "  </tbody>\n",
       "</table>\n",
       "<p>1909671 rows × 92 columns</p>\n",
       "</div>"
      ],
      "text/plain": [
       "         arp.opcode  arp.hw.size  icmp.checksum  icmp.seq_le  \\\n",
       "0               0.0          0.0            0.0          0.0   \n",
       "1               0.0          0.0            0.0          0.0   \n",
       "2               0.0          0.0            0.0          0.0   \n",
       "3               0.0          0.0            0.0          0.0   \n",
       "4               0.0          0.0            0.0          0.0   \n",
       "...             ...          ...            ...          ...   \n",
       "1909666         0.0          0.0            0.0          0.0   \n",
       "1909667         0.0          0.0            0.0          0.0   \n",
       "1909668         0.0          0.0            0.0          0.0   \n",
       "1909669         0.0          0.0            0.0          0.0   \n",
       "1909670         0.0          0.0            0.0          0.0   \n",
       "\n",
       "         http.content_length  http.response      tcp.ack   tcp.ack_raw  \\\n",
       "0                        0.0            0.0  193293683.0  1.332146e+09   \n",
       "1                        0.0            0.0          0.0  0.000000e+00   \n",
       "2                        0.0            0.0          5.0  1.982540e+09   \n",
       "3                        0.0            0.0        121.0  1.365450e+09   \n",
       "4                        0.0            0.0          1.0  3.965167e+09   \n",
       "...                      ...            ...          ...           ...   \n",
       "1909666                  0.0            0.0          5.0  2.654419e+08   \n",
       "1909667                  0.0            0.0         59.0  1.157507e+09   \n",
       "1909668                  0.0            0.0          6.0  3.064683e+09   \n",
       "1909669                  0.0            0.0          1.0  4.198322e+08   \n",
       "1909670                  0.0            0.0          6.0  2.548185e+09   \n",
       "\n",
       "         tcp.checksum  tcp.connection.fin  ...  mqtt.conack.flags-1471198  \\\n",
       "0             10309.0                 0.0  ...                      False   \n",
       "1                 0.0                 0.0  ...                      False   \n",
       "2             54699.0                 1.0  ...                      False   \n",
       "3             29437.0                 0.0  ...                      False   \n",
       "4              2020.0                 0.0  ...                      False   \n",
       "...               ...                 ...  ...                        ...   \n",
       "1909666       18431.0                 1.0  ...                      False   \n",
       "1909667       64406.0                 1.0  ...                      False   \n",
       "1909668       63812.0                 0.0  ...                      False   \n",
       "1909669       31907.0                 0.0  ...                      False   \n",
       "1909670       58275.0                 0.0  ...                      False   \n",
       "\n",
       "         mqtt.conack.flags-1471199  mqtt.conack.flags-1574358  \\\n",
       "0                            False                      False   \n",
       "1                            False                      False   \n",
       "2                            False                      False   \n",
       "3                            False                      False   \n",
       "4                            False                      False   \n",
       "...                            ...                        ...   \n",
       "1909666                      False                      False   \n",
       "1909667                      False                      False   \n",
       "1909668                      False                      False   \n",
       "1909669                      False                      False   \n",
       "1909670                      False                      False   \n",
       "\n",
       "         mqtt.conack.flags-1574359  mqtt.protoname-0  mqtt.protoname-0.0  \\\n",
       "0                            False              True               False   \n",
       "1                            False             False                True   \n",
       "2                            False              True               False   \n",
       "3                            False             False                True   \n",
       "4                            False             False                True   \n",
       "...                            ...               ...                 ...   \n",
       "1909666                      False              True               False   \n",
       "1909667                      False              True               False   \n",
       "1909668                      False              True               False   \n",
       "1909669                      False             False               False   \n",
       "1909670                      False              True               False   \n",
       "\n",
       "         mqtt.protoname-MQTT  mqtt.topic-0  mqtt.topic-0.0  \\\n",
       "0                      False          True           False   \n",
       "1                      False         False            True   \n",
       "2                      False          True           False   \n",
       "3                      False         False            True   \n",
       "4                      False         False            True   \n",
       "...                      ...           ...             ...   \n",
       "1909666                False          True           False   \n",
       "1909667                False          True           False   \n",
       "1909668                False          True           False   \n",
       "1909669                 True          True           False   \n",
       "1909670                False          True           False   \n",
       "\n",
       "         mqtt.topic-Temperature_and_Humidity  \n",
       "0                                      False  \n",
       "1                                      False  \n",
       "2                                      False  \n",
       "3                                      False  \n",
       "4                                      False  \n",
       "...                                      ...  \n",
       "1909666                                False  \n",
       "1909667                                False  \n",
       "1909668                                False  \n",
       "1909669                                False  \n",
       "1909670                                False  \n",
       "\n",
       "[1909671 rows x 92 columns]"
      ]
     },
     "execution_count": 1,
     "metadata": {},
     "output_type": "execute_result"
    }
   ],
   "source": [
    "import pandas as pd\n",
    "import numpy as np\n",
    "from matplotlib import pyplot as plt\n",
    "import seaborn as sns\n",
    "\n",
    "df = pd.read_csv('./preprocessed_DNN2.csv', low_memory=False) \n",
    "df"
   ]
  },
  {
   "cell_type": "code",
   "execution_count": 2,
   "id": "4841e0bb-a655-4094-9085-11e58f8faeb2",
   "metadata": {},
   "outputs": [
    {
     "data": {
      "text/plain": [
       "92"
      ]
     },
     "execution_count": 2,
     "metadata": {},
     "output_type": "execute_result"
    }
   ],
   "source": [
    "feat_cols = list(df.columns)\n",
    "# label = \"Attack_type\"\n",
    "\n",
    "# feat_cols.remove(label)\n",
    "feat_cols\n",
    "len(feat_cols)\n"
   ]
  },
  {
   "cell_type": "code",
   "execution_count": 3,
   "id": "a8f8a797-b6c1-4021-9a9f-99800b7b7350",
   "metadata": {},
   "outputs": [
    {
     "data": {
      "text/plain": [
       "[]"
      ]
     },
     "execution_count": 3,
     "metadata": {},
     "output_type": "execute_result"
    }
   ],
   "source": [
    "empty_cols = [col for col in df.columns if df[col].isnull().all()]\n",
    "empty_cols"
   ]
  },
  {
   "cell_type": "code",
   "execution_count": 4,
   "id": "9a6fd8c1-ab56-422e-a1ac-8e7af1bdf59b",
   "metadata": {},
   "outputs": [
    {
     "data": {
      "text/plain": [
       "['arp.opcode',\n",
       " 'arp.hw.size',\n",
       " 'icmp.checksum',\n",
       " 'icmp.seq_le',\n",
       " 'http.content_length',\n",
       " 'http.response',\n",
       " 'tcp.ack',\n",
       " 'tcp.ack_raw',\n",
       " 'tcp.checksum',\n",
       " 'tcp.connection.fin',\n",
       " 'tcp.connection.rst',\n",
       " 'tcp.connection.syn',\n",
       " 'tcp.connection.synack',\n",
       " 'tcp.flags',\n",
       " 'tcp.flags.ack',\n",
       " 'tcp.len',\n",
       " 'tcp.seq',\n",
       " 'udp.stream',\n",
       " 'udp.time_delta',\n",
       " 'dns.qry.name',\n",
       " 'dns.qry.qu',\n",
       " 'dns.retransmission',\n",
       " 'dns.retransmit_request',\n",
       " 'dns.retransmit_request_in',\n",
       " 'mqtt.conflag.cleansess',\n",
       " 'mqtt.conflags',\n",
       " 'mqtt.hdrflags',\n",
       " 'mqtt.len',\n",
       " 'mqtt.msgtype',\n",
       " 'mqtt.proto_len',\n",
       " 'mqtt.topic_len',\n",
       " 'mqtt.ver',\n",
       " 'mbtcp.len',\n",
       " 'mbtcp.trans_id',\n",
       " 'mbtcp.unit_id',\n",
       " 'Attack_type',\n",
       " 'http.request.method-0',\n",
       " 'http.request.method-0.0',\n",
       " 'http.request.method-GET',\n",
       " 'http.request.method-OPTIONS',\n",
       " 'http.request.method-POST',\n",
       " 'http.request.method-PROPFIND',\n",
       " 'http.request.method-PUT',\n",
       " 'http.request.method-SEARCH',\n",
       " 'http.request.method-TRACE',\n",
       " 'http.referer-() { _; } >_[$($())] { echo 93e4r0-CVE-2014-6278: true; echo;echo; }',\n",
       " 'http.referer-0',\n",
       " 'http.referer-0.0',\n",
       " 'http.referer-127.0.0.1',\n",
       " 'http.referer-TESTING_PURPOSES_ONLY',\n",
       " 'http.request.version--a HTTP/1.1',\n",
       " 'http.request.version--al&ABSOLUTE_PATH_STUDIP=http://cirt.net/rfiinc.txt?? HTTP/1.1',\n",
       " 'http.request.version--al&_PHPLIB[libdir]=http://cirt.net/rfiinc.txt?? HTTP/1.1',\n",
       " 'http.request.version-/etc/passwd|?data=Download HTTP/1.1',\n",
       " 'http.request.version-0',\n",
       " 'http.request.version-0.0',\n",
       " 'http.request.version-> HTTP/1.1',\n",
       " 'http.request.version-By Dr HTTP/1.1',\n",
       " 'http.request.version-HTTP/1.0',\n",
       " 'http.request.version-HTTP/1.1',\n",
       " 'http.request.version-Src=javascript:alert(\\'Vulnerable\\')><Img Src=\\\\\" HTTP/1.1',\n",
       " \"http.request.version-name=a><input name=i value=XSS>&lt;script>alert('Vulnerable')</script> HTTP/1.1\",\n",
       " 'http.request.version-script>alert(1)/script><\\\\\" HTTP/1.1',\n",
       " 'dns.qry.name.len-0',\n",
       " 'dns.qry.name.len-0.0',\n",
       " 'dns.qry.name.len-0.debian.pool.ntp.org',\n",
       " 'dns.qry.name.len-1.0',\n",
       " 'dns.qry.name.len-1.debian.pool.ntp.org',\n",
       " 'dns.qry.name.len-2.debian.pool.ntp.org',\n",
       " 'dns.qry.name.len-3.debian.pool.ntp.org',\n",
       " 'dns.qry.name.len-_googlecast._tcp.local',\n",
       " 'dns.qry.name.len-null-null.local',\n",
       " 'dns.qry.name.len-raspberrypi.local',\n",
       " 'mqtt.conack.flags-0',\n",
       " 'mqtt.conack.flags-0.0',\n",
       " 'mqtt.conack.flags-0x00000000',\n",
       " 'mqtt.conack.flags-1461073',\n",
       " 'mqtt.conack.flags-1461074',\n",
       " 'mqtt.conack.flags-1461383',\n",
       " 'mqtt.conack.flags-1461384',\n",
       " 'mqtt.conack.flags-1461589',\n",
       " 'mqtt.conack.flags-1461591',\n",
       " 'mqtt.conack.flags-1471198',\n",
       " 'mqtt.conack.flags-1471199',\n",
       " 'mqtt.conack.flags-1574358',\n",
       " 'mqtt.conack.flags-1574359',\n",
       " 'mqtt.protoname-0',\n",
       " 'mqtt.protoname-0.0',\n",
       " 'mqtt.protoname-MQTT',\n",
       " 'mqtt.topic-0',\n",
       " 'mqtt.topic-0.0',\n",
       " 'mqtt.topic-Temperature_and_Humidity']"
      ]
     },
     "execution_count": 4,
     "metadata": {},
     "output_type": "execute_result"
    }
   ],
   "source": [
    "# skip_list = [\"icmp.unused\", \"http.tls_port\", \"dns.qry.type\", \"mqtt.msg_decoded_as\"]\n",
    "# # df[skip_list[3]].value_counts()\n",
    "\n",
    "# df.drop(skip_list, axis=1, inplace=True)\n",
    "# feat_cols = list(df.columns)\n",
    "# feat_cols.remove(label)\n",
    "feat_cols"
   ]
  },
  {
   "cell_type": "code",
   "execution_count": 5,
   "id": "d9dcd055-37f5-458c-a669-09efa1454d83",
   "metadata": {},
   "outputs": [
    {
     "name": "stdout",
     "output_type": "stream",
     "text": [
      "Read 1909671 rows.\n"
     ]
    }
   ],
   "source": [
    "#drop na values and reset index\n",
    "data_clean = df.dropna().reset_index()\n",
    "\n",
    "# Checkng for DUPLICATE values\n",
    "data_clean.drop_duplicates(keep='first', inplace = True)\n",
    "\n",
    "data_clean['Attack_type'].value_counts()\n",
    "\n",
    "print(\"Read {} rows.\".format(len(data_clean)))"
   ]
  },
  {
   "cell_type": "code",
   "execution_count": 6,
   "id": "103235de-36bf-4433-837b-53d095be5e10",
   "metadata": {},
   "outputs": [],
   "source": [
    "from sklearn.model_selection import train_test_split\n",
    "from sklearn.preprocessing import OneHotEncoder, StandardScaler, LabelEncoder\n",
    "\n",
    "\n",
    "#drop na values and reset index\n",
    "data_clean = df.dropna().reset_index()\n",
    "\n",
    "# label encoding\n",
    "labelencoder = LabelEncoder()\n",
    "data_clean['Attack_type'] = labelencoder.fit_transform(data_clean['Attack_type'])\n",
    "\n",
    "data_clean['Attack_type'].value_counts()\n",
    "\n",
    "data_np = data_clean.to_numpy(dtype=\"float32\")\n",
    "data_np = data_np[~np.isinf(data_np).any(axis=1)]\n",
    "\n",
    "#del df\n",
    "\n",
    "# Replace \"Attack_type\" with the actual column name you want to encode\n",
    "column_name_to_encode = \"Attack_type\"\n",
    "\n",
    "# Find the column number dynamically\n",
    "column_num_to_encode = df.columns.get_loc(column_name_to_encode)\n",
    "\n",
    "# Extract features (X) from column 0 to 93 (excluding Attack_type)\n",
    "X = data_np[:, 0:column_num_to_encode]\n",
    "X = np.concatenate((X, data_np[:, column_num_to_encode+2:93]), axis=1)\n",
    "\n",
    "# Use OneHotEncoder on the specified column\n",
    "enc = OneHotEncoder()\n",
    "y = enc.fit_transform(data_np[:, column_num_to_encode+1:column_num_to_encode+2]).toarray()"
   ]
  },
  {
   "cell_type": "code",
   "execution_count": 7,
   "id": "d0d3fcc2-8e56-4ef7-bded-6236b774fa8b",
   "metadata": {},
   "outputs": [],
   "source": [
    "scaler = StandardScaler()\n",
    "X_scaled = scaler.fit_transform(X)\n",
    "\n",
    "# Split the data set into training and testing\n",
    "X_train, X_test, y_train, y_test = train_test_split(\n",
    "    X_scaled, y, test_size=0.25, random_state=2, shuffle=True)\n",
    "\n",
    "_features = X.shape[1]\n",
    "n_classes = y.shape[1]"
   ]
  },
  {
   "cell_type": "code",
   "execution_count": 8,
   "id": "570658f5-171d-430b-abac-cce51300c6d4",
   "metadata": {},
   "outputs": [
    {
     "name": "stdout",
     "output_type": "stream",
     "text": [
      "(1909671, 91) (1909671, 15)\n",
      "(1432253, 91) (477418, 91) (1432253, 15) (477418, 15)\n"
     ]
    }
   ],
   "source": [
    "print(X.shape,y.shape)\n",
    "print(X_train.shape, X_test.shape, y_train.shape, y_test.shape)"
   ]
  },
  {
   "cell_type": "code",
   "execution_count": 9,
   "id": "8267c259-61d7-4287-8766-8a6b4e691979",
   "metadata": {},
   "outputs": [
    {
     "name": "stdout",
     "output_type": "stream",
     "text": [
      "WARNING:tensorflow:From C:\\Users\\Momrez\\anaconda3\\envs\\new\\Lib\\site-packages\\keras\\src\\losses.py:2976: The name tf.losses.sparse_softmax_cross_entropy is deprecated. Please use tf.compat.v1.losses.sparse_softmax_cross_entropy instead.\n",
      "\n"
     ]
    }
   ],
   "source": [
    "# DNN\n",
    "import warnings\n",
    "warnings.simplefilter(action='ignore', category=FutureWarning)\n",
    "warnings.simplefilter(action='ignore', category=DeprecationWarning)\n",
    "\n",
    "from keras.models import Sequential\n",
    "from keras import callbacks\n",
    "from keras.layers import Dense, Activation, Flatten, Convolution1D, Dropout\n",
    "from sklearn import metrics\n",
    "\n",
    "import uuid\n",
    "import gc\n",
    "from tensorflow import keras\n",
    "import tensorflow as tf"
   ]
  },
  {
   "cell_type": "code",
   "execution_count": null,
   "id": "20aac5d2-02b4-4809-b9ca-2014a5b5ca31",
   "metadata": {
    "scrolled": true
   },
   "outputs": [],
   "source": [
    "from tensorflow.keras.callbacks import EarlyStopping, ReduceLROnPlateau, LearningRateScheduler\n",
    "import wandb\n",
    "\n",
    "# Log in to WandB\n",
    "wandb.login(key='8f0d6e889f9698caf1173751c1e03e59c7f70277')\n",
    "\n",
    "# Initialize WandB run\n",
    "wandb.init(project='dnn_fine_tune')\n",
    "\n",
    "# Simple 4 Layer Dense Model\n",
    "model = Sequential()\n",
    "model.add(Dense(128, input_dim=_features, activation='relu'))\n",
    "model.add(Dropout(0.1))\n",
    "model.add(Dense(256, activation='relu'))\n",
    "model.add(Dropout(0.1))\n",
    "model.add(Dense(128, activation='relu'))\n",
    "model.add(Dropout(0.1))\n",
    "model.add(Dense(96, kernel_initializer='normal'))\n",
    "model.add(Dense(n_classes, activation='softmax'))\n",
    "\n",
    "model.summary()\n",
    "\n",
    "# Compile the model\n",
    "opt = keras.optimizers.Adam(learning_rate=0.0001)\n",
    "model.compile(loss='binary_crossentropy', optimizer=opt, metrics=['accuracy'])\n",
    "\n",
    "# Define callbacks (including WandB callback)\n",
    "callbacks = [\n",
    "    EarlyStopping(monitor='loss', patience=10),\n",
    "    ReduceLROnPlateau(monitor='val_loss', factor=0.2, patience=3, min_lr=0.001),\n",
    "    wandb.keras.WandbCallback()\n",
    "]\n",
    "\n",
    "# Learning rate schedule\n",
    "def lr_schedule(epoch):\n",
    "    if epoch < 30:\n",
    "        return 0.0002  # First 30 epochs with this learning rate\n",
    "    elif epoch < 60:\n",
    "        return 0.0002/4  # Next 30 epochs with a lower learning rate\n",
    "    else:\n",
    "        return 0.0002/6  # Last 30 epochs with an even lower learning rate\n",
    "\n",
    "lr_scheduler = LearningRateScheduler(lr_schedule)\n",
    "\n",
    "# Train the model with WandB logging and learning rate schedule\n",
    "history = model.fit(\n",
    "    X_train, y_train,\n",
    "    batch_size=256,\n",
    "    epochs=90,  # Total epochs for fine-tuning\n",
    "    verbose=True,\n",
    "    validation_data=(X_test, y_test),\n",
    "    callbacks=[callbacks, lr_scheduler]\n",
    ")"
   ]
  },
  {
   "cell_type": "code",
   "execution_count": 15,
   "id": "c6a512af-1e0e-4071-bc74-b985d8b4bbf8",
   "metadata": {},
   "outputs": [
    {
     "name": "stderr",
     "output_type": "stream",
     "text": [
      "C:\\Users\\Momrez\\anaconda3\\envs\\new\\Lib\\site-packages\\keras\\src\\engine\\training.py:3103: UserWarning: You are saving your model as an HDF5 file via `model.save()`. This file format is considered legacy. We recommend using instead the native Keras format, e.g. `model.save('my_model.keras')`.\n",
      "  saving_api.save_model(\n"
     ]
    }
   ],
   "source": [
    "model.save('model3_dnn.h5')"
   ]
  },
  {
   "cell_type": "code",
   "execution_count": 16,
   "id": "bc0f46fc-01be-4f67-9bea-8bbce8212e0a",
   "metadata": {},
   "outputs": [
    {
     "name": "stderr",
     "output_type": "stream",
     "text": [
      "\u001b[34m\u001b[1mwandb\u001b[0m: \u001b[33mWARNING\u001b[0m Calling wandb.login() after wandb.init() has no effect.\n"
     ]
    },
    {
     "data": {
      "text/html": [
       "Finishing last run (ID:m38bd9rl) before initializing another..."
      ],
      "text/plain": [
       "<IPython.core.display.HTML object>"
      ]
     },
     "metadata": {},
     "output_type": "display_data"
    },
    {
     "data": {
      "text/html": [
       "W&B sync reduced upload amount by 1.0%             "
      ],
      "text/plain": [
       "<IPython.core.display.HTML object>"
      ]
     },
     "metadata": {},
     "output_type": "display_data"
    },
    {
     "data": {
      "text/html": [
       "<style>\n",
       "    table.wandb td:nth-child(1) { padding: 0 10px; text-align: left ; width: auto;} td:nth-child(2) {text-align: left ; width: 100%}\n",
       "    .wandb-row { display: flex; flex-direction: row; flex-wrap: wrap; justify-content: flex-start; width: 100% }\n",
       "    .wandb-col { display: flex; flex-direction: column; flex-basis: 100%; flex: 1; padding: 10px; }\n",
       "    </style>\n",
       "<div class=\"wandb-row\"><div class=\"wandb-col\"><h3>Run history:</h3><br/><table class=\"wandb\"><tr><td>accuracy</td><td>▁▆▇█████████████████████████████████████</td></tr><tr><td>epoch</td><td>▁▁▁▁▂▂▂▂▂▃▃▃▃▃▃▄▄▄▄▄▅▅▅▅▅▅▆▆▆▆▆▇▇▇▇▇▇███</td></tr><tr><td>loss</td><td>█▂▁▁▁▁▁▁▁▁▁▁▁▁▁▁▁▁▁▁▁▁▁▁▁▁▁▁▁▁▁▁▁▁▁▁▁▁▁▁</td></tr><tr><td>lr</td><td>██████████████▂▂▂▂▂▂▂▂▂▂▂▂▂▁▁▁▁▁▁▁▁▁▁▁▁▁</td></tr><tr><td>val_accuracy</td><td>▁▆██████████████████████████████████████</td></tr><tr><td>val_loss</td><td>█▃▂▁▁▁▁▁▁▁▁▁▁▁▁▁▁▁▁▁▁▁▁▁▁▁▁▁▁▁▁▁▁▁▁▁▁▁▁▁</td></tr></table><br/></div><div class=\"wandb-col\"><h3>Run summary:</h3><br/><table class=\"wandb\"><tr><td>accuracy</td><td>0.94967</td></tr><tr><td>best_epoch</td><td>80</td></tr><tr><td>best_val_loss</td><td>0.01162</td></tr><tr><td>epoch</td><td>89</td></tr><tr><td>loss</td><td>0.0116</td></tr><tr><td>lr</td><td>3e-05</td></tr><tr><td>val_accuracy</td><td>0.94944</td></tr><tr><td>val_loss</td><td>0.01163</td></tr></table><br/></div></div>"
      ],
      "text/plain": [
       "<IPython.core.display.HTML object>"
      ]
     },
     "metadata": {},
     "output_type": "display_data"
    },
    {
     "data": {
      "text/html": [
       " View run <strong style=\"color:#cdcd00\">eager-music-21</strong> at: <a href='https://wandb.ai/ganmaster/dnn_fine_tune/runs/m38bd9rl' target=\"_blank\">https://wandb.ai/ganmaster/dnn_fine_tune/runs/m38bd9rl</a><br/>Synced 6 W&B file(s), 1 media file(s), 125 artifact file(s) and 1 other file(s)"
      ],
      "text/plain": [
       "<IPython.core.display.HTML object>"
      ]
     },
     "metadata": {},
     "output_type": "display_data"
    },
    {
     "data": {
      "text/html": [
       "Find logs at: <code>.\\wandb\\run-20231204_073222-m38bd9rl\\logs</code>"
      ],
      "text/plain": [
       "<IPython.core.display.HTML object>"
      ]
     },
     "metadata": {},
     "output_type": "display_data"
    },
    {
     "data": {
      "text/html": [
       "Successfully finished last run (ID:m38bd9rl). Initializing new run:<br/>"
      ],
      "text/plain": [
       "<IPython.core.display.HTML object>"
      ]
     },
     "metadata": {},
     "output_type": "display_data"
    },
    {
     "data": {
      "text/html": [
       "Tracking run with wandb version 0.16.0"
      ],
      "text/plain": [
       "<IPython.core.display.HTML object>"
      ]
     },
     "metadata": {},
     "output_type": "display_data"
    },
    {
     "data": {
      "text/html": [
       "Run data is saved locally in <code>C:\\Users\\Momrez\\Downloads\\Osman\\cyber security Edge-IIoTset\\wandb\\run-20231204_081204-nn55rhpc</code>"
      ],
      "text/plain": [
       "<IPython.core.display.HTML object>"
      ]
     },
     "metadata": {},
     "output_type": "display_data"
    },
    {
     "data": {
      "text/html": [
       "Syncing run <strong><a href='https://wandb.ai/ganmaster/dnn_fine_tune_validate/runs/nn55rhpc' target=\"_blank\">efficient-capybara-3</a></strong> to <a href='https://wandb.ai/ganmaster/dnn_fine_tune_validate' target=\"_blank\">Weights & Biases</a> (<a href='https://wandb.me/run' target=\"_blank\">docs</a>)<br/>"
      ],
      "text/plain": [
       "<IPython.core.display.HTML object>"
      ]
     },
     "metadata": {},
     "output_type": "display_data"
    },
    {
     "data": {
      "text/html": [
       " View project at <a href='https://wandb.ai/ganmaster/dnn_fine_tune_validate' target=\"_blank\">https://wandb.ai/ganmaster/dnn_fine_tune_validate</a>"
      ],
      "text/plain": [
       "<IPython.core.display.HTML object>"
      ]
     },
     "metadata": {},
     "output_type": "display_data"
    },
    {
     "data": {
      "text/html": [
       " View run at <a href='https://wandb.ai/ganmaster/dnn_fine_tune_validate/runs/nn55rhpc' target=\"_blank\">https://wandb.ai/ganmaster/dnn_fine_tune_validate/runs/nn55rhpc</a>"
      ],
      "text/plain": [
       "<IPython.core.display.HTML object>"
      ]
     },
     "metadata": {},
     "output_type": "display_data"
    },
    {
     "name": "stdout",
     "output_type": "stream",
     "text": [
      "14920/14920 [==============================] - 16s 1ms/step - loss: 0.0116 - accuracy: 0.9494\n",
      "14920/14920 [==============================] - 14s 955us/step\n",
      "Completed\n",
      "Time taken: 0:00:38.984517\n",
      "Validation score: 0.9494426267966436\n",
      "Evaluation score: [0.011626887135207653, 0.9494426250457764]\n",
      "Recall score: 0.9494426267966436\n",
      "Precision score: 0.9538557754609223\n",
      "F1 Measure score: 0.9470949424390542\n",
      "ROC-AUC score: 0.884299820661651\n"
     ]
    }
   ],
   "source": [
    "import datetime as dt\n",
    "from sklearn.metrics import accuracy_score, confusion_matrix, precision_score, recall_score, f1_score, roc_auc_score\n",
    "from sklearn import preprocessing\n",
    "import wandb\n",
    "\n",
    "# Log in to WandB\n",
    "wandb.login(key='8f0d6e889f9698caf1173751c1e03e59c7f70277')\n",
    "\n",
    "# Initialize WandB run\n",
    "wandb.init(project='dnn_fine_tune_validate')\n",
    "\n",
    "start = dt.datetime.now()\n",
    "\n",
    "escore = model.evaluate(X_test, y_test, batch_size=32)\n",
    "pred = model.predict(X_test)\n",
    "pred = np.argmax(pred,axis=1)\n",
    "y_eval = np.argmax(y_test,axis=1)\n",
    "\n",
    "score = metrics.accuracy_score(y_eval, pred)\n",
    "rscore = recall_score(y_eval, pred, average='weighted')\n",
    "ascore = precision_score(y_eval, pred, average='weighted')\n",
    "f1score= f1_score(y_eval, pred, average='weighted') #F1 = 2 * (precision * recall) / (precision + recall) for manual\n",
    "\n",
    "lb = preprocessing.LabelBinarizer()\n",
    "lb.fit(y_eval)\n",
    "y_eval = lb.transform(y_eval)\n",
    "pred = lb.transform(pred)\n",
    "roc_score = roc_auc_score(y_eval, pred)\n",
    "#roc_auc_socre = multiclass_roc_auc_score(y_eval, pred)\n",
    "\n",
    "print('Completed')\n",
    "print('Time taken:',dt.datetime.now()-start)\n",
    "\n",
    "print(\"Validation score: {}\".format(score))\n",
    "print(\"Evaluation score: {}\".format(escore))\n",
    "print(\"Recall score: {}\".format(rscore))\n",
    "print(\"Precision score: {}\".format(ascore))\n",
    "print(\"F1 Measure score: {}\".format(f1score))\n",
    "print(\"ROC-AUC score: {}\".format(roc_score))"
   ]
  },
  {
   "cell_type": "code",
   "execution_count": 17,
   "id": "34aa2ad8-f33d-437b-aa5c-b56a123beadd",
   "metadata": {},
   "outputs": [
    {
     "name": "stderr",
     "output_type": "stream",
     "text": [
      "\u001b[34m\u001b[1mwandb\u001b[0m: \u001b[33mWARNING\u001b[0m Calling wandb.login() after wandb.init() has no effect.\n"
     ]
    },
    {
     "data": {
      "image/png": "[encoded data removed]",
      "text/plain": [
       "<Figure size 1000x500 with 1 Axes>"
      ]
     },
     "metadata": {},
     "output_type": "display_data"
    },
    {
     "data": {
      "image/png": "[encoded data removed]",
      "text/plain": [
       "<Figure size 1000x500 with 1 Axes>"
      ]
     },
     "metadata": {},
     "output_type": "display_data"
    }
   ],
   "source": [
    "import wandb\n",
    "import matplotlib.pyplot as plt\n",
    "\n",
    "# Log in to WandB (if not already logged in)\n",
    "wandb.login(key='8f0d6e889f9698caf1173751c1e03e59c7f70277')\n",
    "\n",
    "# Initialize WandB run\n",
    "run_path = \"ganmaster/dnn_fine_tune/3hnt8aem\"\n",
    "api = wandb.Api()\n",
    "run = api.run(run_path)\n",
    "\n",
    "# Access logged metrics\n",
    "history = run.scan_history()\n",
    "\n",
    "# Plot accuracy and val_accuracy\n",
    "epochs = []\n",
    "train_accuracy = []\n",
    "val_accuracy = []\n",
    "\n",
    "for entry in history:\n",
    "    if 'accuracy' in entry:\n",
    "        epochs.append(entry['epoch'])\n",
    "        train_accuracy.append(entry['accuracy'])\n",
    "        val_accuracy.append(entry['val_accuracy'])\n",
    "\n",
    "plt.figure(figsize=(10, 5))\n",
    "plt.plot(epochs, train_accuracy, label='Training Accuracy')\n",
    "plt.plot(epochs, val_accuracy, label='Validation Accuracy')\n",
    "plt.title('Training and Validation Accuracy')\n",
    "plt.xlabel('Epoch')\n",
    "plt.ylabel('Accuracy')\n",
    "plt.legend()\n",
    "plt.savefig('accuracy_plot.png')  # Save the plot\n",
    "plt.show()\n",
    "\n",
    "# Plot loss and val_loss\n",
    "train_loss = []\n",
    "val_loss = []\n",
    "\n",
    "for entry in history:\n",
    "    if 'loss' in entry:\n",
    "        train_loss.append(entry['loss'])\n",
    "        val_loss.append(entry['val_loss'])\n",
    "\n",
    "plt.figure(figsize=(10, 5))\n",
    "plt.plot(epochs, train_loss, label='Training Loss')\n",
    "plt.plot(epochs, val_loss, label='Validation Loss')\n",
    "plt.title('Training and Validation Loss')\n",
    "plt.xlabel('Epoch')\n",
    "plt.ylabel('Loss')\n",
    "plt.legend()\n",
    "plt.savefig('loss_plot.png')  # Save the plot\n",
    "plt.show()\n"
   ]
  },
  {
   "cell_type": "code",
   "execution_count": 18,
   "id": "e897c1b3-5a5a-44a3-bbcf-7c94202f38ee",
   "metadata": {},
   "outputs": [
    {
     "name": "stdout",
     "output_type": "stream",
     "text": [
      "14920/14920 [==============================] - 16s 1ms/step - loss: 0.0116 - accuracy: 0.9494\n",
      "14920/14920 [==============================] - 14s 969us/step\n"
     ]
    },
    {
     "data": {
      "image/png": "[encoded data removed]",
      "text/plain": [
       "<Figure size 1000x800 with 2 Axes>"
      ]
     },
     "metadata": {},
     "output_type": "display_data"
    },
    {
     "name": "stdout",
     "output_type": "stream",
     "text": [
      "Evaluation score: [0.011626887135207653, 0.9494426250457764]\n",
      "Precision: 0.9538557754609223\n",
      "Recall: 0.9494426267966436\n",
      "F1 Score: 0.9470949424390542\n",
      "ROC-AUC Score: 0.9962878582096791\n",
      "\n",
      "Classification Report:\n",
      "               precision    recall  f1-score   support\n",
      "\n",
      "           0       0.96      0.98      0.97      6089\n",
      "           1       0.74      0.95      0.83     12081\n",
      "           2       1.00      1.00      1.00     16981\n",
      "           3       0.82      1.00      0.90     12411\n",
      "           4       1.00      1.00      1.00     30444\n",
      "           5       0.66      0.51      0.57       221\n",
      "           6       1.00      1.00      1.00        88\n",
      "           7       1.00      1.00      1.00    341069\n",
      "           8       0.60      0.31      0.41     12458\n",
      "           9       1.00      0.49      0.66      4990\n",
      "          10       1.00      0.87      0.93      2452\n",
      "          11       0.47      0.79      0.59     12669\n",
      "          12       0.67      0.48      0.56      9079\n",
      "          13       1.00      0.84      0.91     12550\n",
      "          14       0.62      0.36      0.46      3836\n",
      "\n",
      "    accuracy                           0.95    477418\n",
      "   macro avg       0.83      0.77      0.79    477418\n",
      "weighted avg       0.95      0.95      0.95    477418\n",
      "\n"
     ]
    }
   ],
   "source": [
    "import seaborn as sns\n",
    "from sklearn.metrics import confusion_matrix, classification_report\n",
    "\n",
    "# ... (previous code remains unchanged)\n",
    "\n",
    "# Evaluate the model on the test set\n",
    "escore = model.evaluate(X_test, y_test, batch_size=32)\n",
    "pred = model.predict(X_test)\n",
    "pred_classes = np.argmax(pred, axis=1)\n",
    "y_eval_classes = np.argmax(y_test, axis=1)\n",
    "\n",
    "# Confusion matrix\n",
    "conf_mat = confusion_matrix(y_eval_classes, pred_classes)\n",
    "\n",
    "# Plot the confusion matrix using seaborn\n",
    "plt.figure(figsize=(10, 8))\n",
    "sns.heatmap(conf_mat, annot=True, fmt='d', cmap='Blues', xticklabels=[str(i) for i in range(n_classes)], yticklabels=[str(i) for i in range(n_classes)])\n",
    "plt.xlabel('Predicted')\n",
    "plt.ylabel('True')\n",
    "plt.title('Confusion Matrix')\n",
    "plt.show()\n",
    "\n",
    "# Classification report\n",
    "class_report = classification_report(y_eval_classes, pred_classes)\n",
    "\n",
    "# Additional metrics\n",
    "precision = precision_score(y_eval_classes, pred_classes, average='weighted')\n",
    "recall = recall_score(y_eval_classes, pred_classes, average='weighted')\n",
    "f1 = f1_score(y_eval_classes, pred_classes, average='weighted')\n",
    "roc_auc = roc_auc_score(y_test, pred, multi_class='ovr')\n",
    "\n",
    "print('Evaluation score:', escore)\n",
    "print('Precision:', precision)\n",
    "print('Recall:', recall)\n",
    "print('F1 Score:', f1)\n",
    "print('ROC-AUC Score:', roc_auc)\n",
    "print('\\nClassification Report:\\n', class_report)\n"
   ]
  },
  {
   "cell_type": "code",
   "execution_count": 19,
   "id": "b2dad74c-beea-4228-b21c-a48c412e2c8a",
   "metadata": {},
   "outputs": [],
   "source": [
    "# from imblearn.over_sampling import SMOTE\n",
    "# from sklearn.model_selection import train_test_split\n",
    "# from sklearn.preprocessing import OneHotEncoder, StandardScaler, LabelEncoder\n",
    "\n",
    "# # Resample with SMOTE\n",
    "# smote = SMOTE(random_state=42)\n",
    "# X_resampled, y_resampled = smote.fit_resample(X_scaled,y)\n",
    "\n",
    "# # Split the resampled data set into training and testing with stratification\n",
    "# X_train1, X_test1, y_train1, y_test1 = train_test_split(\n",
    "#     X_resampled, y_resampled, test_size=0.25, random_state=2, shuffle=True, stratify=y_resampled\n",
    "# )\n"
   ]
  },
  {
   "cell_type": "code",
   "execution_count": 10,
   "id": "81d2dbc4-bc82-46af-81bd-58216a26ab29",
   "metadata": {},
   "outputs": [
    {
     "name": "stdout",
     "output_type": "stream",
     "text": [
      "(15348120, 91) (15348120, 15)\n"
     ]
    }
   ],
   "source": [
    "from imblearn.over_sampling import SMOTE\n",
    "\n",
    "# Apply SMOTE to the training data only\n",
    "smote = SMOTE(random_state=42)\n",
    "X_train_resampled, y_train_resampled = smote.fit_resample(X_train, y_train)\n",
    "\n",
    "# Check the shape of the resampled data\n",
    "print(X_train_resampled.shape, y_train_resampled.shape)\n"
   ]
  },
  {
   "cell_type": "code",
   "execution_count": 11,
   "id": "08d6ce15-ba64-4352-9d47-aaa008469467",
   "metadata": {},
   "outputs": [
    {
     "data": {
      "image/png": "[encoded data removed]",
      "text/plain": [
       "<Figure size 1200x600 with 2 Axes>"
      ]
     },
     "metadata": {},
     "output_type": "display_data"
    }
   ],
   "source": [
    "import matplotlib.pyplot as plt\n",
    "import numpy as np\n",
    "\n",
    "# Count the number of samples in each class before and after SMOTE\n",
    "original_class_counts = np.sum(y_train, axis=0)\n",
    "resampled_class_counts = np.sum(y_train_resampled, axis=0)\n",
    "\n",
    "# Define class labels\n",
    "class_labels = [f'C {i+1}' for i in range(n_classes)]\n",
    "\n",
    "# Plot the bar graph for the original class distribution\n",
    "plt.figure(figsize=(12, 6))\n",
    "plt.subplot(1, 2, 1)\n",
    "plt.bar(class_labels, original_class_counts, color='blue', alpha=0.7)\n",
    "plt.xlabel('Class')\n",
    "plt.ylabel('Number of Samples')\n",
    "plt.title('Original Class Distribution')\n",
    "\n",
    "# Plot the bar graph for the class distribution after SMOTE\n",
    "plt.subplot(1, 2, 2)\n",
    "plt.bar(class_labels, resampled_class_counts, color='orange', alpha=0.7)\n",
    "plt.xlabel('Class')\n",
    "plt.ylabel('Number of Samples')\n",
    "plt.title('Class Distribution After SMOTE')\n",
    "\n",
    "plt.tight_layout()\n",
    "plt.show()\n"
   ]
  },
  {
   "cell_type": "code",
   "execution_count": 12,
   "id": "afc6d9e7-de0a-41cb-b172-4daaaf797f35",
   "metadata": {
    "scrolled": true
   },
   "outputs": [
    {
     "name": "stdout",
     "output_type": "stream",
     "text": [
      "Num GPUs Available:  0\n"
     ]
    },
    {
     "name": "stderr",
     "output_type": "stream",
     "text": [
      "\u001b[34m\u001b[1mwandb\u001b[0m: Currently logged in as: \u001b[33mogoni202046\u001b[0m (\u001b[33mganmaster\u001b[0m). Use \u001b[1m`wandb login --relogin`\u001b[0m to force relogin\n",
      "\u001b[34m\u001b[1mwandb\u001b[0m: \u001b[33mWARNING\u001b[0m If you're specifying your api key in code, ensure this code is not shared publicly.\n",
      "\u001b[34m\u001b[1mwandb\u001b[0m: \u001b[33mWARNING\u001b[0m Consider setting the WANDB_API_KEY environment variable, or running `wandb login` from the command line.\n",
      "\u001b[34m\u001b[1mwandb\u001b[0m: Appending key for api.wandb.ai to your netrc file: C:\\Users\\Momrez/.netrc\n"
     ]
    },
    {
     "name": "stdout",
     "output_type": "stream",
     "text": [
      "Problem at: C:\\Users\\Momrez\\anaconda3\\envs\\new\\Lib\\site-packages\\wandb\\sdk\\wandb_init.py 848 getcaller\n"
     ]
    },
    {
     "ename": "KeyboardInterrupt",
     "evalue": "",
     "output_type": "error",
     "traceback": [
      "\u001b[1;31m---------------------------------------------------------------------------\u001b[0m",
      "\u001b[1;31mKeyboardInterrupt\u001b[0m                         Traceback (most recent call last)",
      "Cell \u001b[1;32mIn[12], line 17\u001b[0m\n\u001b[0;32m     14\u001b[0m wandb\u001b[38;5;241m.\u001b[39mlogin(key\u001b[38;5;241m=\u001b[39m\u001b[38;5;124m'\u001b[39m\u001b[38;5;124m8f0d6e889f9698caf1173751c1e03e59c7f70277\u001b[39m\u001b[38;5;124m'\u001b[39m)\n\u001b[0;32m     16\u001b[0m \u001b[38;5;66;03m# Initialize WandB run\u001b[39;00m\n\u001b[1;32m---> 17\u001b[0m wandb\u001b[38;5;241m.\u001b[39minit(project\u001b[38;5;241m=\u001b[39m\u001b[38;5;124m'\u001b[39m\u001b[38;5;124mdnn_fine_tune_smote\u001b[39m\u001b[38;5;124m'\u001b[39m)\n\u001b[0;32m     19\u001b[0m \u001b[38;5;66;03m# Simple 4 Layer Dense Model\u001b[39;00m\n\u001b[0;32m     20\u001b[0m model \u001b[38;5;241m=\u001b[39m Sequential()\n",
      "File \u001b[1;32m~\\anaconda3\\envs\\new\\Lib\\site-packages\\wandb\\sdk\\wandb_init.py:1189\u001b[0m, in \u001b[0;36minit\u001b[1;34m(job_type, dir, config, project, entity, reinit, tags, group, name, notes, magic, config_exclude_keys, config_include_keys, anonymous, mode, allow_val_change, resume, force, tensorboard, sync_tensorboard, monitor_gym, save_code, id, settings)\u001b[0m\n\u001b[0;32m   1187\u001b[0m     \u001b[38;5;28;01massert\u001b[39;00m logger\n\u001b[0;32m   1188\u001b[0m     logger\u001b[38;5;241m.\u001b[39mwarning(\u001b[38;5;124m\"\u001b[39m\u001b[38;5;124minterrupted\u001b[39m\u001b[38;5;124m\"\u001b[39m, exc_info\u001b[38;5;241m=\u001b[39me)\n\u001b[1;32m-> 1189\u001b[0m     \u001b[38;5;28;01mraise\u001b[39;00m e\n\u001b[0;32m   1190\u001b[0m \u001b[38;5;28;01mexcept\u001b[39;00m \u001b[38;5;167;01mException\u001b[39;00m \u001b[38;5;28;01mas\u001b[39;00m e:\n\u001b[0;32m   1191\u001b[0m     error_seen \u001b[38;5;241m=\u001b[39m e\n",
      "File \u001b[1;32m~\\anaconda3\\envs\\new\\Lib\\site-packages\\wandb\\sdk\\wandb_init.py:1166\u001b[0m, in \u001b[0;36minit\u001b[1;34m(job_type, dir, config, project, entity, reinit, tags, group, name, notes, magic, config_exclude_keys, config_include_keys, anonymous, mode, allow_val_change, resume, force, tensorboard, sync_tensorboard, monitor_gym, save_code, id, settings)\u001b[0m\n\u001b[0;32m   1164\u001b[0m except_exit \u001b[38;5;241m=\u001b[39m wi\u001b[38;5;241m.\u001b[39msettings\u001b[38;5;241m.\u001b[39m_except_exit\n\u001b[0;32m   1165\u001b[0m \u001b[38;5;28;01mtry\u001b[39;00m:\n\u001b[1;32m-> 1166\u001b[0m     run \u001b[38;5;241m=\u001b[39m wi\u001b[38;5;241m.\u001b[39minit()\n\u001b[0;32m   1167\u001b[0m     except_exit \u001b[38;5;241m=\u001b[39m wi\u001b[38;5;241m.\u001b[39msettings\u001b[38;5;241m.\u001b[39m_except_exit\n\u001b[0;32m   1168\u001b[0m \u001b[38;5;28;01mexcept\u001b[39;00m (\u001b[38;5;167;01mKeyboardInterrupt\u001b[39;00m, \u001b[38;5;167;01mException\u001b[39;00m) \u001b[38;5;28;01mas\u001b[39;00m e:\n",
      "File \u001b[1;32m~\\anaconda3\\envs\\new\\Lib\\site-packages\\wandb\\sdk\\wandb_init.py:752\u001b[0m, in \u001b[0;36m_WandbInit.init\u001b[1;34m(self)\u001b[0m\n\u001b[0;32m    749\u001b[0m logger\u001b[38;5;241m.\u001b[39minfo(\u001b[38;5;124mf\u001b[39m\u001b[38;5;124m\"\u001b[39m\u001b[38;5;124mcommunicating run to backend with \u001b[39m\u001b[38;5;132;01m{\u001b[39;00mtimeout\u001b[38;5;132;01m}\u001b[39;00m\u001b[38;5;124m second timeout\u001b[39m\u001b[38;5;124m\"\u001b[39m)\n\u001b[0;32m    751\u001b[0m run_init_handle \u001b[38;5;241m=\u001b[39m backend\u001b[38;5;241m.\u001b[39minterface\u001b[38;5;241m.\u001b[39mdeliver_run(run)\n\u001b[1;32m--> 752\u001b[0m result \u001b[38;5;241m=\u001b[39m run_init_handle\u001b[38;5;241m.\u001b[39mwait(\n\u001b[0;32m    753\u001b[0m     timeout\u001b[38;5;241m=\u001b[39mtimeout,\n\u001b[0;32m    754\u001b[0m     on_progress\u001b[38;5;241m=\u001b[39m\u001b[38;5;28mself\u001b[39m\u001b[38;5;241m.\u001b[39m_on_progress_init,\n\u001b[0;32m    755\u001b[0m     cancel\u001b[38;5;241m=\u001b[39m\u001b[38;5;28;01mTrue\u001b[39;00m,\n\u001b[0;32m    756\u001b[0m )\n\u001b[0;32m    757\u001b[0m \u001b[38;5;28;01mif\u001b[39;00m result:\n\u001b[0;32m    758\u001b[0m     run_result \u001b[38;5;241m=\u001b[39m result\u001b[38;5;241m.\u001b[39mrun_result\n",
      "File \u001b[1;32m~\\anaconda3\\envs\\new\\Lib\\site-packages\\wandb\\sdk\\lib\\mailbox.py:283\u001b[0m, in \u001b[0;36mMailboxHandle.wait\u001b[1;34m(self, timeout, on_probe, on_progress, release, cancel)\u001b[0m\n\u001b[0;32m    280\u001b[0m     \u001b[38;5;28;01mif\u001b[39;00m \u001b[38;5;28mself\u001b[39m\u001b[38;5;241m.\u001b[39m_interface\u001b[38;5;241m.\u001b[39m_transport_keepalive_failed():\n\u001b[0;32m    281\u001b[0m         \u001b[38;5;28;01mraise\u001b[39;00m MailboxError(\u001b[38;5;124m\"\u001b[39m\u001b[38;5;124mtransport failed\u001b[39m\u001b[38;5;124m\"\u001b[39m)\n\u001b[1;32m--> 283\u001b[0m found, abandoned \u001b[38;5;241m=\u001b[39m \u001b[38;5;28mself\u001b[39m\u001b[38;5;241m.\u001b[39m_slot\u001b[38;5;241m.\u001b[39m_get_and_clear(timeout\u001b[38;5;241m=\u001b[39mwait_timeout)\n\u001b[0;32m    284\u001b[0m \u001b[38;5;28;01mif\u001b[39;00m found:\n\u001b[0;32m    285\u001b[0m     \u001b[38;5;66;03m# Always update progress to 100% when done\u001b[39;00m\n\u001b[0;32m    286\u001b[0m     \u001b[38;5;28;01mif\u001b[39;00m on_progress \u001b[38;5;129;01mand\u001b[39;00m progress_handle \u001b[38;5;129;01mand\u001b[39;00m progress_sent:\n",
      "File \u001b[1;32m~\\anaconda3\\envs\\new\\Lib\\site-packages\\wandb\\sdk\\lib\\mailbox.py:130\u001b[0m, in \u001b[0;36m_MailboxSlot._get_and_clear\u001b[1;34m(self, timeout)\u001b[0m\n\u001b[0;32m    128\u001b[0m \u001b[38;5;28;01mdef\u001b[39;00m \u001b[38;5;21m_get_and_clear\u001b[39m(\u001b[38;5;28mself\u001b[39m, timeout: \u001b[38;5;28mfloat\u001b[39m) \u001b[38;5;241m-\u001b[39m\u001b[38;5;241m>\u001b[39m Tuple[Optional[pb\u001b[38;5;241m.\u001b[39mResult], \u001b[38;5;28mbool\u001b[39m]:\n\u001b[0;32m    129\u001b[0m     found \u001b[38;5;241m=\u001b[39m \u001b[38;5;28;01mNone\u001b[39;00m\n\u001b[1;32m--> 130\u001b[0m     \u001b[38;5;28;01mif\u001b[39;00m \u001b[38;5;28mself\u001b[39m\u001b[38;5;241m.\u001b[39m_wait(timeout\u001b[38;5;241m=\u001b[39mtimeout):\n\u001b[0;32m    131\u001b[0m         \u001b[38;5;28;01mwith\u001b[39;00m \u001b[38;5;28mself\u001b[39m\u001b[38;5;241m.\u001b[39m_lock:\n\u001b[0;32m    132\u001b[0m             found \u001b[38;5;241m=\u001b[39m \u001b[38;5;28mself\u001b[39m\u001b[38;5;241m.\u001b[39m_result\n",
      "File \u001b[1;32m~\\anaconda3\\envs\\new\\Lib\\site-packages\\wandb\\sdk\\lib\\mailbox.py:126\u001b[0m, in \u001b[0;36m_MailboxSlot._wait\u001b[1;34m(self, timeout)\u001b[0m\n\u001b[0;32m    125\u001b[0m \u001b[38;5;28;01mdef\u001b[39;00m \u001b[38;5;21m_wait\u001b[39m(\u001b[38;5;28mself\u001b[39m, timeout: \u001b[38;5;28mfloat\u001b[39m) \u001b[38;5;241m-\u001b[39m\u001b[38;5;241m>\u001b[39m \u001b[38;5;28mbool\u001b[39m:\n\u001b[1;32m--> 126\u001b[0m     \u001b[38;5;28;01mreturn\u001b[39;00m \u001b[38;5;28mself\u001b[39m\u001b[38;5;241m.\u001b[39m_event\u001b[38;5;241m.\u001b[39mwait(timeout\u001b[38;5;241m=\u001b[39mtimeout)\n",
      "File \u001b[1;32m~\\anaconda3\\envs\\new\\Lib\\threading.py:622\u001b[0m, in \u001b[0;36mEvent.wait\u001b[1;34m(self, timeout)\u001b[0m\n\u001b[0;32m    620\u001b[0m signaled \u001b[38;5;241m=\u001b[39m \u001b[38;5;28mself\u001b[39m\u001b[38;5;241m.\u001b[39m_flag\n\u001b[0;32m    621\u001b[0m \u001b[38;5;28;01mif\u001b[39;00m \u001b[38;5;129;01mnot\u001b[39;00m signaled:\n\u001b[1;32m--> 622\u001b[0m     signaled \u001b[38;5;241m=\u001b[39m \u001b[38;5;28mself\u001b[39m\u001b[38;5;241m.\u001b[39m_cond\u001b[38;5;241m.\u001b[39mwait(timeout)\n\u001b[0;32m    623\u001b[0m \u001b[38;5;28;01mreturn\u001b[39;00m signaled\n",
      "File \u001b[1;32m~\\anaconda3\\envs\\new\\Lib\\threading.py:324\u001b[0m, in \u001b[0;36mCondition.wait\u001b[1;34m(self, timeout)\u001b[0m\n\u001b[0;32m    322\u001b[0m \u001b[38;5;28;01melse\u001b[39;00m:\n\u001b[0;32m    323\u001b[0m     \u001b[38;5;28;01mif\u001b[39;00m timeout \u001b[38;5;241m>\u001b[39m \u001b[38;5;241m0\u001b[39m:\n\u001b[1;32m--> 324\u001b[0m         gotit \u001b[38;5;241m=\u001b[39m waiter\u001b[38;5;241m.\u001b[39macquire(\u001b[38;5;28;01mTrue\u001b[39;00m, timeout)\n\u001b[0;32m    325\u001b[0m     \u001b[38;5;28;01melse\u001b[39;00m:\n\u001b[0;32m    326\u001b[0m         gotit \u001b[38;5;241m=\u001b[39m waiter\u001b[38;5;241m.\u001b[39macquire(\u001b[38;5;28;01mFalse\u001b[39;00m)\n",
      "\u001b[1;31mKeyboardInterrupt\u001b[0m: "
     ]
    }
   ],
   "source": [
    "from tensorflow.keras.callbacks import EarlyStopping, ReduceLROnPlateau, LearningRateScheduler\n",
    "import wandb\n",
    "\n",
    "\n",
    "# Check GPU availability\n",
    "print(\"Num GPUs Available: \", len(tf.config.experimental.list_physical_devices('GPU')))\n",
    "\n",
    "# Set GPU configuration\n",
    "gpus = tf.config.experimental.list_physical_devices('GPU')\n",
    "if gpus:\n",
    "    tf.config.experimental.set_visible_devices(gpus[0], 'GPU')\n",
    "\n",
    "# Log in to WandB\n",
    "wandb.login(key='8f0d6e889f9698caf1173751c1e03e59c7f70277')\n",
    "\n",
    "# Initialize WandB run\n",
    "wandb.init(project='dnn_fine_tune_smote')\n",
    "\n",
    "# Simple 4 Layer Dense Model\n",
    "model = Sequential()\n",
    "model.add(Dense(128, input_dim=_features, activation='relu'))\n",
    "model.add(Dropout(0.1))\n",
    "model.add(Dense(256, activation='relu'))\n",
    "model.add(Dropout(0.1))\n",
    "model.add(Dense(128, activation='relu'))\n",
    "model.add(Dropout(0.1))\n",
    "model.add(Dense(96, kernel_initializer='normal'))\n",
    "model.add(Dense(n_classes, activation='softmax'))\n",
    "\n",
    "model.summary()\n",
    "\n",
    "# Compile the model\n",
    "opt = keras.optimizers.Adam(learning_rate=0.0001)\n",
    "model.compile(loss='binary_crossentropy', optimizer=opt, metrics=['accuracy'])\n",
    "\n",
    "# Define callbacks (including WandB callback)\n",
    "callbacks = [\n",
    "    EarlyStopping(monitor='loss', patience=15),\n",
    "    ReduceLROnPlateau(monitor='val_loss', factor=0.2, patience=3, min_lr=0.0001),\n",
    "    wandb.keras.WandbCallback()\n",
    "]\n",
    "\n",
    "# Learning rate schedule\n",
    "def lr_schedule(epoch):\n",
    "    if epoch < 40:\n",
    "        return 0.0004  # First 30 epochs with this learning rate\n",
    "    elif epoch < 70:\n",
    "        return 0.0004/4  # Next 30 epochs with a lower learning rate\n",
    "    else:\n",
    "        return 0.0004/8  # Last 30 epochs with an even lower learning rate\n",
    "\n",
    "lr_scheduler = LearningRateScheduler(lr_schedule)\n",
    "\n",
    "# Train the model with WandB logging and learning rate schedule\n",
    "history = model.fit(\n",
    "    X_train_resampled, y_train_resampled,\n",
    "    batch_size=256,\n",
    "    epochs=100,  # Total epochs for fine-tuning\n",
    "    verbose=True,\n",
    "    validation_data=(X_test, y_test),\n",
    "    callbacks=[callbacks, lr_scheduler]\n",
    ")"
   ]
  },
  {
   "cell_type": "code",
   "execution_count": 12,
   "id": "ef746bd9-6b1e-48fc-b2ea-301b749a1bf5",
   "metadata": {},
   "outputs": [
    {
     "name": "stderr",
     "output_type": "stream",
     "text": [
      "C:\\Users\\Momrez\\anaconda3\\envs\\new\\Lib\\site-packages\\keras\\src\\engine\\training.py:3103: UserWarning: You are saving your model as an HDF5 file via `model.save()`. This file format is considered legacy. We recommend using instead the native Keras format, e.g. `model.save('my_model.keras')`.\n",
      "  saving_api.save_model(\n"
     ]
    }
   ],
   "source": [
    "model.save('model3_dnn_smote.h5')"
   ]
  },
  {
   "cell_type": "code",
   "execution_count": 13,
   "id": "193e7ea5-dcc2-4b03-8a74-aaf24150aff1",
   "metadata": {},
   "outputs": [
    {
     "name": "stderr",
     "output_type": "stream",
     "text": [
      "\u001b[34m\u001b[1mwandb\u001b[0m: \u001b[33mWARNING\u001b[0m Calling wandb.login() after wandb.init() has no effect.\n"
     ]
    },
    {
     "data": {
      "text/html": [
       "Finishing last run (ID:58lgio1m) before initializing another..."
      ],
      "text/plain": [
       "<IPython.core.display.HTML object>"
      ]
     },
     "metadata": {},
     "output_type": "display_data"
    },
    {
     "data": {
      "text/html": [
       "<style>\n",
       "    table.wandb td:nth-child(1) { padding: 0 10px; text-align: left ; width: auto;} td:nth-child(2) {text-align: left ; width: 100%}\n",
       "    .wandb-row { display: flex; flex-direction: row; flex-wrap: wrap; justify-content: flex-start; width: 100% }\n",
       "    .wandb-col { display: flex; flex-direction: column; flex-basis: 100%; flex: 1; padding: 10px; }\n",
       "    </style>\n",
       "<div class=\"wandb-row\"><div class=\"wandb-col\"><h3>Run history:</h3><br/><table class=\"wandb\"><tr><td>accuracy</td><td>▁▄▅▅▅▅▆▆▆▆▆▆▆▇▇▇▇▇██████████████████████</td></tr><tr><td>epoch</td><td>▁▁▁▁▂▂▂▂▂▃▃▃▃▃▃▄▄▄▄▄▅▅▅▅▅▅▆▆▆▆▆▇▇▇▇▇▇███</td></tr><tr><td>loss</td><td>█▄▄▃▃▃▃▃▃▃▂▂▂▂▂▂▁▁▁▁▂▁▁▁▁▁▂▂▁▁▁▁▁▁▁▁▁▁▁▁</td></tr><tr><td>lr</td><td>████████████████▂▂▂▂▂▂▂▂▂▂▂▂▁▁▁▁▁▁▁▁▁▁▁▁</td></tr><tr><td>val_accuracy</td><td>▁▂▃▃▃▃▂▅▅▆▅▄▄▅▅▆▆▆▆▇▆▇▇█▇▇▇▇▇▇▇▇█▇▇▇█▇▇▇</td></tr><tr><td>val_loss</td><td>▁▁▁▁▁▁▁█▁▁▁▁▁▁▁▁▁▁▁▁▁▁▁▁▁▁▁▁▁▁▁▁▁▁▁▁▁▁▁▁</td></tr></table><br/></div><div class=\"wandb-col\"><h3>Run summary:</h3><br/><table class=\"wandb\"><tr><td>accuracy</td><td>0.8317</td></tr><tr><td>best_epoch</td><td>58</td></tr><tr><td>best_val_loss</td><td>0.01262</td></tr><tr><td>epoch</td><td>99</td></tr><tr><td>loss</td><td>0.04007</td></tr><tr><td>lr</td><td>5e-05</td></tr><tr><td>val_accuracy</td><td>0.94049</td></tr><tr><td>val_loss</td><td>0.0129</td></tr></table><br/></div></div>"
      ],
      "text/plain": [
       "<IPython.core.display.HTML object>"
      ]
     },
     "metadata": {},
     "output_type": "display_data"
    },
    {
     "data": {
      "text/html": [
       " View run <strong style=\"color:#cdcd00\">fearless-violet-11</strong> at: <a href='https://wandb.ai/ganmaster/dnn_fine_tune_smote/runs/58lgio1m' target=\"_blank\">https://wandb.ai/ganmaster/dnn_fine_tune_smote/runs/58lgio1m</a><br/>Synced 6 W&B file(s), 1 media file(s), 25 artifact file(s) and 1 other file(s)"
      ],
      "text/plain": [
       "<IPython.core.display.HTML object>"
      ]
     },
     "metadata": {},
     "output_type": "display_data"
    },
    {
     "data": {
      "text/html": [
       "Find logs at: <code>.\\wandb\\run-20231205_232227-58lgio1m\\logs</code>"
      ],
      "text/plain": [
       "<IPython.core.display.HTML object>"
      ]
     },
     "metadata": {},
     "output_type": "display_data"
    },
    {
     "data": {
      "text/html": [
       "Successfully finished last run (ID:58lgio1m). Initializing new run:<br/>"
      ],
      "text/plain": [
       "<IPython.core.display.HTML object>"
      ]
     },
     "metadata": {},
     "output_type": "display_data"
    },
    {
     "data": {
      "text/html": [
       "wandb version 0.16.1 is available!  To upgrade, please run:\n",
       " $ pip install wandb --upgrade"
      ],
      "text/plain": [
       "<IPython.core.display.HTML object>"
      ]
     },
     "metadata": {},
     "output_type": "display_data"
    },
    {
     "data": {
      "text/html": [
       "Tracking run with wandb version 0.16.0"
      ],
      "text/plain": [
       "<IPython.core.display.HTML object>"
      ]
     },
     "metadata": {},
     "output_type": "display_data"
    },
    {
     "data": {
      "text/html": [
       "Run data is saved locally in <code>C:\\Users\\Momrez\\Downloads\\Osman\\cyber security Edge-IIoTset\\wandb\\run-20231206_051214-8k8j3njz</code>"
      ],
      "text/plain": [
       "<IPython.core.display.HTML object>"
      ]
     },
     "metadata": {},
     "output_type": "display_data"
    },
    {
     "data": {
      "text/html": [
       "Syncing run <strong><a href='https://wandb.ai/ganmaster/dnn_fine_tune_validate_smote/runs/8k8j3njz' target=\"_blank\">brisk-forest-4</a></strong> to <a href='https://wandb.ai/ganmaster/dnn_fine_tune_validate_smote' target=\"_blank\">Weights & Biases</a> (<a href='https://wandb.me/run' target=\"_blank\">docs</a>)<br/>"
      ],
      "text/plain": [
       "<IPython.core.display.HTML object>"
      ]
     },
     "metadata": {},
     "output_type": "display_data"
    },
    {
     "data": {
      "text/html": [
       " View project at <a href='https://wandb.ai/ganmaster/dnn_fine_tune_validate_smote' target=\"_blank\">https://wandb.ai/ganmaster/dnn_fine_tune_validate_smote</a>"
      ],
      "text/plain": [
       "<IPython.core.display.HTML object>"
      ]
     },
     "metadata": {},
     "output_type": "display_data"
    },
    {
     "data": {
      "text/html": [
       " View run at <a href='https://wandb.ai/ganmaster/dnn_fine_tune_validate_smote/runs/8k8j3njz' target=\"_blank\">https://wandb.ai/ganmaster/dnn_fine_tune_validate_smote/runs/8k8j3njz</a>"
      ],
      "text/plain": [
       "<IPython.core.display.HTML object>"
      ]
     },
     "metadata": {},
     "output_type": "display_data"
    },
    {
     "name": "stdout",
     "output_type": "stream",
     "text": [
      "14920/14920 [==============================] - 14s 968us/step - loss: 0.0129 - accuracy: 0.9405\n",
      "14920/14920 [==============================] - 13s 869us/step\n",
      "14920/14920 [==============================] - 14s 956us/step - loss: 0.0129 - accuracy: 0.9405\n",
      "14920/14920 [==============================] - 13s 871us/step\n"
     ]
    },
    {
     "data": {
      "image/png": "[encoded data removed]",
      "text/plain": [
       "<Figure size 1000x800 with 2 Axes>"
      ]
     },
     "metadata": {},
     "output_type": "display_data"
    },
    {
     "name": "stdout",
     "output_type": "stream",
     "text": [
      "Completed\n",
      "Time taken: 0:01:09.343161\n",
      "Validation score: 0.9404944932951836\n",
      "Evaluation score: [0.012895768508315086, 0.9404944777488708]\n",
      "Recall score: 0.9404944932951836\n",
      "Precision score: 0.9508739555137761\n",
      "F1 Measure score: 0.9431349957852393\n",
      "ROC-AUC score: 0.9004058181352088\n",
      "Evaluation score: [0.012895768508315086, 0.9404944777488708]\n",
      "Precision: 0.9508739555137761\n",
      "Recall: 0.9404944932951836\n",
      "F1 Score: 0.9431349957852393\n",
      "ROC-AUC Score: 0.996219855523595\n",
      "\n",
      "Classification Report:\n",
      "               precision    recall  f1-score   support\n",
      "\n",
      "           0       0.99      0.94      0.97      6089\n",
      "           1       0.90      0.64      0.75     12081\n",
      "           2       1.00      1.00      1.00     16981\n",
      "           3       0.91      0.70      0.79     12411\n",
      "           4       1.00      1.00      1.00     30444\n",
      "           5       0.17      0.78      0.28       221\n",
      "           6       1.00      1.00      1.00        88\n",
      "           7       1.00      1.00      1.00    341069\n",
      "           8       0.49      0.58      0.53     12458\n",
      "           9       0.54      0.81      0.65      4990\n",
      "          10       0.94      0.92      0.93      2452\n",
      "          11       0.52      0.48      0.50     12669\n",
      "          12       0.61      0.51      0.56      9079\n",
      "          13       1.00      0.84      0.91     12550\n",
      "          14       0.35      0.87      0.50      3836\n",
      "\n",
      "    accuracy                           0.94    477418\n",
      "   macro avg       0.76      0.80      0.76    477418\n",
      "weighted avg       0.95      0.94      0.94    477418\n",
      "\n"
     ]
    }
   ],
   "source": [
    "import datetime as dt\n",
    "from sklearn.metrics import accuracy_score, confusion_matrix, precision_score, recall_score, f1_score, roc_auc_score\n",
    "from sklearn import preprocessing\n",
    "import wandb\n",
    "import seaborn as sns\n",
    "from sklearn.metrics import confusion_matrix, classification_report\n",
    "\n",
    "# Log in to WandB\n",
    "wandb.login(key='8f0d6e889f9698caf1173751c1e03e59c7f70277')\n",
    "\n",
    "# Initialize WandB run\n",
    "wandb.init(project='dnn_fine_tune_validate_smote')\n",
    "\n",
    "start = dt.datetime.now()\n",
    "\n",
    "escore = model.evaluate(X_test, y_test, batch_size=32)\n",
    "pred = model.predict(X_test)\n",
    "pred = np.argmax(pred,axis=1)\n",
    "y_eval = np.argmax(y_test,axis=1)\n",
    "\n",
    "score = metrics.accuracy_score(y_eval, pred)\n",
    "rscore = recall_score(y_eval, pred, average='weighted')\n",
    "ascore = precision_score(y_eval, pred, average='weighted')\n",
    "f1score= f1_score(y_eval, pred, average='weighted') #F1 = 2 * (precision * recall) / (precision + recall) for manual\n",
    "\n",
    "lb = preprocessing.LabelBinarizer()\n",
    "lb.fit(y_eval)\n",
    "y_eval = lb.transform(y_eval)\n",
    "pred = lb.transform(pred)\n",
    "roc_score = roc_auc_score(y_eval, pred)\n",
    "#roc_auc_socre = multiclass_roc_auc_score(y_eval, pred)\n",
    "\n",
    "# Evaluate the model on the test set\n",
    "escore = model.evaluate(X_test, y_test, batch_size=32)\n",
    "pred = model.predict(X_test)\n",
    "pred_classes = np.argmax(pred, axis=1)\n",
    "y_eval_classes = np.argmax(y_test, axis=1)\n",
    "\n",
    "# Confusion matrix\n",
    "conf_mat = confusion_matrix(y_eval_classes, pred_classes)\n",
    "\n",
    "# Plot the confusion matrix using seaborn\n",
    "plt.figure(figsize=(10, 8))\n",
    "sns.heatmap(conf_mat, annot=True, fmt='d', cmap='Blues', xticklabels=[str(i) for i in range(n_classes)], yticklabels=[str(i) for i in range(n_classes)])\n",
    "plt.xlabel('Predicted')\n",
    "plt.ylabel('True')\n",
    "plt.title('Confusion Matrix')\n",
    "plt.show()\n",
    "\n",
    "# Classification report\n",
    "class_report = classification_report(y_eval_classes, pred_classes)\n",
    "\n",
    "# Additional metrics\n",
    "precision = precision_score(y_eval_classes, pred_classes, average='weighted')\n",
    "recall = recall_score(y_eval_classes, pred_classes, average='weighted')\n",
    "f1 = f1_score(y_eval_classes, pred_classes, average='weighted')\n",
    "roc_auc = roc_auc_score(y_test, pred, multi_class='ovr')\n",
    "\n",
    "print('Completed')\n",
    "print('Time taken:',dt.datetime.now()-start)\n",
    "\n",
    "print(\"Validation score: {}\".format(score))\n",
    "print(\"Evaluation score: {}\".format(escore))\n",
    "print(\"Recall score: {}\".format(rscore))\n",
    "print(\"Precision score: {}\".format(ascore))\n",
    "print(\"F1 Measure score: {}\".format(f1score))\n",
    "print(\"ROC-AUC score: {}\".format(roc_score))\n",
    "\n",
    "# New metrics\n",
    "print('Evaluation score:', escore)\n",
    "print('Precision:', precision)\n",
    "print('Recall:', recall)\n",
    "print('F1 Score:', f1)\n",
    "print('ROC-AUC Score:', roc_auc)\n",
    "print('\\nClassification Report:\\n', class_report)\n"
   ]
  },
  {
   "cell_type": "code",
   "execution_count": 17,
   "id": "326a0aa4-59f4-48b7-a0e4-7633473d2e6a",
   "metadata": {},
   "outputs": [
    {
     "name": "stdout",
     "output_type": "stream",
     "text": [
      "Categorical Features: ['Attack_type']\n"
     ]
    }
   ],
   "source": [
    "categorical_features = df.select_dtypes(include=['object']).columns.tolist()\n",
    "print(\"Categorical Features: {}\".format(categorical_features))\n"
   ]
  },
  {
   "cell_type": "code",
   "execution_count": 18,
   "id": "f1871842-b2d8-42b6-bbba-528c29a40411",
   "metadata": {},
   "outputs": [
    {
     "name": "stderr",
     "output_type": "stream",
     "text": [
      "C:\\Users\\Momrez\\anaconda3\\envs\\new\\Lib\\site-packages\\tqdm\\auto.py:21: TqdmWarning: IProgress not found. Please update jupyter and ipywidgets. See https://ipywidgets.readthedocs.io/en/stable/user_install.html\n",
      "  from .autonotebook import tqdm as notebook_tqdm\n",
      "Gen. (2.10) | Discrim. (0.76): 100%|██████████| 200/200 [22:19:25<00:00, 401.83s/it]     \n"
     ]
    }
   ],
   "source": [
    "from ctgan import CTGAN\n",
    "\n",
    "ctgan = CTGAN(verbose=True)\n",
    "ctgan.fit(df, categorical_features, epochs = 200)"
   ]
  },
  {
   "cell_type": "code",
   "execution_count": 19,
   "id": "93feaf74-23b8-41d9-b015-8c47b6e18246",
   "metadata": {},
   "outputs": [
    {
     "name": "stdout",
     "output_type": "stream",
     "text": [
      "CTGAN model saved successfully.\n"
     ]
    }
   ],
   "source": [
    "import pickle\n",
    "\n",
    "# Assuming 'ctgan' is already trained using the code you provided\n",
    "\n",
    "# Save the trained CTGAN model to a file\n",
    "with open('ctgan_model.pkl', 'wb') as model_file:\n",
    "    pickle.dump(ctgan, model_file)\n",
    "\n",
    "print(\"CTGAN model saved successfully.\")\n"
   ]
  },
  {
   "cell_type": "code",
   "execution_count": 1,
   "id": "5670a828-fb5a-42ea-b057-18c3eeb50b18",
   "metadata": {},
   "outputs": [],
   "source": [
    "import pandas as pd\n",
    "import numpy as np\n",
    "from matplotlib import pyplot as plt\n",
    "import seaborn as sns\n",
    "import pickle\n",
    "# Load the saved CTGAN model from a file\n",
    "with open('ctgan_model.pkl', 'rb') as model_file:\n",
    "    loaded_ctgan = pickle.load(model_file)\n",
    "\n",
    "# Now 'loaded_ctgan' contains the loaded CTGAN model\n"
   ]
  },
  {
   "cell_type": "code",
   "execution_count": 2,
   "id": "155d161d-68e9-4052-8a1b-a99fd0aec8af",
   "metadata": {},
   "outputs": [],
   "source": [
    "samples = loaded_ctgan.sample(3500000)"
   ]
  },
  {
   "cell_type": "code",
   "execution_count": 3,
   "id": "9272380b-4023-417c-9003-67e05bdb01e7",
   "metadata": {},
   "outputs": [],
   "source": [
    "samples.to_csv('preprocessed_DNN2_Gan.csv', encoding='utf-8', index=False)"
   ]
  },
  {
   "cell_type": "code",
   "execution_count": 13,
   "id": "b09b2ea6-219d-4bea-886c-03e08fe8aec3",
   "metadata": {},
   "outputs": [
    {
     "data": {
      "text/html": [
       "<div>\n",
       "<style scoped>\n",
       "    .dataframe tbody tr th:only-of-type {\n",
       "        vertical-align: middle;\n",
       "    }\n",
       "\n",
       "    .dataframe tbody tr th {\n",
       "        vertical-align: top;\n",
       "    }\n",
       "\n",
       "    .dataframe thead th {\n",
       "        text-align: right;\n",
       "    }\n",
       "</style>\n",
       "<table border=\"1\" class=\"dataframe\">\n",
       "  <thead>\n",
       "    <tr style=\"text-align: right;\">\n",
       "      <th></th>\n",
       "      <th>arp.opcode</th>\n",
       "      <th>arp.hw.size</th>\n",
       "      <th>icmp.checksum</th>\n",
       "      <th>icmp.seq_le</th>\n",
       "      <th>http.content_length</th>\n",
       "      <th>http.response</th>\n",
       "      <th>tcp.ack</th>\n",
       "      <th>tcp.ack_raw</th>\n",
       "      <th>tcp.checksum</th>\n",
       "      <th>tcp.connection.fin</th>\n",
       "      <th>...</th>\n",
       "      <th>mqtt.conack.flags-1471198</th>\n",
       "      <th>mqtt.conack.flags-1471199</th>\n",
       "      <th>mqtt.conack.flags-1574358</th>\n",
       "      <th>mqtt.conack.flags-1574359</th>\n",
       "      <th>mqtt.protoname-0</th>\n",
       "      <th>mqtt.protoname-0.0</th>\n",
       "      <th>mqtt.protoname-MQTT</th>\n",
       "      <th>mqtt.topic-0</th>\n",
       "      <th>mqtt.topic-0.0</th>\n",
       "      <th>mqtt.topic-Temperature_and_Humidity</th>\n",
       "    </tr>\n",
       "  </thead>\n",
       "  <tbody>\n",
       "    <tr>\n",
       "      <th>0</th>\n",
       "      <td>-0.000019</td>\n",
       "      <td>0.000034</td>\n",
       "      <td>1.408090</td>\n",
       "      <td>-9.241821</td>\n",
       "      <td>0.122246</td>\n",
       "      <td>-0.000332</td>\n",
       "      <td>-117782.552345</td>\n",
       "      <td>1.513673e+09</td>\n",
       "      <td>53955.835696</td>\n",
       "      <td>-0.000486</td>\n",
       "      <td>...</td>\n",
       "      <td>True</td>\n",
       "      <td>True</td>\n",
       "      <td>True</td>\n",
       "      <td>True</td>\n",
       "      <td>True</td>\n",
       "      <td>True</td>\n",
       "      <td>True</td>\n",
       "      <td>True</td>\n",
       "      <td>True</td>\n",
       "      <td>True</td>\n",
       "    </tr>\n",
       "    <tr>\n",
       "      <th>1</th>\n",
       "      <td>-0.000051</td>\n",
       "      <td>0.001010</td>\n",
       "      <td>-4.828265</td>\n",
       "      <td>0.358450</td>\n",
       "      <td>0.006022</td>\n",
       "      <td>-0.000540</td>\n",
       "      <td>166688.759912</td>\n",
       "      <td>1.896773e+09</td>\n",
       "      <td>46441.952145</td>\n",
       "      <td>0.000118</td>\n",
       "      <td>...</td>\n",
       "      <td>True</td>\n",
       "      <td>True</td>\n",
       "      <td>True</td>\n",
       "      <td>True</td>\n",
       "      <td>True</td>\n",
       "      <td>True</td>\n",
       "      <td>True</td>\n",
       "      <td>True</td>\n",
       "      <td>True</td>\n",
       "      <td>True</td>\n",
       "    </tr>\n",
       "    <tr>\n",
       "      <th>2</th>\n",
       "      <td>-0.000037</td>\n",
       "      <td>0.000076</td>\n",
       "      <td>-1.752366</td>\n",
       "      <td>-12.230753</td>\n",
       "      <td>0.008623</td>\n",
       "      <td>-0.000225</td>\n",
       "      <td>-730184.765627</td>\n",
       "      <td>2.314530e+09</td>\n",
       "      <td>56450.450148</td>\n",
       "      <td>-0.000798</td>\n",
       "      <td>...</td>\n",
       "      <td>True</td>\n",
       "      <td>True</td>\n",
       "      <td>True</td>\n",
       "      <td>True</td>\n",
       "      <td>True</td>\n",
       "      <td>True</td>\n",
       "      <td>True</td>\n",
       "      <td>True</td>\n",
       "      <td>True</td>\n",
       "      <td>True</td>\n",
       "    </tr>\n",
       "    <tr>\n",
       "      <th>3</th>\n",
       "      <td>-0.000852</td>\n",
       "      <td>0.000687</td>\n",
       "      <td>-5.573714</td>\n",
       "      <td>5.885318</td>\n",
       "      <td>-0.057382</td>\n",
       "      <td>-0.000646</td>\n",
       "      <td>-176383.851419</td>\n",
       "      <td>8.584967e+08</td>\n",
       "      <td>23780.230033</td>\n",
       "      <td>-0.000709</td>\n",
       "      <td>...</td>\n",
       "      <td>True</td>\n",
       "      <td>True</td>\n",
       "      <td>True</td>\n",
       "      <td>True</td>\n",
       "      <td>True</td>\n",
       "      <td>True</td>\n",
       "      <td>True</td>\n",
       "      <td>True</td>\n",
       "      <td>True</td>\n",
       "      <td>True</td>\n",
       "    </tr>\n",
       "    <tr>\n",
       "      <th>4</th>\n",
       "      <td>0.001046</td>\n",
       "      <td>0.000435</td>\n",
       "      <td>-1.585131</td>\n",
       "      <td>-12.213119</td>\n",
       "      <td>0.031667</td>\n",
       "      <td>-0.000132</td>\n",
       "      <td>-277310.516190</td>\n",
       "      <td>3.082191e+09</td>\n",
       "      <td>5067.520895</td>\n",
       "      <td>-0.000078</td>\n",
       "      <td>...</td>\n",
       "      <td>True</td>\n",
       "      <td>True</td>\n",
       "      <td>True</td>\n",
       "      <td>True</td>\n",
       "      <td>True</td>\n",
       "      <td>True</td>\n",
       "      <td>True</td>\n",
       "      <td>True</td>\n",
       "      <td>True</td>\n",
       "      <td>True</td>\n",
       "    </tr>\n",
       "    <tr>\n",
       "      <th>...</th>\n",
       "      <td>...</td>\n",
       "      <td>...</td>\n",
       "      <td>...</td>\n",
       "      <td>...</td>\n",
       "      <td>...</td>\n",
       "      <td>...</td>\n",
       "      <td>...</td>\n",
       "      <td>...</td>\n",
       "      <td>...</td>\n",
       "      <td>...</td>\n",
       "      <td>...</td>\n",
       "      <td>...</td>\n",
       "      <td>...</td>\n",
       "      <td>...</td>\n",
       "      <td>...</td>\n",
       "      <td>...</td>\n",
       "      <td>...</td>\n",
       "      <td>...</td>\n",
       "      <td>...</td>\n",
       "      <td>...</td>\n",
       "      <td>...</td>\n",
       "    </tr>\n",
       "    <tr>\n",
       "      <th>3499995</th>\n",
       "      <td>-0.000138</td>\n",
       "      <td>-0.000302</td>\n",
       "      <td>0.949070</td>\n",
       "      <td>-0.652015</td>\n",
       "      <td>-0.085409</td>\n",
       "      <td>-0.000560</td>\n",
       "      <td>515911.183820</td>\n",
       "      <td>1.461707e+08</td>\n",
       "      <td>53438.588347</td>\n",
       "      <td>-0.000521</td>\n",
       "      <td>...</td>\n",
       "      <td>True</td>\n",
       "      <td>True</td>\n",
       "      <td>True</td>\n",
       "      <td>True</td>\n",
       "      <td>True</td>\n",
       "      <td>True</td>\n",
       "      <td>True</td>\n",
       "      <td>True</td>\n",
       "      <td>True</td>\n",
       "      <td>True</td>\n",
       "    </tr>\n",
       "    <tr>\n",
       "      <th>3499996</th>\n",
       "      <td>0.000759</td>\n",
       "      <td>-0.000480</td>\n",
       "      <td>6.736571</td>\n",
       "      <td>-11.974173</td>\n",
       "      <td>0.049564</td>\n",
       "      <td>0.000039</td>\n",
       "      <td>-267118.110208</td>\n",
       "      <td>6.781586e+08</td>\n",
       "      <td>30334.079871</td>\n",
       "      <td>1.000677</td>\n",
       "      <td>...</td>\n",
       "      <td>True</td>\n",
       "      <td>True</td>\n",
       "      <td>True</td>\n",
       "      <td>True</td>\n",
       "      <td>True</td>\n",
       "      <td>True</td>\n",
       "      <td>True</td>\n",
       "      <td>True</td>\n",
       "      <td>True</td>\n",
       "      <td>True</td>\n",
       "    </tr>\n",
       "    <tr>\n",
       "      <th>3499997</th>\n",
       "      <td>0.000285</td>\n",
       "      <td>0.000056</td>\n",
       "      <td>-2.877747</td>\n",
       "      <td>-5.086408</td>\n",
       "      <td>0.006254</td>\n",
       "      <td>-0.000230</td>\n",
       "      <td>-35197.338887</td>\n",
       "      <td>2.060059e+09</td>\n",
       "      <td>35358.549326</td>\n",
       "      <td>-0.000434</td>\n",
       "      <td>...</td>\n",
       "      <td>True</td>\n",
       "      <td>True</td>\n",
       "      <td>True</td>\n",
       "      <td>True</td>\n",
       "      <td>True</td>\n",
       "      <td>True</td>\n",
       "      <td>True</td>\n",
       "      <td>True</td>\n",
       "      <td>True</td>\n",
       "      <td>True</td>\n",
       "    </tr>\n",
       "    <tr>\n",
       "      <th>3499998</th>\n",
       "      <td>0.000036</td>\n",
       "      <td>-0.000123</td>\n",
       "      <td>-4.613207</td>\n",
       "      <td>1.458200</td>\n",
       "      <td>0.062598</td>\n",
       "      <td>0.000687</td>\n",
       "      <td>216360.552777</td>\n",
       "      <td>6.594439e+05</td>\n",
       "      <td>36674.801521</td>\n",
       "      <td>0.000141</td>\n",
       "      <td>...</td>\n",
       "      <td>True</td>\n",
       "      <td>True</td>\n",
       "      <td>True</td>\n",
       "      <td>True</td>\n",
       "      <td>True</td>\n",
       "      <td>True</td>\n",
       "      <td>True</td>\n",
       "      <td>True</td>\n",
       "      <td>True</td>\n",
       "      <td>True</td>\n",
       "    </tr>\n",
       "    <tr>\n",
       "      <th>3499999</th>\n",
       "      <td>-0.000407</td>\n",
       "      <td>-0.000595</td>\n",
       "      <td>-4.521088</td>\n",
       "      <td>-9.501141</td>\n",
       "      <td>-0.030885</td>\n",
       "      <td>-0.000375</td>\n",
       "      <td>146180.505564</td>\n",
       "      <td>1.063690e+09</td>\n",
       "      <td>59015.299148</td>\n",
       "      <td>0.000875</td>\n",
       "      <td>...</td>\n",
       "      <td>True</td>\n",
       "      <td>True</td>\n",
       "      <td>True</td>\n",
       "      <td>True</td>\n",
       "      <td>True</td>\n",
       "      <td>True</td>\n",
       "      <td>True</td>\n",
       "      <td>True</td>\n",
       "      <td>True</td>\n",
       "      <td>True</td>\n",
       "    </tr>\n",
       "  </tbody>\n",
       "</table>\n",
       "<p>3500000 rows × 92 columns</p>\n",
       "</div>"
      ],
      "text/plain": [
       "         arp.opcode  arp.hw.size  icmp.checksum  icmp.seq_le  \\\n",
       "0         -0.000019     0.000034       1.408090    -9.241821   \n",
       "1         -0.000051     0.001010      -4.828265     0.358450   \n",
       "2         -0.000037     0.000076      -1.752366   -12.230753   \n",
       "3         -0.000852     0.000687      -5.573714     5.885318   \n",
       "4          0.001046     0.000435      -1.585131   -12.213119   \n",
       "...             ...          ...            ...          ...   \n",
       "3499995   -0.000138    -0.000302       0.949070    -0.652015   \n",
       "3499996    0.000759    -0.000480       6.736571   -11.974173   \n",
       "3499997    0.000285     0.000056      -2.877747    -5.086408   \n",
       "3499998    0.000036    -0.000123      -4.613207     1.458200   \n",
       "3499999   -0.000407    -0.000595      -4.521088    -9.501141   \n",
       "\n",
       "         http.content_length  http.response        tcp.ack   tcp.ack_raw  \\\n",
       "0                   0.122246      -0.000332 -117782.552345  1.513673e+09   \n",
       "1                   0.006022      -0.000540  166688.759912  1.896773e+09   \n",
       "2                   0.008623      -0.000225 -730184.765627  2.314530e+09   \n",
       "3                  -0.057382      -0.000646 -176383.851419  8.584967e+08   \n",
       "4                   0.031667      -0.000132 -277310.516190  3.082191e+09   \n",
       "...                      ...            ...            ...           ...   \n",
       "3499995            -0.085409      -0.000560  515911.183820  1.461707e+08   \n",
       "3499996             0.049564       0.000039 -267118.110208  6.781586e+08   \n",
       "3499997             0.006254      -0.000230  -35197.338887  2.060059e+09   \n",
       "3499998             0.062598       0.000687  216360.552777  6.594439e+05   \n",
       "3499999            -0.030885      -0.000375  146180.505564  1.063690e+09   \n",
       "\n",
       "         tcp.checksum  tcp.connection.fin  ...  mqtt.conack.flags-1471198  \\\n",
       "0        53955.835696           -0.000486  ...                       True   \n",
       "1        46441.952145            0.000118  ...                       True   \n",
       "2        56450.450148           -0.000798  ...                       True   \n",
       "3        23780.230033           -0.000709  ...                       True   \n",
       "4         5067.520895           -0.000078  ...                       True   \n",
       "...               ...                 ...  ...                        ...   \n",
       "3499995  53438.588347           -0.000521  ...                       True   \n",
       "3499996  30334.079871            1.000677  ...                       True   \n",
       "3499997  35358.549326           -0.000434  ...                       True   \n",
       "3499998  36674.801521            0.000141  ...                       True   \n",
       "3499999  59015.299148            0.000875  ...                       True   \n",
       "\n",
       "         mqtt.conack.flags-1471199  mqtt.conack.flags-1574358  \\\n",
       "0                             True                       True   \n",
       "1                             True                       True   \n",
       "2                             True                       True   \n",
       "3                             True                       True   \n",
       "4                             True                       True   \n",
       "...                            ...                        ...   \n",
       "3499995                       True                       True   \n",
       "3499996                       True                       True   \n",
       "3499997                       True                       True   \n",
       "3499998                       True                       True   \n",
       "3499999                       True                       True   \n",
       "\n",
       "         mqtt.conack.flags-1574359  mqtt.protoname-0  mqtt.protoname-0.0  \\\n",
       "0                             True              True                True   \n",
       "1                             True              True                True   \n",
       "2                             True              True                True   \n",
       "3                             True              True                True   \n",
       "4                             True              True                True   \n",
       "...                            ...               ...                 ...   \n",
       "3499995                       True              True                True   \n",
       "3499996                       True              True                True   \n",
       "3499997                       True              True                True   \n",
       "3499998                       True              True                True   \n",
       "3499999                       True              True                True   \n",
       "\n",
       "         mqtt.protoname-MQTT  mqtt.topic-0  mqtt.topic-0.0  \\\n",
       "0                       True          True            True   \n",
       "1                       True          True            True   \n",
       "2                       True          True            True   \n",
       "3                       True          True            True   \n",
       "4                       True          True            True   \n",
       "...                      ...           ...             ...   \n",
       "3499995                 True          True            True   \n",
       "3499996                 True          True            True   \n",
       "3499997                 True          True            True   \n",
       "3499998                 True          True            True   \n",
       "3499999                 True          True            True   \n",
       "\n",
       "         mqtt.topic-Temperature_and_Humidity  \n",
       "0                                       True  \n",
       "1                                       True  \n",
       "2                                       True  \n",
       "3                                       True  \n",
       "4                                       True  \n",
       "...                                      ...  \n",
       "3499995                                 True  \n",
       "3499996                                 True  \n",
       "3499997                                 True  \n",
       "3499998                                 True  \n",
       "3499999                                 True  \n",
       "\n",
       "[3500000 rows x 92 columns]"
      ]
     },
     "execution_count": 13,
     "metadata": {},
     "output_type": "execute_result"
    }
   ],
   "source": [
    "df2 = pd.read_csv('./preprocessed_DNN2_Gan.csv', low_memory=False) \n",
    "df2"
   ]
  },
  {
   "cell_type": "code",
   "execution_count": 14,
   "id": "4ea148b9-210a-4ffb-961d-4e41cc8de963",
   "metadata": {},
   "outputs": [
    {
     "name": "stdout",
     "output_type": "stream",
     "text": [
      "Read 3500000 rows.\n"
     ]
    }
   ],
   "source": [
    "empty_cols = [col for col in df2.columns if df2[col].isnull().all()]\n",
    "\n",
    "#drop na values and reset index\n",
    "data_clean = df2.dropna().reset_index()\n",
    "\n",
    "# Checkng for DUPLICATE values\n",
    "data_clean.drop_duplicates(keep='first', inplace = True)\n",
    "\n",
    "data_clean['Attack_type'].value_counts()\n",
    "\n",
    "print(\"Read {} rows.\".format(len(data_clean)))"
   ]
  },
  {
   "cell_type": "code",
   "execution_count": 15,
   "id": "d33094d3-94ce-4772-8bd8-29970a2e89ca",
   "metadata": {},
   "outputs": [],
   "source": [
    "from sklearn.model_selection import train_test_split\n",
    "from sklearn.preprocessing import OneHotEncoder, StandardScaler, LabelEncoder\n",
    "\n",
    "\n",
    "#drop na values and reset index\n",
    "data_clean = df2.dropna().reset_index()\n",
    "\n",
    "# label encoding\n",
    "labelencoder = LabelEncoder()\n",
    "data_clean['Attack_type'] = labelencoder.fit_transform(data_clean['Attack_type'])\n",
    "\n",
    "data_clean['Attack_type'].value_counts()\n",
    "\n",
    "data_np = data_clean.to_numpy(dtype=\"float32\")\n",
    "data_np = data_np[~np.isinf(data_np).any(axis=1)]\n",
    "\n",
    "#del df\n",
    "\n",
    "# Replace \"Attack_type\" with the actual column name you want to encode\n",
    "column_name_to_encode = \"Attack_type\"\n",
    "\n",
    "# Find the column number dynamically\n",
    "column_num_to_encode = df2.columns.get_loc(column_name_to_encode)\n",
    "\n",
    "# Extract features (X) from column 0 to 93 (excluding Attack_type)\n",
    "X2 = data_np[:, 0:column_num_to_encode]\n",
    "X2 = np.concatenate((X2, data_np[:, column_num_to_encode+2:93]), axis=1)\n",
    "\n",
    "# Use OneHotEncoder on the specified column\n",
    "enc = OneHotEncoder()\n",
    "y2 = enc.fit_transform(data_np[:, column_num_to_encode+1:column_num_to_encode+2]).toarray()"
   ]
  },
  {
   "cell_type": "code",
   "execution_count": 16,
   "id": "7f0d1722-db38-4041-a19c-981d10a2981e",
   "metadata": {},
   "outputs": [],
   "source": [
    "scaler = StandardScaler()\n",
    "X_scaled2 = scaler.fit_transform(X2)\n",
    "\n",
    "# Split the data set into training and testing\n",
    "# X_train2, X_test2, y_train2, y_test2 = train_test_split(\n",
    "#     X_scaled2, y2, test_size=0.01, random_state=2, shuffle=True)\n",
    "\n",
    "_features = X2.shape[1]\n",
    "n_classes = y2.shape[1]"
   ]
  },
  {
   "cell_type": "code",
   "execution_count": 17,
   "id": "202ea2e2-7327-4b3f-b4e5-f0092621cb95",
   "metadata": {},
   "outputs": [
    {
     "name": "stdout",
     "output_type": "stream",
     "text": [
      "(3500000, 91) (3500000, 15)\n"
     ]
    }
   ],
   "source": [
    "print(X_scaled2.shape,y2.shape)"
   ]
  },
  {
   "cell_type": "code",
   "execution_count": 18,
   "id": "827ea848-5a0e-45a7-9f6a-3a2583dba5b3",
   "metadata": {},
   "outputs": [
    {
     "name": "stdout",
     "output_type": "stream",
     "text": [
      "X_train2 shape: (4932253, 91)\n",
      "y_train2 shape: (4932253, 15)\n"
     ]
    }
   ],
   "source": [
    "import numpy as np\n",
    "X_train2 = np.concatenate((X_train, X_scaled2), axis=0)\n",
    "y_train2 = np.concatenate((y_train, y2), axis=0)\n",
    "\n",
    "print(\"X_train2 shape:\", X_train2.shape)\n",
    "print(\"y_train2 shape:\", y_train2.shape)\n"
   ]
  },
  {
   "cell_type": "code",
   "execution_count": 19,
   "id": "ad98386c-8e14-4a92-b16d-deb7c7fd2960",
   "metadata": {},
   "outputs": [
    {
     "data": {
      "image/png": "[encoded data removed]",
      "text/plain": [
       "<Figure size 600x600 with 1 Axes>"
      ]
     },
     "metadata": {},
     "output_type": "display_data"
    }
   ],
   "source": [
    "import matplotlib.pyplot as plt\n",
    "import numpy as np\n",
    "\n",
    "# Count the number of samples in each class before and after SMOTE\n",
    "original_class_counts = np.sum(y_train2, axis=0)\n",
    "\n",
    "# Define class labels\n",
    "class_labels = [f'C {i+1}' for i in range(n_classes)]\n",
    "\n",
    "# Plot the bar graph for the combined class distribution\n",
    "plt.figure(figsize=(6, 6))\n",
    "plt.bar(class_labels, original_class_counts, color='green', alpha=0.7)\n",
    "plt.xlabel('Class')\n",
    "plt.ylabel('Number of Samples')\n",
    "plt.title('Combined Class Distribution')\n",
    "\n",
    "plt.tight_layout()\n",
    "plt.show()\n"
   ]
  },
  {
   "cell_type": "code",
   "execution_count": 20,
   "id": "ba367bc3-f8ef-4fe7-82ff-96e3e1761481",
   "metadata": {
    "scrolled": true
   },
   "outputs": [
    {
     "name": "stderr",
     "output_type": "stream",
     "text": [
      "\u001b[34m\u001b[1mwandb\u001b[0m: Currently logged in as: \u001b[33mogoni202046\u001b[0m (\u001b[33mganmaster\u001b[0m). Use \u001b[1m`wandb login --relogin`\u001b[0m to force relogin\n",
      "\u001b[34m\u001b[1mwandb\u001b[0m: \u001b[33mWARNING\u001b[0m If you're specifying your api key in code, ensure this code is not shared publicly.\n",
      "\u001b[34m\u001b[1mwandb\u001b[0m: \u001b[33mWARNING\u001b[0m Consider setting the WANDB_API_KEY environment variable, or running `wandb login` from the command line.\n",
      "\u001b[34m\u001b[1mwandb\u001b[0m: Appending key for api.wandb.ai to your netrc file: C:\\Users\\Momrez/.netrc\n"
     ]
    },
    {
     "data": {
      "text/html": [
       "wandb version 0.16.1 is available!  To upgrade, please run:\n",
       " $ pip install wandb --upgrade"
      ],
      "text/plain": [
       "<IPython.core.display.HTML object>"
      ]
     },
     "metadata": {},
     "output_type": "display_data"
    },
    {
     "data": {
      "text/html": [
       "Tracking run with wandb version 0.16.0"
      ],
      "text/plain": [
       "<IPython.core.display.HTML object>"
      ]
     },
     "metadata": {},
     "output_type": "display_data"
    },
    {
     "data": {
      "text/html": [
       "Run data is saved locally in <code>C:\\Users\\Momrez\\Downloads\\Osman\\cyber security Edge-IIoTset\\wandb\\run-20231213_083759-4ix4kn6n</code>"
      ],
      "text/plain": [
       "<IPython.core.display.HTML object>"
      ]
     },
     "metadata": {},
     "output_type": "display_data"
    },
    {
     "data": {
      "text/html": [
       "Syncing run <strong><a href='https://wandb.ai/ganmaster/dnn_fine_tune_GAN/runs/4ix4kn6n' target=\"_blank\">classic-cloud-4</a></strong> to <a href='https://wandb.ai/ganmaster/dnn_fine_tune_GAN' target=\"_blank\">Weights & Biases</a> (<a href='https://wandb.me/run' target=\"_blank\">docs</a>)<br/>"
      ],
      "text/plain": [
       "<IPython.core.display.HTML object>"
      ]
     },
     "metadata": {},
     "output_type": "display_data"
    },
    {
     "data": {
      "text/html": [
       " View project at <a href='https://wandb.ai/ganmaster/dnn_fine_tune_GAN' target=\"_blank\">https://wandb.ai/ganmaster/dnn_fine_tune_GAN</a>"
      ],
      "text/plain": [
       "<IPython.core.display.HTML object>"
      ]
     },
     "metadata": {},
     "output_type": "display_data"
    },
    {
     "data": {
      "text/html": [
       " View run at <a href='https://wandb.ai/ganmaster/dnn_fine_tune_GAN/runs/4ix4kn6n' target=\"_blank\">https://wandb.ai/ganmaster/dnn_fine_tune_GAN/runs/4ix4kn6n</a>"
      ],
      "text/plain": [
       "<IPython.core.display.HTML object>"
      ]
     },
     "metadata": {},
     "output_type": "display_data"
    },
    {
     "name": "stdout",
     "output_type": "stream",
     "text": [
      "WARNING:tensorflow:From C:\\Users\\Momrez\\anaconda3\\envs\\new\\Lib\\site-packages\\keras\\src\\backend.py:873: The name tf.get_default_graph is deprecated. Please use tf.compat.v1.get_default_graph instead.\n",
      "\n",
      "Model: \"sequential\"\n",
      "_________________________________________________________________\n",
      " Layer (type)                Output Shape              Param #   \n",
      "=================================================================\n",
      " dense (Dense)               (None, 128)               11776     \n",
      "                                                                 \n",
      " dropout (Dropout)           (None, 128)               0         \n",
      "                                                                 \n",
      " dense_1 (Dense)             (None, 256)               33024     \n",
      "                                                                 \n",
      " dropout_1 (Dropout)         (None, 256)               0         \n",
      "                                                                 \n",
      " dense_2 (Dense)             (None, 128)               32896     \n",
      "                                                                 \n",
      " dropout_2 (Dropout)         (None, 128)               0         \n",
      "                                                                 \n",
      " dense_3 (Dense)             (None, 96)                12384     \n",
      "                                                                 \n",
      " dense_4 (Dense)             (None, 15)                1455      \n",
      "                                                                 \n",
      "=================================================================\n",
      "Total params: 91535 (357.56 KB)\n",
      "Trainable params: 91535 (357.56 KB)\n",
      "Non-trainable params: 0 (0.00 Byte)\n",
      "_________________________________________________________________\n"
     ]
    },
    {
     "name": "stderr",
     "output_type": "stream",
     "text": [
      "\u001b[34m\u001b[1mwandb\u001b[0m: \u001b[33mWARNING\u001b[0m The save_model argument by default saves the model in the HDF5 format that cannot save custom objects like subclassed models and custom layers. This behavior will be deprecated in a future release in favor of the SavedModel format. Meanwhile, the HDF5 model is saved as W&B files and the SavedModel as W&B Artifacts.\n"
     ]
    },
    {
     "name": "stdout",
     "output_type": "stream",
     "text": [
      "Epoch 1/90\n",
      "WARNING:tensorflow:From C:\\Users\\Momrez\\anaconda3\\envs\\new\\Lib\\site-packages\\keras\\src\\utils\\tf_utils.py:492: The name tf.ragged.RaggedTensorValue is deprecated. Please use tf.compat.v1.ragged.RaggedTensorValue instead.\n",
      "\n",
      "WARNING:tensorflow:From C:\\Users\\Momrez\\anaconda3\\envs\\new\\Lib\\site-packages\\keras\\src\\engine\\base_layer_utils.py:384: The name tf.executing_eagerly_outside_functions is deprecated. Please use tf.compat.v1.executing_eagerly_outside_functions instead.\n",
      "\n",
      "24923/24931 [============================>.] - ETA: 0s - loss: 0.1604 - accuracy: 0.4543"
     ]
    },
    {
     "name": "stderr",
     "output_type": "stream",
     "text": [
      "C:\\Users\\Momrez\\anaconda3\\envs\\new\\Lib\\site-packages\\keras\\src\\engine\\training.py:3103: UserWarning: You are saving your model as an HDF5 file via `model.save()`. This file format is considered legacy. We recommend using instead the native Keras format, e.g. `model.save('my_model.keras')`.\n",
      "  saving_api.save_model(\n"
     ]
    },
    {
     "name": "stdout",
     "output_type": "stream",
     "text": [
      "INFO:tensorflow:Assets written to: C:\\Users\\Momrez\\Downloads\\Osman\\cyber security Edge-IIoTset\\wandb\\run-20231213_083759-4ix4kn6n\\files\\model-best\\assets\n"
     ]
    },
    {
     "name": "stderr",
     "output_type": "stream",
     "text": [
      "INFO:tensorflow:Assets written to: C:\\Users\\Momrez\\Downloads\\Osman\\cyber security Edge-IIoTset\\wandb\\run-20231213_083759-4ix4kn6n\\files\\model-best\\assets\n",
      "\u001b[34m\u001b[1mwandb\u001b[0m: Adding directory to artifact (C:\\Users\\Momrez\\Downloads\\Osman\\cyber security Edge-IIoTset\\wandb\\run-20231213_083759-4ix4kn6n\\files\\model-best)... Done. 0.0s\n"
     ]
    },
    {
     "name": "stdout",
     "output_type": "stream",
     "text": [
      "24931/24931 [==============================] - 94s 4ms/step - loss: 0.1604 - accuracy: 0.4543 - val_loss: 0.0164 - val_accuracy: 0.9333 - lr: 2.0000e-04\n",
      "Epoch 2/90\n",
      "24924/24931 [============================>.] - ETA: 0s - loss: 0.1568 - accuracy: 0.4628"
     ]
    },
    {
     "name": "stderr",
     "output_type": "stream",
     "text": [
      "C:\\Users\\Momrez\\anaconda3\\envs\\new\\Lib\\site-packages\\keras\\src\\engine\\training.py:3103: UserWarning: You are saving your model as an HDF5 file via `model.save()`. This file format is considered legacy. We recommend using instead the native Keras format, e.g. `model.save('my_model.keras')`.\n",
      "  saving_api.save_model(\n"
     ]
    },
    {
     "name": "stdout",
     "output_type": "stream",
     "text": [
      "INFO:tensorflow:Assets written to: C:\\Users\\Momrez\\Downloads\\Osman\\cyber security Edge-IIoTset\\wandb\\run-20231213_083759-4ix4kn6n\\files\\model-best\\assets\n"
     ]
    },
    {
     "name": "stderr",
     "output_type": "stream",
     "text": [
      "INFO:tensorflow:Assets written to: C:\\Users\\Momrez\\Downloads\\Osman\\cyber security Edge-IIoTset\\wandb\\run-20231213_083759-4ix4kn6n\\files\\model-best\\assets\n",
      "\u001b[34m\u001b[1mwandb\u001b[0m: Adding directory to artifact (C:\\Users\\Momrez\\Downloads\\Osman\\cyber security Edge-IIoTset\\wandb\\run-20231213_083759-4ix4kn6n\\files\\model-best)... Done. 0.0s\n"
     ]
    },
    {
     "name": "stdout",
     "output_type": "stream",
     "text": [
      "24931/24931 [==============================] - 92s 4ms/step - loss: 0.1568 - accuracy: 0.4628 - val_loss: 0.0138 - val_accuracy: 0.9414 - lr: 2.0000e-04\n",
      "Epoch 3/90\n",
      "24927/24931 [============================>.] - ETA: 0s - loss: 0.1559 - accuracy: 0.4657"
     ]
    },
    {
     "name": "stderr",
     "output_type": "stream",
     "text": [
      "C:\\Users\\Momrez\\anaconda3\\envs\\new\\Lib\\site-packages\\keras\\src\\engine\\training.py:3103: UserWarning: You are saving your model as an HDF5 file via `model.save()`. This file format is considered legacy. We recommend using instead the native Keras format, e.g. `model.save('my_model.keras')`.\n",
      "  saving_api.save_model(\n"
     ]
    },
    {
     "name": "stdout",
     "output_type": "stream",
     "text": [
      "INFO:tensorflow:Assets written to: C:\\Users\\Momrez\\Downloads\\Osman\\cyber security Edge-IIoTset\\wandb\\run-20231213_083759-4ix4kn6n\\files\\model-best\\assets\n"
     ]
    },
    {
     "name": "stderr",
     "output_type": "stream",
     "text": [
      "INFO:tensorflow:Assets written to: C:\\Users\\Momrez\\Downloads\\Osman\\cyber security Edge-IIoTset\\wandb\\run-20231213_083759-4ix4kn6n\\files\\model-best\\assets\n",
      "\u001b[34m\u001b[1mwandb\u001b[0m: Adding directory to artifact (C:\\Users\\Momrez\\Downloads\\Osman\\cyber security Edge-IIoTset\\wandb\\run-20231213_083759-4ix4kn6n\\files\\model-best)... Done. 0.0s\n"
     ]
    },
    {
     "name": "stdout",
     "output_type": "stream",
     "text": [
      "24931/24931 [==============================] - 92s 4ms/step - loss: 0.1559 - accuracy: 0.4657 - val_loss: 0.0131 - val_accuracy: 0.9461 - lr: 2.0000e-04\n",
      "Epoch 4/90\n",
      "24919/24931 [============================>.] - ETA: 0s - loss: 0.1554 - accuracy: 0.4677"
     ]
    },
    {
     "name": "stderr",
     "output_type": "stream",
     "text": [
      "C:\\Users\\Momrez\\anaconda3\\envs\\new\\Lib\\site-packages\\keras\\src\\engine\\training.py:3103: UserWarning: You are saving your model as an HDF5 file via `model.save()`. This file format is considered legacy. We recommend using instead the native Keras format, e.g. `model.save('my_model.keras')`.\n",
      "  saving_api.save_model(\n"
     ]
    },
    {
     "name": "stdout",
     "output_type": "stream",
     "text": [
      "INFO:tensorflow:Assets written to: C:\\Users\\Momrez\\Downloads\\Osman\\cyber security Edge-IIoTset\\wandb\\run-20231213_083759-4ix4kn6n\\files\\model-best\\assets\n"
     ]
    },
    {
     "name": "stderr",
     "output_type": "stream",
     "text": [
      "INFO:tensorflow:Assets written to: C:\\Users\\Momrez\\Downloads\\Osman\\cyber security Edge-IIoTset\\wandb\\run-20231213_083759-4ix4kn6n\\files\\model-best\\assets\n",
      "\u001b[34m\u001b[1mwandb\u001b[0m: Adding directory to artifact (C:\\Users\\Momrez\\Downloads\\Osman\\cyber security Edge-IIoTset\\wandb\\run-20231213_083759-4ix4kn6n\\files\\model-best)... Done. 0.0s\n"
     ]
    },
    {
     "name": "stdout",
     "output_type": "stream",
     "text": [
      "24931/24931 [==============================] - 91s 4ms/step - loss: 0.1554 - accuracy: 0.4677 - val_loss: 0.0127 - val_accuracy: 0.9460 - lr: 2.0000e-04\n",
      "Epoch 5/90\n",
      "24920/24931 [============================>.] - ETA: 0s - loss: 0.1546 - accuracy: 0.4706"
     ]
    },
    {
     "name": "stderr",
     "output_type": "stream",
     "text": [
      "C:\\Users\\Momrez\\anaconda3\\envs\\new\\Lib\\site-packages\\keras\\src\\engine\\training.py:3103: UserWarning: You are saving your model as an HDF5 file via `model.save()`. This file format is considered legacy. We recommend using instead the native Keras format, e.g. `model.save('my_model.keras')`.\n",
      "  saving_api.save_model(\n"
     ]
    },
    {
     "name": "stdout",
     "output_type": "stream",
     "text": [
      "INFO:tensorflow:Assets written to: C:\\Users\\Momrez\\Downloads\\Osman\\cyber security Edge-IIoTset\\wandb\\run-20231213_083759-4ix4kn6n\\files\\model-best\\assets\n"
     ]
    },
    {
     "name": "stderr",
     "output_type": "stream",
     "text": [
      "INFO:tensorflow:Assets written to: C:\\Users\\Momrez\\Downloads\\Osman\\cyber security Edge-IIoTset\\wandb\\run-20231213_083759-4ix4kn6n\\files\\model-best\\assets\n",
      "\u001b[34m\u001b[1mwandb\u001b[0m: Adding directory to artifact (C:\\Users\\Momrez\\Downloads\\Osman\\cyber security Edge-IIoTset\\wandb\\run-20231213_083759-4ix4kn6n\\files\\model-best)... Done. 0.0s\n"
     ]
    },
    {
     "name": "stdout",
     "output_type": "stream",
     "text": [
      "24931/24931 [==============================] - 91s 4ms/step - loss: 0.1546 - accuracy: 0.4706 - val_loss: 0.0122 - val_accuracy: 0.9489 - lr: 2.0000e-04\n",
      "Epoch 6/90\n",
      "24927/24931 [============================>.] - ETA: 0s - loss: 0.1540 - accuracy: 0.4729"
     ]
    },
    {
     "name": "stderr",
     "output_type": "stream",
     "text": [
      "C:\\Users\\Momrez\\anaconda3\\envs\\new\\Lib\\site-packages\\keras\\src\\engine\\training.py:3103: UserWarning: You are saving your model as an HDF5 file via `model.save()`. This file format is considered legacy. We recommend using instead the native Keras format, e.g. `model.save('my_model.keras')`.\n",
      "  saving_api.save_model(\n"
     ]
    },
    {
     "name": "stdout",
     "output_type": "stream",
     "text": [
      "INFO:tensorflow:Assets written to: C:\\Users\\Momrez\\Downloads\\Osman\\cyber security Edge-IIoTset\\wandb\\run-20231213_083759-4ix4kn6n\\files\\model-best\\assets\n"
     ]
    },
    {
     "name": "stderr",
     "output_type": "stream",
     "text": [
      "INFO:tensorflow:Assets written to: C:\\Users\\Momrez\\Downloads\\Osman\\cyber security Edge-IIoTset\\wandb\\run-20231213_083759-4ix4kn6n\\files\\model-best\\assets\n",
      "\u001b[34m\u001b[1mwandb\u001b[0m: Adding directory to artifact (C:\\Users\\Momrez\\Downloads\\Osman\\cyber security Edge-IIoTset\\wandb\\run-20231213_083759-4ix4kn6n\\files\\model-best)... Done. 0.0s\n"
     ]
    },
    {
     "name": "stdout",
     "output_type": "stream",
     "text": [
      "24931/24931 [==============================] - 93s 4ms/step - loss: 0.1540 - accuracy: 0.4729 - val_loss: 0.0121 - val_accuracy: 0.9490 - lr: 2.0000e-04\n",
      "Epoch 7/90\n",
      "24920/24931 [============================>.] - ETA: 0s - loss: 0.1535 - accuracy: 0.4744"
     ]
    },
    {
     "name": "stderr",
     "output_type": "stream",
     "text": [
      "C:\\Users\\Momrez\\anaconda3\\envs\\new\\Lib\\site-packages\\keras\\src\\engine\\training.py:3103: UserWarning: You are saving your model as an HDF5 file via `model.save()`. This file format is considered legacy. We recommend using instead the native Keras format, e.g. `model.save('my_model.keras')`.\n",
      "  saving_api.save_model(\n"
     ]
    },
    {
     "name": "stdout",
     "output_type": "stream",
     "text": [
      "INFO:tensorflow:Assets written to: C:\\Users\\Momrez\\Downloads\\Osman\\cyber security Edge-IIoTset\\wandb\\run-20231213_083759-4ix4kn6n\\files\\model-best\\assets\n"
     ]
    },
    {
     "name": "stderr",
     "output_type": "stream",
     "text": [
      "INFO:tensorflow:Assets written to: C:\\Users\\Momrez\\Downloads\\Osman\\cyber security Edge-IIoTset\\wandb\\run-20231213_083759-4ix4kn6n\\files\\model-best\\assets\n",
      "\u001b[34m\u001b[1mwandb\u001b[0m: Adding directory to artifact (C:\\Users\\Momrez\\Downloads\\Osman\\cyber security Edge-IIoTset\\wandb\\run-20231213_083759-4ix4kn6n\\files\\model-best)... Done. 0.0s\n"
     ]
    },
    {
     "name": "stdout",
     "output_type": "stream",
     "text": [
      "24931/24931 [==============================] - 91s 4ms/step - loss: 0.1535 - accuracy: 0.4744 - val_loss: 0.0119 - val_accuracy: 0.9487 - lr: 2.0000e-04\n",
      "Epoch 8/90\n",
      "24926/24931 [============================>.] - ETA: 0s - loss: 0.1532 - accuracy: 0.4759"
     ]
    },
    {
     "name": "stderr",
     "output_type": "stream",
     "text": [
      "C:\\Users\\Momrez\\anaconda3\\envs\\new\\Lib\\site-packages\\keras\\src\\engine\\training.py:3103: UserWarning: You are saving your model as an HDF5 file via `model.save()`. This file format is considered legacy. We recommend using instead the native Keras format, e.g. `model.save('my_model.keras')`.\n",
      "  saving_api.save_model(\n"
     ]
    },
    {
     "name": "stdout",
     "output_type": "stream",
     "text": [
      "INFO:tensorflow:Assets written to: C:\\Users\\Momrez\\Downloads\\Osman\\cyber security Edge-IIoTset\\wandb\\run-20231213_083759-4ix4kn6n\\files\\model-best\\assets\n"
     ]
    },
    {
     "name": "stderr",
     "output_type": "stream",
     "text": [
      "INFO:tensorflow:Assets written to: C:\\Users\\Momrez\\Downloads\\Osman\\cyber security Edge-IIoTset\\wandb\\run-20231213_083759-4ix4kn6n\\files\\model-best\\assets\n",
      "\u001b[34m\u001b[1mwandb\u001b[0m: Adding directory to artifact (C:\\Users\\Momrez\\Downloads\\Osman\\cyber security Edge-IIoTset\\wandb\\run-20231213_083759-4ix4kn6n\\files\\model-best)... Done. 0.0s\n"
     ]
    },
    {
     "name": "stdout",
     "output_type": "stream",
     "text": [
      "24931/24931 [==============================] - 95s 4ms/step - loss: 0.1532 - accuracy: 0.4759 - val_loss: 0.0118 - val_accuracy: 0.9493 - lr: 2.0000e-04\n",
      "Epoch 9/90\n",
      "24931/24931 [==============================] - 93s 4ms/step - loss: 0.1528 - accuracy: 0.4772 - val_loss: 0.0119 - val_accuracy: 0.9491 - lr: 2.0000e-04\n",
      "Epoch 10/90\n",
      "24931/24931 [==============================] - 93s 4ms/step - loss: 0.1525 - accuracy: 0.4786 - val_loss: 0.0118 - val_accuracy: 0.9491 - lr: 2.0000e-04\n",
      "Epoch 11/90\n",
      "24931/24931 [==============================] - 96s 4ms/step - loss: 0.1522 - accuracy: 0.4796 - val_loss: 0.0119 - val_accuracy: 0.9494 - lr: 2.0000e-04\n",
      "Epoch 12/90\n",
      "24931/24931 [==============================] - ETA: 0s - loss: 0.1520 - accuracy: 0.4804"
     ]
    },
    {
     "name": "stderr",
     "output_type": "stream",
     "text": [
      "C:\\Users\\Momrez\\anaconda3\\envs\\new\\Lib\\site-packages\\keras\\src\\engine\\training.py:3103: UserWarning: You are saving your model as an HDF5 file via `model.save()`. This file format is considered legacy. We recommend using instead the native Keras format, e.g. `model.save('my_model.keras')`.\n",
      "  saving_api.save_model(\n"
     ]
    },
    {
     "name": "stdout",
     "output_type": "stream",
     "text": [
      "INFO:tensorflow:Assets written to: C:\\Users\\Momrez\\Downloads\\Osman\\cyber security Edge-IIoTset\\wandb\\run-20231213_083759-4ix4kn6n\\files\\model-best\\assets\n"
     ]
    },
    {
     "name": "stderr",
     "output_type": "stream",
     "text": [
      "INFO:tensorflow:Assets written to: C:\\Users\\Momrez\\Downloads\\Osman\\cyber security Edge-IIoTset\\wandb\\run-20231213_083759-4ix4kn6n\\files\\model-best\\assets\n",
      "\u001b[34m\u001b[1mwandb\u001b[0m: Adding directory to artifact (C:\\Users\\Momrez\\Downloads\\Osman\\cyber security Edge-IIoTset\\wandb\\run-20231213_083759-4ix4kn6n\\files\\model-best)... Done. 0.0s\n"
     ]
    },
    {
     "name": "stdout",
     "output_type": "stream",
     "text": [
      "24931/24931 [==============================] - 94s 4ms/step - loss: 0.1520 - accuracy: 0.4804 - val_loss: 0.0117 - val_accuracy: 0.9493 - lr: 2.0000e-04\n",
      "Epoch 13/90\n",
      "24931/24931 [==============================] - 91s 4ms/step - loss: 0.1519 - accuracy: 0.4810 - val_loss: 0.0118 - val_accuracy: 0.9494 - lr: 2.0000e-04\n",
      "Epoch 14/90\n",
      "24926/24931 [============================>.] - ETA: 0s - loss: 0.1518 - accuracy: 0.4814"
     ]
    },
    {
     "name": "stderr",
     "output_type": "stream",
     "text": [
      "C:\\Users\\Momrez\\anaconda3\\envs\\new\\Lib\\site-packages\\keras\\src\\engine\\training.py:3103: UserWarning: You are saving your model as an HDF5 file via `model.save()`. This file format is considered legacy. We recommend using instead the native Keras format, e.g. `model.save('my_model.keras')`.\n",
      "  saving_api.save_model(\n"
     ]
    },
    {
     "name": "stdout",
     "output_type": "stream",
     "text": [
      "INFO:tensorflow:Assets written to: C:\\Users\\Momrez\\Downloads\\Osman\\cyber security Edge-IIoTset\\wandb\\run-20231213_083759-4ix4kn6n\\files\\model-best\\assets\n"
     ]
    },
    {
     "name": "stderr",
     "output_type": "stream",
     "text": [
      "INFO:tensorflow:Assets written to: C:\\Users\\Momrez\\Downloads\\Osman\\cyber security Edge-IIoTset\\wandb\\run-20231213_083759-4ix4kn6n\\files\\model-best\\assets\n",
      "\u001b[34m\u001b[1mwandb\u001b[0m: Adding directory to artifact (C:\\Users\\Momrez\\Downloads\\Osman\\cyber security Edge-IIoTset\\wandb\\run-20231213_083759-4ix4kn6n\\files\\model-best)... Done. 0.0s\n"
     ]
    },
    {
     "name": "stdout",
     "output_type": "stream",
     "text": [
      "24931/24931 [==============================] - 95s 4ms/step - loss: 0.1518 - accuracy: 0.4814 - val_loss: 0.0117 - val_accuracy: 0.9493 - lr: 2.0000e-04\n",
      "Epoch 15/90\n",
      "24931/24931 [==============================] - 90s 4ms/step - loss: 0.1517 - accuracy: 0.4818 - val_loss: 0.0118 - val_accuracy: 0.9497 - lr: 2.0000e-04\n",
      "Epoch 16/90\n",
      "24931/24931 [==============================] - 91s 4ms/step - loss: 0.1516 - accuracy: 0.4820 - val_loss: 0.0118 - val_accuracy: 0.9496 - lr: 2.0000e-04\n",
      "Epoch 17/90\n",
      "24931/24931 [==============================] - 90s 4ms/step - loss: 0.1515 - accuracy: 0.4822 - val_loss: 0.0118 - val_accuracy: 0.9494 - lr: 2.0000e-04\n",
      "Epoch 18/90\n",
      "24931/24931 [==============================] - 92s 4ms/step - loss: 0.1515 - accuracy: 0.4826 - val_loss: 0.0119 - val_accuracy: 0.9495 - lr: 2.0000e-04\n",
      "Epoch 19/90\n",
      "24931/24931 [==============================] - 90s 4ms/step - loss: 0.1514 - accuracy: 0.4827 - val_loss: 0.0118 - val_accuracy: 0.9494 - lr: 2.0000e-04\n",
      "Epoch 20/90\n",
      "24931/24931 [==============================] - 90s 4ms/step - loss: 0.1514 - accuracy: 0.4831 - val_loss: 0.0118 - val_accuracy: 0.9493 - lr: 2.0000e-04\n",
      "Epoch 21/90\n",
      "24931/24931 [==============================] - 91s 4ms/step - loss: 0.1513 - accuracy: 0.4830 - val_loss: 0.0119 - val_accuracy: 0.9495 - lr: 2.0000e-04\n",
      "Epoch 22/90\n",
      "24931/24931 [==============================] - 90s 4ms/step - loss: 0.1513 - accuracy: 0.4831 - val_loss: 0.0119 - val_accuracy: 0.9497 - lr: 2.0000e-04\n",
      "Epoch 23/90\n",
      "24931/24931 [==============================] - 91s 4ms/step - loss: 0.1512 - accuracy: 0.4832 - val_loss: 0.0119 - val_accuracy: 0.9492 - lr: 2.0000e-04\n",
      "Epoch 24/90\n",
      "24931/24931 [==============================] - 91s 4ms/step - loss: 0.1512 - accuracy: 0.4836 - val_loss: 0.0120 - val_accuracy: 0.9496 - lr: 2.0000e-04\n",
      "Epoch 25/90\n",
      "24931/24931 [==============================] - 90s 4ms/step - loss: 0.1512 - accuracy: 0.4836 - val_loss: 0.0119 - val_accuracy: 0.9496 - lr: 2.0000e-04\n",
      "Epoch 26/90\n",
      "24931/24931 [==============================] - 91s 4ms/step - loss: 0.1511 - accuracy: 0.4837 - val_loss: 0.0119 - val_accuracy: 0.9492 - lr: 2.0000e-04\n",
      "Epoch 27/90\n",
      "24931/24931 [==============================] - 91s 4ms/step - loss: 0.1511 - accuracy: 0.4837 - val_loss: 0.0119 - val_accuracy: 0.9494 - lr: 2.0000e-04\n",
      "Epoch 28/90\n",
      "24931/24931 [==============================] - 91s 4ms/step - loss: 0.1511 - accuracy: 0.4839 - val_loss: 0.0118 - val_accuracy: 0.9492 - lr: 2.0000e-04\n",
      "Epoch 29/90\n",
      "24931/24931 [==============================] - 90s 4ms/step - loss: 0.1510 - accuracy: 0.4840 - val_loss: 0.0119 - val_accuracy: 0.9496 - lr: 2.0000e-04\n",
      "Epoch 30/90\n",
      "24931/24931 [==============================] - 91s 4ms/step - loss: 0.1510 - accuracy: 0.4841 - val_loss: 0.0120 - val_accuracy: 0.9493 - lr: 2.0000e-04\n",
      "Epoch 31/90\n",
      "24931/24931 [==============================] - 91s 4ms/step - loss: 0.1503 - accuracy: 0.4864 - val_loss: 0.0119 - val_accuracy: 0.9495 - lr: 5.0000e-05\n",
      "Epoch 32/90\n",
      "24931/24931 [==============================] - 91s 4ms/step - loss: 0.1502 - accuracy: 0.4867 - val_loss: 0.0119 - val_accuracy: 0.9497 - lr: 5.0000e-05\n",
      "Epoch 33/90\n",
      "24931/24931 [==============================] - 90s 4ms/step - loss: 0.1502 - accuracy: 0.4867 - val_loss: 0.0119 - val_accuracy: 0.9496 - lr: 5.0000e-05\n",
      "Epoch 34/90\n",
      "24931/24931 [==============================] - 90s 4ms/step - loss: 0.1502 - accuracy: 0.4870 - val_loss: 0.0119 - val_accuracy: 0.9496 - lr: 5.0000e-05\n",
      "Epoch 35/90\n",
      "24931/24931 [==============================] - 91s 4ms/step - loss: 0.1502 - accuracy: 0.4871 - val_loss: 0.0119 - val_accuracy: 0.9498 - lr: 5.0000e-05\n",
      "Epoch 36/90\n",
      "24931/24931 [==============================] - 90s 4ms/step - loss: 0.1501 - accuracy: 0.4870 - val_loss: 0.0118 - val_accuracy: 0.9496 - lr: 5.0000e-05\n",
      "Epoch 37/90\n",
      "24931/24931 [==============================] - 90s 4ms/step - loss: 0.1501 - accuracy: 0.4872 - val_loss: 0.0119 - val_accuracy: 0.9495 - lr: 5.0000e-05\n",
      "Epoch 38/90\n",
      "24931/24931 [==============================] - 91s 4ms/step - loss: 0.1501 - accuracy: 0.4871 - val_loss: 0.0118 - val_accuracy: 0.9497 - lr: 5.0000e-05\n",
      "Epoch 39/90\n",
      "24931/24931 [==============================] - 92s 4ms/step - loss: 0.1501 - accuracy: 0.4873 - val_loss: 0.0117 - val_accuracy: 0.9497 - lr: 5.0000e-05\n",
      "Epoch 40/90\n",
      "24931/24931 [==============================] - 99s 4ms/step - loss: 0.1501 - accuracy: 0.4873 - val_loss: 0.0117 - val_accuracy: 0.9495 - lr: 5.0000e-05\n",
      "Epoch 41/90\n",
      "24931/24931 [==============================] - 95s 4ms/step - loss: 0.1501 - accuracy: 0.4873 - val_loss: 0.0118 - val_accuracy: 0.9495 - lr: 5.0000e-05\n",
      "Epoch 42/90\n",
      "24931/24931 [==============================] - 95s 4ms/step - loss: 0.1500 - accuracy: 0.4875 - val_loss: 0.0118 - val_accuracy: 0.9496 - lr: 5.0000e-05\n",
      "Epoch 43/90\n",
      "24931/24931 [==============================] - 95s 4ms/step - loss: 0.1500 - accuracy: 0.4875 - val_loss: 0.0118 - val_accuracy: 0.9496 - lr: 5.0000e-05\n",
      "Epoch 44/90\n",
      "24931/24931 [==============================] - 95s 4ms/step - loss: 0.1500 - accuracy: 0.4875 - val_loss: 0.0118 - val_accuracy: 0.9496 - lr: 5.0000e-05\n",
      "Epoch 45/90\n",
      "24931/24931 [==============================] - 93s 4ms/step - loss: 0.1500 - accuracy: 0.4873 - val_loss: 0.0118 - val_accuracy: 0.9496 - lr: 5.0000e-05\n",
      "Epoch 46/90\n",
      "24931/24931 [==============================] - 92s 4ms/step - loss: 0.1500 - accuracy: 0.4877 - val_loss: 0.0118 - val_accuracy: 0.9497 - lr: 5.0000e-05\n",
      "Epoch 47/90\n",
      "24931/24931 [==============================] - 92s 4ms/step - loss: 0.1500 - accuracy: 0.4875 - val_loss: 0.0117 - val_accuracy: 0.9495 - lr: 5.0000e-05\n",
      "Epoch 48/90\n",
      "24931/24931 [==============================] - 109s 4ms/step - loss: 0.1500 - accuracy: 0.4877 - val_loss: 0.0117 - val_accuracy: 0.9496 - lr: 5.0000e-05\n",
      "Epoch 49/90\n",
      "24931/24931 [==============================] - 111s 4ms/step - loss: 0.1500 - accuracy: 0.4877 - val_loss: 0.0117 - val_accuracy: 0.9496 - lr: 5.0000e-05\n",
      "Epoch 50/90\n",
      "24931/24931 [==============================] - 107s 4ms/step - loss: 0.1500 - accuracy: 0.4876 - val_loss: 0.0117 - val_accuracy: 0.9496 - lr: 5.0000e-05\n",
      "Epoch 51/90\n",
      "24920/24931 [============================>.] - ETA: 0s - loss: 0.1499 - accuracy: 0.4878"
     ]
    },
    {
     "name": "stderr",
     "output_type": "stream",
     "text": [
      "C:\\Users\\Momrez\\anaconda3\\envs\\new\\Lib\\site-packages\\keras\\src\\engine\\training.py:3103: UserWarning: You are saving your model as an HDF5 file via `model.save()`. This file format is considered legacy. We recommend using instead the native Keras format, e.g. `model.save('my_model.keras')`.\n",
      "  saving_api.save_model(\n"
     ]
    },
    {
     "name": "stdout",
     "output_type": "stream",
     "text": [
      "INFO:tensorflow:Assets written to: C:\\Users\\Momrez\\Downloads\\Osman\\cyber security Edge-IIoTset\\wandb\\run-20231213_083759-4ix4kn6n\\files\\model-best\\assets\n"
     ]
    },
    {
     "name": "stderr",
     "output_type": "stream",
     "text": [
      "INFO:tensorflow:Assets written to: C:\\Users\\Momrez\\Downloads\\Osman\\cyber security Edge-IIoTset\\wandb\\run-20231213_083759-4ix4kn6n\\files\\model-best\\assets\n",
      "\u001b[34m\u001b[1mwandb\u001b[0m: Adding directory to artifact (C:\\Users\\Momrez\\Downloads\\Osman\\cyber security Edge-IIoTset\\wandb\\run-20231213_083759-4ix4kn6n\\files\\model-best)... Done. 0.0s\n"
     ]
    },
    {
     "name": "stdout",
     "output_type": "stream",
     "text": [
      "24931/24931 [==============================] - 99s 4ms/step - loss: 0.1499 - accuracy: 0.4878 - val_loss: 0.0117 - val_accuracy: 0.9496 - lr: 5.0000e-05\n",
      "Epoch 52/90\n",
      "24922/24931 [============================>.] - ETA: 0s - loss: 0.1499 - accuracy: 0.4878"
     ]
    },
    {
     "name": "stderr",
     "output_type": "stream",
     "text": [
      "C:\\Users\\Momrez\\anaconda3\\envs\\new\\Lib\\site-packages\\keras\\src\\engine\\training.py:3103: UserWarning: You are saving your model as an HDF5 file via `model.save()`. This file format is considered legacy. We recommend using instead the native Keras format, e.g. `model.save('my_model.keras')`.\n",
      "  saving_api.save_model(\n"
     ]
    },
    {
     "name": "stdout",
     "output_type": "stream",
     "text": [
      "INFO:tensorflow:Assets written to: C:\\Users\\Momrez\\Downloads\\Osman\\cyber security Edge-IIoTset\\wandb\\run-20231213_083759-4ix4kn6n\\files\\model-best\\assets\n"
     ]
    },
    {
     "name": "stderr",
     "output_type": "stream",
     "text": [
      "INFO:tensorflow:Assets written to: C:\\Users\\Momrez\\Downloads\\Osman\\cyber security Edge-IIoTset\\wandb\\run-20231213_083759-4ix4kn6n\\files\\model-best\\assets\n",
      "\u001b[34m\u001b[1mwandb\u001b[0m: Adding directory to artifact (C:\\Users\\Momrez\\Downloads\\Osman\\cyber security Edge-IIoTset\\wandb\\run-20231213_083759-4ix4kn6n\\files\\model-best)... Done. 0.0s\n"
     ]
    },
    {
     "name": "stdout",
     "output_type": "stream",
     "text": [
      "24931/24931 [==============================] - 100s 4ms/step - loss: 0.1499 - accuracy: 0.4878 - val_loss: 0.0116 - val_accuracy: 0.9495 - lr: 5.0000e-05\n",
      "Epoch 53/90\n",
      "24931/24931 [==============================] - 97s 4ms/step - loss: 0.1499 - accuracy: 0.4878 - val_loss: 0.0117 - val_accuracy: 0.9495 - lr: 5.0000e-05\n",
      "Epoch 54/90\n",
      "24924/24931 [============================>.] - ETA: 0s - loss: 0.1499 - accuracy: 0.4879"
     ]
    },
    {
     "name": "stderr",
     "output_type": "stream",
     "text": [
      "C:\\Users\\Momrez\\anaconda3\\envs\\new\\Lib\\site-packages\\keras\\src\\engine\\training.py:3103: UserWarning: You are saving your model as an HDF5 file via `model.save()`. This file format is considered legacy. We recommend using instead the native Keras format, e.g. `model.save('my_model.keras')`.\n",
      "  saving_api.save_model(\n"
     ]
    },
    {
     "name": "stdout",
     "output_type": "stream",
     "text": [
      "INFO:tensorflow:Assets written to: C:\\Users\\Momrez\\Downloads\\Osman\\cyber security Edge-IIoTset\\wandb\\run-20231213_083759-4ix4kn6n\\files\\model-best\\assets\n"
     ]
    },
    {
     "name": "stderr",
     "output_type": "stream",
     "text": [
      "INFO:tensorflow:Assets written to: C:\\Users\\Momrez\\Downloads\\Osman\\cyber security Edge-IIoTset\\wandb\\run-20231213_083759-4ix4kn6n\\files\\model-best\\assets\n",
      "\u001b[34m\u001b[1mwandb\u001b[0m: Adding directory to artifact (C:\\Users\\Momrez\\Downloads\\Osman\\cyber security Edge-IIoTset\\wandb\\run-20231213_083759-4ix4kn6n\\files\\model-best)... Done. 0.0s\n"
     ]
    },
    {
     "name": "stdout",
     "output_type": "stream",
     "text": [
      "24931/24931 [==============================] - 99s 4ms/step - loss: 0.1499 - accuracy: 0.4879 - val_loss: 0.0116 - val_accuracy: 0.9496 - lr: 5.0000e-05\n",
      "Epoch 55/90\n",
      "24931/24931 [==============================] - 101s 4ms/step - loss: 0.1499 - accuracy: 0.4879 - val_loss: 0.0117 - val_accuracy: 0.9495 - lr: 5.0000e-05\n",
      "Epoch 56/90\n",
      "24931/24931 [==============================] - 100s 4ms/step - loss: 0.1499 - accuracy: 0.4878 - val_loss: 0.0116 - val_accuracy: 0.9496 - lr: 5.0000e-05\n",
      "Epoch 57/90\n",
      "24931/24931 [==============================] - 101s 4ms/step - loss: 0.1499 - accuracy: 0.4879 - val_loss: 0.0117 - val_accuracy: 0.9496 - lr: 5.0000e-05\n",
      "Epoch 58/90\n",
      "24931/24931 [==============================] - 100s 4ms/step - loss: 0.1499 - accuracy: 0.4880 - val_loss: 0.0117 - val_accuracy: 0.9495 - lr: 5.0000e-05\n",
      "Epoch 59/90\n",
      "24931/24931 [==============================] - 100s 4ms/step - loss: 0.1499 - accuracy: 0.4880 - val_loss: 0.0117 - val_accuracy: 0.9496 - lr: 5.0000e-05\n",
      "Epoch 60/90\n",
      "24931/24931 [==============================] - 100s 4ms/step - loss: 0.1499 - accuracy: 0.4880 - val_loss: 0.0117 - val_accuracy: 0.9496 - lr: 5.0000e-05\n",
      "Epoch 61/90\n",
      "24931/24931 [==============================] - 100s 4ms/step - loss: 0.1498 - accuracy: 0.4884 - val_loss: 0.0116 - val_accuracy: 0.9498 - lr: 3.3333e-05\n",
      "Epoch 62/90\n",
      "24931/24931 [==============================] - 100s 4ms/step - loss: 0.1497 - accuracy: 0.4885 - val_loss: 0.0117 - val_accuracy: 0.9496 - lr: 3.3333e-05\n",
      "Epoch 63/90\n",
      "24931/24931 [==============================] - 100s 4ms/step - loss: 0.1497 - accuracy: 0.4885 - val_loss: 0.0117 - val_accuracy: 0.9497 - lr: 3.3333e-05\n",
      "Epoch 64/90\n",
      "24931/24931 [==============================] - 100s 4ms/step - loss: 0.1497 - accuracy: 0.4885 - val_loss: 0.0117 - val_accuracy: 0.9496 - lr: 3.3333e-05\n",
      "Epoch 65/90\n",
      "24931/24931 [==============================] - 100s 4ms/step - loss: 0.1497 - accuracy: 0.4885 - val_loss: 0.0117 - val_accuracy: 0.9496 - lr: 3.3333e-05\n",
      "Epoch 66/90\n",
      "24931/24931 [==============================] - 100s 4ms/step - loss: 0.1497 - accuracy: 0.4887 - val_loss: 0.0117 - val_accuracy: 0.9497 - lr: 3.3333e-05\n",
      "Epoch 67/90\n",
      "24922/24931 [============================>.] - ETA: 0s - loss: 0.1497 - accuracy: 0.4885"
     ]
    },
    {
     "name": "stderr",
     "output_type": "stream",
     "text": [
      "C:\\Users\\Momrez\\anaconda3\\envs\\new\\Lib\\site-packages\\keras\\src\\engine\\training.py:3103: UserWarning: You are saving your model as an HDF5 file via `model.save()`. This file format is considered legacy. We recommend using instead the native Keras format, e.g. `model.save('my_model.keras')`.\n",
      "  saving_api.save_model(\n"
     ]
    },
    {
     "name": "stdout",
     "output_type": "stream",
     "text": [
      "INFO:tensorflow:Assets written to: C:\\Users\\Momrez\\Downloads\\Osman\\cyber security Edge-IIoTset\\wandb\\run-20231213_083759-4ix4kn6n\\files\\model-best\\assets\n"
     ]
    },
    {
     "name": "stderr",
     "output_type": "stream",
     "text": [
      "INFO:tensorflow:Assets written to: C:\\Users\\Momrez\\Downloads\\Osman\\cyber security Edge-IIoTset\\wandb\\run-20231213_083759-4ix4kn6n\\files\\model-best\\assets\n",
      "\u001b[34m\u001b[1mwandb\u001b[0m: Adding directory to artifact (C:\\Users\\Momrez\\Downloads\\Osman\\cyber security Edge-IIoTset\\wandb\\run-20231213_083759-4ix4kn6n\\files\\model-best)... Done. 0.0s\n"
     ]
    },
    {
     "name": "stdout",
     "output_type": "stream",
     "text": [
      "24931/24931 [==============================] - 103s 4ms/step - loss: 0.1497 - accuracy: 0.4885 - val_loss: 0.0116 - val_accuracy: 0.9494 - lr: 3.3333e-05\n",
      "Epoch 68/90\n",
      "24931/24931 [==============================] - 100s 4ms/step - loss: 0.1497 - accuracy: 0.4887 - val_loss: 0.0116 - val_accuracy: 0.9497 - lr: 3.3333e-05\n",
      "Epoch 69/90\n",
      "24931/24931 [==============================] - 99s 4ms/step - loss: 0.1497 - accuracy: 0.4887 - val_loss: 0.0116 - val_accuracy: 0.9496 - lr: 3.3333e-05\n",
      "Epoch 70/90\n",
      "24931/24931 [==============================] - 100s 4ms/step - loss: 0.1497 - accuracy: 0.4887 - val_loss: 0.0116 - val_accuracy: 0.9496 - lr: 3.3333e-05\n",
      "Epoch 71/90\n",
      "24931/24931 [==============================] - 100s 4ms/step - loss: 0.1497 - accuracy: 0.4888 - val_loss: 0.0117 - val_accuracy: 0.9495 - lr: 3.3333e-05\n",
      "Epoch 72/90\n",
      "24931/24931 [==============================] - 102s 4ms/step - loss: 0.1497 - accuracy: 0.4887 - val_loss: 0.0117 - val_accuracy: 0.9496 - lr: 3.3333e-05\n",
      "Epoch 73/90\n",
      "24931/24931 [==============================] - 99s 4ms/step - loss: 0.1496 - accuracy: 0.4889 - val_loss: 0.0116 - val_accuracy: 0.9496 - lr: 3.3333e-05\n",
      "Epoch 74/90\n",
      "24931/24931 [==============================] - 100s 4ms/step - loss: 0.1496 - accuracy: 0.4889 - val_loss: 0.0116 - val_accuracy: 0.9496 - lr: 3.3333e-05\n",
      "Epoch 75/90\n",
      "24931/24931 [==============================] - 99s 4ms/step - loss: 0.1496 - accuracy: 0.4889 - val_loss: 0.0116 - val_accuracy: 0.9496 - lr: 3.3333e-05\n",
      "Epoch 76/90\n",
      "24929/24931 [============================>.] - ETA: 0s - loss: 0.1496 - accuracy: 0.4891"
     ]
    },
    {
     "name": "stderr",
     "output_type": "stream",
     "text": [
      "C:\\Users\\Momrez\\anaconda3\\envs\\new\\Lib\\site-packages\\keras\\src\\engine\\training.py:3103: UserWarning: You are saving your model as an HDF5 file via `model.save()`. This file format is considered legacy. We recommend using instead the native Keras format, e.g. `model.save('my_model.keras')`.\n",
      "  saving_api.save_model(\n"
     ]
    },
    {
     "name": "stdout",
     "output_type": "stream",
     "text": [
      "INFO:tensorflow:Assets written to: C:\\Users\\Momrez\\Downloads\\Osman\\cyber security Edge-IIoTset\\wandb\\run-20231213_083759-4ix4kn6n\\files\\model-best\\assets\n"
     ]
    },
    {
     "name": "stderr",
     "output_type": "stream",
     "text": [
      "INFO:tensorflow:Assets written to: C:\\Users\\Momrez\\Downloads\\Osman\\cyber security Edge-IIoTset\\wandb\\run-20231213_083759-4ix4kn6n\\files\\model-best\\assets\n",
      "\u001b[34m\u001b[1mwandb\u001b[0m: Adding directory to artifact (C:\\Users\\Momrez\\Downloads\\Osman\\cyber security Edge-IIoTset\\wandb\\run-20231213_083759-4ix4kn6n\\files\\model-best)... Done. 0.0s\n"
     ]
    },
    {
     "name": "stdout",
     "output_type": "stream",
     "text": [
      "24931/24931 [==============================] - 100s 4ms/step - loss: 0.1496 - accuracy: 0.4891 - val_loss: 0.0116 - val_accuracy: 0.9497 - lr: 3.3333e-05\n",
      "Epoch 77/90\n",
      "24931/24931 [==============================] - 99s 4ms/step - loss: 0.1496 - accuracy: 0.4889 - val_loss: 0.0116 - val_accuracy: 0.9498 - lr: 3.3333e-05\n",
      "Epoch 78/90\n",
      "24931/24931 [==============================] - ETA: 0s - loss: 0.1496 - accuracy: 0.4889"
     ]
    },
    {
     "name": "stderr",
     "output_type": "stream",
     "text": [
      "C:\\Users\\Momrez\\anaconda3\\envs\\new\\Lib\\site-packages\\keras\\src\\engine\\training.py:3103: UserWarning: You are saving your model as an HDF5 file via `model.save()`. This file format is considered legacy. We recommend using instead the native Keras format, e.g. `model.save('my_model.keras')`.\n",
      "  saving_api.save_model(\n"
     ]
    },
    {
     "name": "stdout",
     "output_type": "stream",
     "text": [
      "INFO:tensorflow:Assets written to: C:\\Users\\Momrez\\Downloads\\Osman\\cyber security Edge-IIoTset\\wandb\\run-20231213_083759-4ix4kn6n\\files\\model-best\\assets\n"
     ]
    },
    {
     "name": "stderr",
     "output_type": "stream",
     "text": [
      "INFO:tensorflow:Assets written to: C:\\Users\\Momrez\\Downloads\\Osman\\cyber security Edge-IIoTset\\wandb\\run-20231213_083759-4ix4kn6n\\files\\model-best\\assets\n",
      "\u001b[34m\u001b[1mwandb\u001b[0m: Adding directory to artifact (C:\\Users\\Momrez\\Downloads\\Osman\\cyber security Edge-IIoTset\\wandb\\run-20231213_083759-4ix4kn6n\\files\\model-best)... Done. 0.0s\n"
     ]
    },
    {
     "name": "stdout",
     "output_type": "stream",
     "text": [
      "24931/24931 [==============================] - 109s 4ms/step - loss: 0.1496 - accuracy: 0.4889 - val_loss: 0.0116 - val_accuracy: 0.9499 - lr: 3.3333e-05\n",
      "Epoch 79/90\n",
      "24931/24931 [==============================] - 101s 4ms/step - loss: 0.1496 - accuracy: 0.4889 - val_loss: 0.0116 - val_accuracy: 0.9496 - lr: 3.3333e-05\n",
      "Epoch 80/90\n",
      "24931/24931 [==============================] - 101s 4ms/step - loss: 0.1496 - accuracy: 0.4890 - val_loss: 0.0117 - val_accuracy: 0.9497 - lr: 3.3333e-05\n",
      "Epoch 81/90\n",
      "24931/24931 [==============================] - 102s 4ms/step - loss: 0.1496 - accuracy: 0.4890 - val_loss: 0.0117 - val_accuracy: 0.9496 - lr: 3.3333e-05\n",
      "Epoch 82/90\n",
      "24931/24931 [==============================] - 103s 4ms/step - loss: 0.1496 - accuracy: 0.4891 - val_loss: 0.0116 - val_accuracy: 0.9496 - lr: 3.3333e-05\n",
      "Epoch 83/90\n",
      "24920/24931 [============================>.] - ETA: 0s - loss: 0.1496 - accuracy: 0.4891"
     ]
    },
    {
     "name": "stderr",
     "output_type": "stream",
     "text": [
      "C:\\Users\\Momrez\\anaconda3\\envs\\new\\Lib\\site-packages\\keras\\src\\engine\\training.py:3103: UserWarning: You are saving your model as an HDF5 file via `model.save()`. This file format is considered legacy. We recommend using instead the native Keras format, e.g. `model.save('my_model.keras')`.\n",
      "  saving_api.save_model(\n"
     ]
    },
    {
     "name": "stdout",
     "output_type": "stream",
     "text": [
      "INFO:tensorflow:Assets written to: C:\\Users\\Momrez\\Downloads\\Osman\\cyber security Edge-IIoTset\\wandb\\run-20231213_083759-4ix4kn6n\\files\\model-best\\assets\n"
     ]
    },
    {
     "name": "stderr",
     "output_type": "stream",
     "text": [
      "INFO:tensorflow:Assets written to: C:\\Users\\Momrez\\Downloads\\Osman\\cyber security Edge-IIoTset\\wandb\\run-20231213_083759-4ix4kn6n\\files\\model-best\\assets\n",
      "\u001b[34m\u001b[1mwandb\u001b[0m: Adding directory to artifact (C:\\Users\\Momrez\\Downloads\\Osman\\cyber security Edge-IIoTset\\wandb\\run-20231213_083759-4ix4kn6n\\files\\model-best)... Done. 0.0s\n"
     ]
    },
    {
     "name": "stdout",
     "output_type": "stream",
     "text": [
      "24931/24931 [==============================] - 111s 4ms/step - loss: 0.1496 - accuracy: 0.4891 - val_loss: 0.0116 - val_accuracy: 0.9496 - lr: 3.3333e-05\n",
      "Epoch 84/90\n",
      "24931/24931 [==============================] - 106s 4ms/step - loss: 0.1496 - accuracy: 0.4891 - val_loss: 0.0117 - val_accuracy: 0.9498 - lr: 3.3333e-05\n",
      "Epoch 85/90\n",
      "24931/24931 [==============================] - 99s 4ms/step - loss: 0.1496 - accuracy: 0.4891 - val_loss: 0.0117 - val_accuracy: 0.9496 - lr: 3.3333e-05\n",
      "Epoch 86/90\n",
      "24931/24931 [==============================] - 98s 4ms/step - loss: 0.1496 - accuracy: 0.4891 - val_loss: 0.0117 - val_accuracy: 0.9496 - lr: 3.3333e-05\n",
      "Epoch 87/90\n",
      "24931/24931 [==============================] - 98s 4ms/step - loss: 0.1496 - accuracy: 0.4892 - val_loss: 0.0117 - val_accuracy: 0.9497 - lr: 3.3333e-05\n",
      "Epoch 88/90\n",
      "24931/24931 [==============================] - 99s 4ms/step - loss: 0.1495 - accuracy: 0.4892 - val_loss: 0.0116 - val_accuracy: 0.9496 - lr: 3.3333e-05\n",
      "Epoch 89/90\n",
      "24931/24931 [==============================] - 98s 4ms/step - loss: 0.1496 - accuracy: 0.4892 - val_loss: 0.0117 - val_accuracy: 0.9498 - lr: 3.3333e-05\n",
      "Epoch 90/90\n",
      "24918/24931 [============================>.] - ETA: 0s - loss: 0.1496 - accuracy: 0.4892"
     ]
    },
    {
     "name": "stderr",
     "output_type": "stream",
     "text": [
      "C:\\Users\\Momrez\\anaconda3\\envs\\new\\Lib\\site-packages\\keras\\src\\engine\\training.py:3103: UserWarning: You are saving your model as an HDF5 file via `model.save()`. This file format is considered legacy. We recommend using instead the native Keras format, e.g. `model.save('my_model.keras')`.\n",
      "  saving_api.save_model(\n"
     ]
    },
    {
     "name": "stdout",
     "output_type": "stream",
     "text": [
      "INFO:tensorflow:Assets written to: C:\\Users\\Momrez\\Downloads\\Osman\\cyber security Edge-IIoTset\\wandb\\run-20231213_083759-4ix4kn6n\\files\\model-best\\assets\n"
     ]
    },
    {
     "name": "stderr",
     "output_type": "stream",
     "text": [
      "INFO:tensorflow:Assets written to: C:\\Users\\Momrez\\Downloads\\Osman\\cyber security Edge-IIoTset\\wandb\\run-20231213_083759-4ix4kn6n\\files\\model-best\\assets\n",
      "\u001b[34m\u001b[1mwandb\u001b[0m: Adding directory to artifact (C:\\Users\\Momrez\\Downloads\\Osman\\cyber security Edge-IIoTset\\wandb\\run-20231213_083759-4ix4kn6n\\files\\model-best)... Done. 0.0s\n"
     ]
    },
    {
     "name": "stdout",
     "output_type": "stream",
     "text": [
      "24931/24931 [==============================] - 99s 4ms/step - loss: 0.1496 - accuracy: 0.4892 - val_loss: 0.0116 - val_accuracy: 0.9496 - lr: 3.3333e-05\n"
     ]
    }
   ],
   "source": [
    "from tensorflow.keras.callbacks import EarlyStopping, ReduceLROnPlateau, LearningRateScheduler\n",
    "import wandb\n",
    "\n",
    "# Log in to WandB\n",
    "wandb.login(key='8f0d6e889f9698caf1173751c1e03e59c7f70277')\n",
    "\n",
    "# Initialize WandB run\n",
    "wandb.init(project='dnn_fine_tune_GAN')\n",
    "\n",
    "# Simple 4 Layer Dense Model\n",
    "model = Sequential()\n",
    "model.add(Dense(128, input_dim=_features, activation='relu'))\n",
    "model.add(Dropout(0.1))\n",
    "model.add(Dense(256, activation='relu'))\n",
    "model.add(Dropout(0.1))\n",
    "model.add(Dense(128, activation='relu'))\n",
    "model.add(Dropout(0.1))\n",
    "model.add(Dense(96, kernel_initializer='normal'))\n",
    "model.add(Dense(n_classes, activation='softmax'))\n",
    "\n",
    "model.summary()\n",
    "\n",
    "# Compile the model\n",
    "opt = keras.optimizers.Adam(learning_rate=0.0001)\n",
    "model.compile(loss='binary_crossentropy', optimizer=opt, metrics=['accuracy'])\n",
    "\n",
    "# Define callbacks (including WandB callback)\n",
    "callbacks = [\n",
    "    EarlyStopping(monitor='loss', patience=10),\n",
    "    ReduceLROnPlateau(monitor='val_loss', factor=0.2, patience=3, min_lr=0.001),\n",
    "    wandb.keras.WandbCallback()\n",
    "]\n",
    "\n",
    "# Learning rate schedule\n",
    "def lr_schedule(epoch):\n",
    "    if epoch < 30:\n",
    "        return 0.0002  # First 30 epochs with this learning rate\n",
    "    elif epoch < 60:\n",
    "        return 0.0002/4  # Next 30 epochs with a lower learning rate\n",
    "    else:\n",
    "        return 0.0002/6  # Last 30 epochs with an even lower learning rate\n",
    "\n",
    "lr_scheduler = LearningRateScheduler(lr_schedule)\n",
    "\n",
    "# Train the model with WandB logging and learning rate schedule\n",
    "history = model.fit(\n",
    "    X_train2d, y_train2,\n",
    "    batch_size=256,\n",
    "    epochs=90,  # Total epochs for fine-tuning\n",
    "    verbose=True,\n",
    "    validation_data=(X_test, y_test),\n",
    "    callbacks=[callbacks, lr_scheduler]\n",
    ")"
   ]
  },
  {
   "cell_type": "code",
   "execution_count": 21,
   "id": "962ad01f-98cc-4c6f-ad6e-5fab3d433de5",
   "metadata": {},
   "outputs": [
    {
     "name": "stderr",
     "output_type": "stream",
     "text": [
      "C:\\Users\\Momrez\\anaconda3\\envs\\new\\Lib\\site-packages\\keras\\src\\engine\\training.py:3103: UserWarning: You are saving your model as an HDF5 file via `model.save()`. This file format is considered legacy. We recommend using instead the native Keras format, e.g. `model.save('my_model.keras')`.\n",
      "  saving_api.save_model(\n"
     ]
    }
   ],
   "source": [
    "model.save('model3_dnn_Gan.h5')"
   ]
  },
  {
   "cell_type": "code",
   "execution_count": 22,
   "id": "9786e2fc-a1ab-4756-84fc-1aca84ff3512",
   "metadata": {},
   "outputs": [
    {
     "name": "stderr",
     "output_type": "stream",
     "text": [
      "\u001b[34m\u001b[1mwandb\u001b[0m: \u001b[33mWARNING\u001b[0m Calling wandb.login() after wandb.init() has no effect.\n"
     ]
    },
    {
     "data": {
      "text/html": [
       "Finishing last run (ID:4ix4kn6n) before initializing another..."
      ],
      "text/plain": [
       "<IPython.core.display.HTML object>"
      ]
     },
     "metadata": {},
     "output_type": "display_data"
    },
    {
     "data": {
      "text/html": [
       "<style>\n",
       "    table.wandb td:nth-child(1) { padding: 0 10px; text-align: left ; width: auto;} td:nth-child(2) {text-align: left ; width: 100%}\n",
       "    .wandb-row { display: flex; flex-direction: row; flex-wrap: wrap; justify-content: flex-start; width: 100% }\n",
       "    .wandb-col { display: flex; flex-direction: column; flex-basis: 100%; flex: 1; padding: 10px; }\n",
       "    </style>\n",
       "<div class=\"wandb-row\"><div class=\"wandb-col\"><h3>Run history:</h3><br/><table class=\"wandb\"><tr><td>accuracy</td><td>▁▃▄▅▆▆▆▇▇▇▇▇▇▇▇█████████████████████████</td></tr><tr><td>epoch</td><td>▁▁▁▁▂▂▂▂▂▃▃▃▃▃▃▄▄▄▄▄▅▅▅▅▅▅▆▆▆▆▆▇▇▇▇▇▇███</td></tr><tr><td>loss</td><td>█▅▄▄▃▃▂▂▂▂▂▂▂▂▁▁▁▁▁▁▁▁▁▁▁▁▁▁▁▁▁▁▁▁▁▁▁▁▁▁</td></tr><tr><td>lr</td><td>██████████████▂▂▂▂▂▂▂▂▂▂▂▂▂▁▁▁▁▁▁▁▁▁▁▁▁▁</td></tr><tr><td>val_accuracy</td><td>▁▆█▇████████████████████████████████████</td></tr><tr><td>val_loss</td><td>█▃▂▁▁▁▁▁▁▁▁▁▁▁▁▁▁▁▁▁▁▁▁▁▁▁▁▁▁▁▁▁▁▁▁▁▁▁▁▁</td></tr></table><br/></div><div class=\"wandb-col\"><h3>Run summary:</h3><br/><table class=\"wandb\"><tr><td>accuracy</td><td>0.48922</td></tr><tr><td>best_epoch</td><td>89</td></tr><tr><td>best_val_loss</td><td>0.01162</td></tr><tr><td>epoch</td><td>89</td></tr><tr><td>loss</td><td>0.14955</td></tr><tr><td>lr</td><td>3e-05</td></tr><tr><td>val_accuracy</td><td>0.94961</td></tr><tr><td>val_loss</td><td>0.01162</td></tr></table><br/></div></div>"
      ],
      "text/plain": [
       "<IPython.core.display.HTML object>"
      ]
     },
     "metadata": {},
     "output_type": "display_data"
    },
    {
     "data": {
      "text/html": [
       " View run <strong style=\"color:#cdcd00\">classic-cloud-4</strong> at: <a href='https://wandb.ai/ganmaster/dnn_fine_tune_GAN/runs/4ix4kn6n' target=\"_blank\">https://wandb.ai/ganmaster/dnn_fine_tune_GAN/runs/4ix4kn6n</a><br/>Synced 6 W&B file(s), 1 media file(s), 90 artifact file(s) and 1 other file(s)"
      ],
      "text/plain": [
       "<IPython.core.display.HTML object>"
      ]
     },
     "metadata": {},
     "output_type": "display_data"
    },
    {
     "data": {
      "text/html": [
       "Find logs at: <code>.\\wandb\\run-20231213_083759-4ix4kn6n\\logs</code>"
      ],
      "text/plain": [
       "<IPython.core.display.HTML object>"
      ]
     },
     "metadata": {},
     "output_type": "display_data"
    },
    {
     "data": {
      "text/html": [
       "Successfully finished last run (ID:4ix4kn6n). Initializing new run:<br/>"
      ],
      "text/plain": [
       "<IPython.core.display.HTML object>"
      ]
     },
     "metadata": {},
     "output_type": "display_data"
    },
    {
     "data": {
      "text/html": [
       "wandb version 0.16.1 is available!  To upgrade, please run:\n",
       " $ pip install wandb --upgrade"
      ],
      "text/plain": [
       "<IPython.core.display.HTML object>"
      ]
     },
     "metadata": {},
     "output_type": "display_data"
    },
    {
     "data": {
      "text/html": [
       "Tracking run with wandb version 0.16.0"
      ],
      "text/plain": [
       "<IPython.core.display.HTML object>"
      ]
     },
     "metadata": {},
     "output_type": "display_data"
    },
    {
     "data": {
      "text/html": [
       "Run data is saved locally in <code>C:\\Users\\Momrez\\Downloads\\Osman\\cyber security Edge-IIoTset\\wandb\\run-20231213_110251-g2mpbzqp</code>"
      ],
      "text/plain": [
       "<IPython.core.display.HTML object>"
      ]
     },
     "metadata": {},
     "output_type": "display_data"
    },
    {
     "data": {
      "text/html": [
       "Syncing run <strong><a href='https://wandb.ai/ganmaster/dnn_fine_tune_validate_GAN/runs/g2mpbzqp' target=\"_blank\">sweet-brook-4</a></strong> to <a href='https://wandb.ai/ganmaster/dnn_fine_tune_validate_GAN' target=\"_blank\">Weights & Biases</a> (<a href='https://wandb.me/run' target=\"_blank\">docs</a>)<br/>"
      ],
      "text/plain": [
       "<IPython.core.display.HTML object>"
      ]
     },
     "metadata": {},
     "output_type": "display_data"
    },
    {
     "data": {
      "text/html": [
       " View project at <a href='https://wandb.ai/ganmaster/dnn_fine_tune_validate_GAN' target=\"_blank\">https://wandb.ai/ganmaster/dnn_fine_tune_validate_GAN</a>"
      ],
      "text/plain": [
       "<IPython.core.display.HTML object>"
      ]
     },
     "metadata": {},
     "output_type": "display_data"
    },
    {
     "data": {
      "text/html": [
       " View run at <a href='https://wandb.ai/ganmaster/dnn_fine_tune_validate_GAN/runs/g2mpbzqp' target=\"_blank\">https://wandb.ai/ganmaster/dnn_fine_tune_validate_GAN/runs/g2mpbzqp</a>"
      ],
      "text/plain": [
       "<IPython.core.display.HTML object>"
      ]
     },
     "metadata": {},
     "output_type": "display_data"
    },
    {
     "name": "stdout",
     "output_type": "stream",
     "text": [
      "14920/14920 [==============================] - 15s 1ms/step - loss: 0.0116 - accuracy: 0.9496\n",
      "14920/14920 [==============================] - 14s 922us/step\n",
      "14920/14920 [==============================] - 15s 1ms/step - loss: 0.0116 - accuracy: 0.9496\n",
      "14920/14920 [==============================] - 14s 919us/step\n"
     ]
    },
    {
     "data": {
      "image/png": "[encoded data removed]",
      "text/plain": [
       "<Figure size 1000x800 with 2 Axes>"
      ]
     },
     "metadata": {},
     "output_type": "display_data"
    },
    {
     "name": "stdout",
     "output_type": "stream",
     "text": [
      "Completed\n",
      "Time taken: 0:01:13.103120\n",
      "Validation score: 0.9496143840408195\n",
      "Evaluation score: [0.011622910387814045, 0.949614405632019]\n",
      "Recall score: 0.9496143840408195\n",
      "Precision score: 0.9625245716043782\n",
      "F1 Measure score: 0.9452662588317005\n",
      "ROC-AUC score: 0.8841606971390189\n",
      "Evaluation score: [0.011622910387814045, 0.949614405632019]\n",
      "Precision: 0.9625245716043782\n",
      "Recall: 0.9496143840408195\n",
      "F1 Score: 0.9452662588317005\n",
      "ROC-AUC Score: 0.996296319284426\n",
      "\n",
      "Classification Report:\n",
      "               precision    recall  f1-score   support\n",
      "\n",
      "           0       0.96      0.98      0.97      6052\n",
      "           1       0.75      0.95      0.84     12028\n",
      "           2       1.00      1.00      1.00     17096\n",
      "           3       0.82      1.00      0.90     12560\n",
      "           4       1.00      1.00      1.00     30675\n",
      "           5       0.73      0.45      0.56       225\n",
      "           6       1.00      1.00      1.00        87\n",
      "           7       1.00      1.00      1.00    340790\n",
      "           8       0.93      0.18      0.30     12505\n",
      "           9       1.00      0.50      0.67      5094\n",
      "          10       1.00      0.89      0.94      2468\n",
      "          11       0.45      0.92      0.61     12478\n",
      "          12       0.67      0.48      0.56      9216\n",
      "          13       1.00      0.84      0.91     12417\n",
      "          14       0.59      0.39      0.47      3727\n",
      "\n",
      "    accuracy                           0.95    477418\n",
      "   macro avg       0.86      0.77      0.78    477418\n",
      "weighted avg       0.96      0.95      0.95    477418\n",
      "\n"
     ]
    }
   ],
   "source": [
    "import datetime as dt\n",
    "from sklearn.metrics import accuracy_score, confusion_matrix, precision_score, recall_score, f1_score, roc_auc_score\n",
    "from sklearn import preprocessing\n",
    "import wandb\n",
    "import seaborn as sns\n",
    "from sklearn.metrics import confusion_matrix, classification_report\n",
    "\n",
    "# Log in to WandB\n",
    "wandb.login(key='8f0d6e889f9698caf1173751c1e03e59c7f70277')\n",
    "\n",
    "# Initialize WandB run\n",
    "wandb.init(project='dnn_fine_tune_validate_GAN')\n",
    "\n",
    "start = dt.datetime.now()\n",
    "\n",
    "escore = model.evaluate(X_test, y_test, batch_size=32)\n",
    "pred = model.predict(X_test)\n",
    "pred = np.argmax(pred,axis=1)\n",
    "y_eval = np.argmax(y_test,axis=1)\n",
    "\n",
    "score = metrics.accuracy_score(y_eval, pred)\n",
    "rscore = recall_score(y_eval, pred, average='weighted')\n",
    "ascore = precision_score(y_eval, pred, average='weighted')\n",
    "f1score= f1_score(y_eval, pred, average='weighted') #F1 = 2 * (precision * recall) / (precision + recall) for manual\n",
    "\n",
    "lb = preprocessing.LabelBinarizer()\n",
    "lb.fit(y_eval)\n",
    "y_eval = lb.transform(y_eval)\n",
    "pred = lb.transform(pred)\n",
    "roc_score = roc_auc_score(y_eval, pred)\n",
    "#roc_auc_socre = multiclass_roc_auc_score(y_eval, pred)\n",
    "\n",
    "# Evaluate the model on the test set\n",
    "escore = model.evaluate(X_test, y_test, batch_size=32)\n",
    "pred = model.predict(X_test)\n",
    "pred_classes = np.argmax(pred, axis=1)\n",
    "y_eval_classes = np.argmax(y_test, axis=1)\n",
    "\n",
    "# Confusion matrix\n",
    "conf_mat = confusion_matrix(y_eval_classes, pred_classes)\n",
    "\n",
    "# Plot the confusion matrix using seaborn\n",
    "plt.figure(figsize=(10, 8))\n",
    "sns.heatmap(conf_mat, annot=True, fmt='d', cmap='Blues', xticklabels=[str(i) for i in range(n_classes)], yticklabels=[str(i) for i in range(n_classes)])\n",
    "plt.xlabel('Predicted')\n",
    "plt.ylabel('True')\n",
    "plt.title('Confusion Matrix')\n",
    "plt.show()\n",
    "\n",
    "# Classification report\n",
    "class_report = classification_report(y_eval_classes, pred_classes)\n",
    "\n",
    "# Additional metrics\n",
    "precision = precision_score(y_eval_classes, pred_classes, average='weighted')\n",
    "recall = recall_score(y_eval_classes, pred_classes, average='weighted')\n",
    "f1 = f1_score(y_eval_classes, pred_classes, average='weighted')\n",
    "roc_auc = roc_auc_score(y_test, pred, multi_class='ovr')\n",
    "\n",
    "print('Completed')\n",
    "print('Time taken:',dt.datetime.now()-start)\n",
    "\n",
    "print(\"Validation score: {}\".format(score))\n",
    "print(\"Evaluation score: {}\".format(escore))\n",
    "print(\"Recall score: {}\".format(rscore))\n",
    "print(\"Precision score: {}\".format(ascore))\n",
    "print(\"F1 Measure score: {}\".format(f1score))\n",
    "print(\"ROC-AUC score: {}\".format(roc_score))\n",
    "\n",
    "# New metrics\n",
    "print('Evaluation score:', escore)\n",
    "print('Precision:', precision)\n",
    "print('Recall:', recall)\n",
    "print('F1 Score:', f1)\n",
    "print('ROC-AUC Score:', roc_auc)\n",
    "print('\\nClassification Report:\\n', class_report)\n"
   ]
  },
  {
   "cell_type": "code",
   "execution_count": 17,
   "id": "d2c7198d-4eee-4f87-8b1b-ebb5cc080984",
   "metadata": {},
   "outputs": [
    {
     "name": "stderr",
     "output_type": "stream",
     "text": [
      "\u001b[34m\u001b[1mwandb\u001b[0m: \u001b[33mWARNING\u001b[0m Calling wandb.login() after wandb.init() has no effect.\n"
     ]
    },
    {
     "data": {
      "text/html": [
       "Finishing last run (ID:45l8cgll) before initializing another..."
      ],
      "text/plain": [
       "<IPython.core.display.HTML object>"
      ]
     },
     "metadata": {},
     "output_type": "display_data"
    },
    {
     "data": {
      "text/html": [
       " View run <strong style=\"color:#cdcd00\">eager-breeze-4</strong> at: <a href='https://wandb.ai/ganmaster/dcnn_fine_tune/runs/45l8cgll' target=\"_blank\">https://wandb.ai/ganmaster/dcnn_fine_tune/runs/45l8cgll</a><br/>Synced 6 W&B file(s), 0 media file(s), 0 artifact file(s) and 0 other file(s)"
      ],
      "text/plain": [
       "<IPython.core.display.HTML object>"
      ]
     },
     "metadata": {},
     "output_type": "display_data"
    },
    {
     "data": {
      "text/html": [
       "Find logs at: <code>.\\wandb\\run-20231213_114054-45l8cgll\\logs</code>"
      ],
      "text/plain": [
       "<IPython.core.display.HTML object>"
      ]
     },
     "metadata": {},
     "output_type": "display_data"
    },
    {
     "data": {
      "text/html": [
       "Successfully finished last run (ID:45l8cgll). Initializing new run:<br/>"
      ],
      "text/plain": [
       "<IPython.core.display.HTML object>"
      ]
     },
     "metadata": {},
     "output_type": "display_data"
    },
    {
     "data": {
      "text/html": [
       "wandb version 0.16.1 is available!  To upgrade, please run:\n",
       " $ pip install wandb --upgrade"
      ],
      "text/plain": [
       "<IPython.core.display.HTML object>"
      ]
     },
     "metadata": {},
     "output_type": "display_data"
    },
    {
     "data": {
      "text/html": [
       "Tracking run with wandb version 0.16.0"
      ],
      "text/plain": [
       "<IPython.core.display.HTML object>"
      ]
     },
     "metadata": {},
     "output_type": "display_data"
    },
    {
     "data": {
      "text/html": [
       "Run data is saved locally in <code>C:\\Users\\Momrez\\Downloads\\Osman\\cyber security Edge-IIoTset\\wandb\\run-20231213_114149-nsia3b4y</code>"
      ],
      "text/plain": [
       "<IPython.core.display.HTML object>"
      ]
     },
     "metadata": {},
     "output_type": "display_data"
    },
    {
     "data": {
      "text/html": [
       "Syncing run <strong><a href='https://wandb.ai/ganmaster/dcnn_fine_tune/runs/nsia3b4y' target=\"_blank\">sage-sponge-5</a></strong> to <a href='https://wandb.ai/ganmaster/dcnn_fine_tune' target=\"_blank\">Weights & Biases</a> (<a href='https://wandb.me/run' target=\"_blank\">docs</a>)<br/>"
      ],
      "text/plain": [
       "<IPython.core.display.HTML object>"
      ]
     },
     "metadata": {},
     "output_type": "display_data"
    },
    {
     "data": {
      "text/html": [
       " View project at <a href='https://wandb.ai/ganmaster/dcnn_fine_tune' target=\"_blank\">https://wandb.ai/ganmaster/dcnn_fine_tune</a>"
      ],
      "text/plain": [
       "<IPython.core.display.HTML object>"
      ]
     },
     "metadata": {},
     "output_type": "display_data"
    },
    {
     "data": {
      "text/html": [
       " View run at <a href='https://wandb.ai/ganmaster/dcnn_fine_tune/runs/nsia3b4y' target=\"_blank\">https://wandb.ai/ganmaster/dcnn_fine_tune/runs/nsia3b4y</a>"
      ],
      "text/plain": [
       "<IPython.core.display.HTML object>"
      ]
     },
     "metadata": {},
     "output_type": "display_data"
    },
    {
     "name": "stdout",
     "output_type": "stream",
     "text": [
      "Model: \"sequential_4\"\n",
      "_________________________________________________________________\n",
      " Layer (type)                Output Shape              Param #   \n",
      "=================================================================\n",
      " conv1d_12 (Conv1D)          (None, 86, 128)           896       \n",
      "                                                                 \n",
      " activation_12 (Activation)  (None, 86, 128)           0         \n",
      "                                                                 \n",
      " max_pooling1d_12 (MaxPooli  (None, 43, 128)           0         \n",
      " ng1D)                                                           \n",
      "                                                                 \n",
      " conv1d_13 (Conv1D)          (None, 38, 256)           196864    \n",
      "                                                                 \n",
      " activation_13 (Activation)  (None, 38, 256)           0         \n",
      "                                                                 \n",
      " max_pooling1d_13 (MaxPooli  (None, 19, 256)           0         \n",
      " ng1D)                                                           \n",
      "                                                                 \n",
      " conv1d_14 (Conv1D)          (None, 14, 128)           196736    \n",
      "                                                                 \n",
      " activation_14 (Activation)  (None, 14, 128)           0         \n",
      "                                                                 \n",
      " max_pooling1d_14 (MaxPooli  (None, 7, 128)            0         \n",
      " ng1D)                                                           \n",
      "                                                                 \n",
      " flatten_4 (Flatten)         (None, 896)               0         \n",
      "                                                                 \n",
      " dense_24 (Dense)            (None, 256)               229632    \n",
      "                                                                 \n",
      " dropout_20 (Dropout)        (None, 256)               0         \n",
      "                                                                 \n",
      " dense_25 (Dense)            (None, 128)               32896     \n",
      "                                                                 \n",
      " dropout_21 (Dropout)        (None, 128)               0         \n",
      "                                                                 \n",
      " dense_26 (Dense)            (None, 96)                12384     \n",
      "                                                                 \n",
      " dropout_22 (Dropout)        (None, 96)                0         \n",
      "                                                                 \n",
      " dense_27 (Dense)            (None, 128)               12416     \n",
      "                                                                 \n",
      " dropout_23 (Dropout)        (None, 128)               0         \n",
      "                                                                 \n",
      " dense_28 (Dense)            (None, 96)                12384     \n",
      "                                                                 \n",
      " dropout_24 (Dropout)        (None, 96)                0         \n",
      "                                                                 \n",
      " dense_29 (Dense)            (None, 15)                1455      \n",
      "                                                                 \n",
      "=================================================================\n",
      "Total params: 695663 (2.65 MB)\n",
      "Trainable params: 695663 (2.65 MB)\n",
      "Non-trainable params: 0 (0.00 Byte)\n",
      "_________________________________________________________________\n",
      "Epoch 1/50\n",
      "WARNING:tensorflow:From C:\\Users\\Momrez\\anaconda3\\envs\\new\\Lib\\site-packages\\keras\\src\\utils\\tf_utils.py:492: The name tf.ragged.RaggedTensorValue is deprecated. Please use tf.compat.v1.ragged.RaggedTensorValue instead.\n",
      "\n",
      "WARNING:tensorflow:From C:\\Users\\Momrez\\anaconda3\\envs\\new\\Lib\\site-packages\\keras\\src\\engine\\base_layer_utils.py:384: The name tf.executing_eagerly_outside_functions is deprecated. Please use tf.compat.v1.executing_eagerly_outside_functions instead.\n",
      "\n",
      "11190/11190 [==============================] - ETA: 0s - loss: 0.1535 - accuracy: 0.9327"
     ]
    },
    {
     "name": "stderr",
     "output_type": "stream",
     "text": [
      "C:\\Users\\Momrez\\anaconda3\\envs\\new\\Lib\\site-packages\\keras\\src\\engine\\training.py:3103: UserWarning: You are saving your model as an HDF5 file via `model.save()`. This file format is considered legacy. We recommend using instead the native Keras format, e.g. `model.save('my_model.keras')`.\n",
      "  saving_api.save_model(\n"
     ]
    },
    {
     "name": "stdout",
     "output_type": "stream",
     "text": [
      "INFO:tensorflow:Assets written to: C:\\Users\\Momrez\\Downloads\\Osman\\cyber security Edge-IIoTset\\wandb\\run-20231213_114149-nsia3b4y\\files\\model-best\\assets\n"
     ]
    },
    {
     "name": "stderr",
     "output_type": "stream",
     "text": [
      "INFO:tensorflow:Assets written to: C:\\Users\\Momrez\\Downloads\\Osman\\cyber security Edge-IIoTset\\wandb\\run-20231213_114149-nsia3b4y\\files\\model-best\\assets\n",
      "\u001b[34m\u001b[1mwandb\u001b[0m: Adding directory to artifact (C:\\Users\\Momrez\\Downloads\\Osman\\cyber security Edge-IIoTset\\wandb\\run-20231213_114149-nsia3b4y\\files\\model-best)... Done. 0.0s\n"
     ]
    },
    {
     "name": "stdout",
     "output_type": "stream",
     "text": [
      "11190/11190 [==============================] - 431s 38ms/step - loss: 0.1535 - accuracy: 0.9327 - val_loss: 0.1077 - val_accuracy: 0.9467 - lr: 2.0000e-04\n",
      "Epoch 2/50\n",
      "11189/11190 [============================>.] - ETA: 0s - loss: 0.1088 - accuracy: 0.9468"
     ]
    },
    {
     "name": "stderr",
     "output_type": "stream",
     "text": [
      "C:\\Users\\Momrez\\anaconda3\\envs\\new\\Lib\\site-packages\\keras\\src\\engine\\training.py:3103: UserWarning: You are saving your model as an HDF5 file via `model.save()`. This file format is considered legacy. We recommend using instead the native Keras format, e.g. `model.save('my_model.keras')`.\n",
      "  saving_api.save_model(\n"
     ]
    },
    {
     "name": "stdout",
     "output_type": "stream",
     "text": [
      "INFO:tensorflow:Assets written to: C:\\Users\\Momrez\\Downloads\\Osman\\cyber security Edge-IIoTset\\wandb\\run-20231213_114149-nsia3b4y\\files\\model-best\\assets\n"
     ]
    },
    {
     "name": "stderr",
     "output_type": "stream",
     "text": [
      "INFO:tensorflow:Assets written to: C:\\Users\\Momrez\\Downloads\\Osman\\cyber security Edge-IIoTset\\wandb\\run-20231213_114149-nsia3b4y\\files\\model-best\\assets\n",
      "\u001b[34m\u001b[1mwandb\u001b[0m: Adding directory to artifact (C:\\Users\\Momrez\\Downloads\\Osman\\cyber security Edge-IIoTset\\wandb\\run-20231213_114149-nsia3b4y\\files\\model-best)... Done. 0.0s\n"
     ]
    },
    {
     "name": "stdout",
     "output_type": "stream",
     "text": [
      "11190/11190 [==============================] - 417s 37ms/step - loss: 0.1088 - accuracy: 0.9468 - val_loss: 0.1012 - val_accuracy: 0.9490 - lr: 2.0000e-04\n",
      "Epoch 3/50\n",
      "11190/11190 [==============================] - ETA: 0s - loss: 0.1039 - accuracy: 0.9481"
     ]
    },
    {
     "name": "stderr",
     "output_type": "stream",
     "text": [
      "C:\\Users\\Momrez\\anaconda3\\envs\\new\\Lib\\site-packages\\keras\\src\\engine\\training.py:3103: UserWarning: You are saving your model as an HDF5 file via `model.save()`. This file format is considered legacy. We recommend using instead the native Keras format, e.g. `model.save('my_model.keras')`.\n",
      "  saving_api.save_model(\n"
     ]
    },
    {
     "name": "stdout",
     "output_type": "stream",
     "text": [
      "INFO:tensorflow:Assets written to: C:\\Users\\Momrez\\Downloads\\Osman\\cyber security Edge-IIoTset\\wandb\\run-20231213_114149-nsia3b4y\\files\\model-best\\assets\n"
     ]
    },
    {
     "name": "stderr",
     "output_type": "stream",
     "text": [
      "INFO:tensorflow:Assets written to: C:\\Users\\Momrez\\Downloads\\Osman\\cyber security Edge-IIoTset\\wandb\\run-20231213_114149-nsia3b4y\\files\\model-best\\assets\n",
      "\u001b[34m\u001b[1mwandb\u001b[0m: Adding directory to artifact (C:\\Users\\Momrez\\Downloads\\Osman\\cyber security Edge-IIoTset\\wandb\\run-20231213_114149-nsia3b4y\\files\\model-best)... Done. 0.0s\n"
     ]
    },
    {
     "name": "stdout",
     "output_type": "stream",
     "text": [
      "11190/11190 [==============================] - 416s 37ms/step - loss: 0.1039 - accuracy: 0.9481 - val_loss: 0.1002 - val_accuracy: 0.9490 - lr: 2.0000e-04\n",
      "Epoch 4/50\n",
      "11190/11190 [==============================] - ETA: 0s - loss: 0.1020 - accuracy: 0.9484"
     ]
    },
    {
     "name": "stderr",
     "output_type": "stream",
     "text": [
      "C:\\Users\\Momrez\\anaconda3\\envs\\new\\Lib\\site-packages\\keras\\src\\engine\\training.py:3103: UserWarning: You are saving your model as an HDF5 file via `model.save()`. This file format is considered legacy. We recommend using instead the native Keras format, e.g. `model.save('my_model.keras')`.\n",
      "  saving_api.save_model(\n"
     ]
    },
    {
     "name": "stdout",
     "output_type": "stream",
     "text": [
      "INFO:tensorflow:Assets written to: C:\\Users\\Momrez\\Downloads\\Osman\\cyber security Edge-IIoTset\\wandb\\run-20231213_114149-nsia3b4y\\files\\model-best\\assets\n"
     ]
    },
    {
     "name": "stderr",
     "output_type": "stream",
     "text": [
      "INFO:tensorflow:Assets written to: C:\\Users\\Momrez\\Downloads\\Osman\\cyber security Edge-IIoTset\\wandb\\run-20231213_114149-nsia3b4y\\files\\model-best\\assets\n",
      "\u001b[34m\u001b[1mwandb\u001b[0m: Adding directory to artifact (C:\\Users\\Momrez\\Downloads\\Osman\\cyber security Edge-IIoTset\\wandb\\run-20231213_114149-nsia3b4y\\files\\model-best)... Done. 0.0s\n"
     ]
    },
    {
     "name": "stdout",
     "output_type": "stream",
     "text": [
      "11190/11190 [==============================] - 414s 37ms/step - loss: 0.1020 - accuracy: 0.9484 - val_loss: 0.0998 - val_accuracy: 0.9493 - lr: 2.0000e-04\n",
      "Epoch 5/50\n",
      "11190/11190 [==============================] - ETA: 0s - loss: 0.1026 - accuracy: 0.9484"
     ]
    },
    {
     "name": "stderr",
     "output_type": "stream",
     "text": [
      "C:\\Users\\Momrez\\anaconda3\\envs\\new\\Lib\\site-packages\\keras\\src\\engine\\training.py:3103: UserWarning: You are saving your model as an HDF5 file via `model.save()`. This file format is considered legacy. We recommend using instead the native Keras format, e.g. `model.save('my_model.keras')`.\n",
      "  saving_api.save_model(\n"
     ]
    },
    {
     "name": "stdout",
     "output_type": "stream",
     "text": [
      "INFO:tensorflow:Assets written to: C:\\Users\\Momrez\\Downloads\\Osman\\cyber security Edge-IIoTset\\wandb\\run-20231213_114149-nsia3b4y\\files\\model-best\\assets\n"
     ]
    },
    {
     "name": "stderr",
     "output_type": "stream",
     "text": [
      "INFO:tensorflow:Assets written to: C:\\Users\\Momrez\\Downloads\\Osman\\cyber security Edge-IIoTset\\wandb\\run-20231213_114149-nsia3b4y\\files\\model-best\\assets\n",
      "\u001b[34m\u001b[1mwandb\u001b[0m: Adding directory to artifact (C:\\Users\\Momrez\\Downloads\\Osman\\cyber security Edge-IIoTset\\wandb\\run-20231213_114149-nsia3b4y\\files\\model-best)... Done. 0.0s\n"
     ]
    },
    {
     "name": "stdout",
     "output_type": "stream",
     "text": [
      "11190/11190 [==============================] - 416s 37ms/step - loss: 0.1026 - accuracy: 0.9484 - val_loss: 0.0988 - val_accuracy: 0.9493 - lr: 2.0000e-04\n",
      "Epoch 6/50\n",
      "11189/11190 [============================>.] - ETA: 0s - loss: 0.1013 - accuracy: 0.9486"
     ]
    },
    {
     "name": "stderr",
     "output_type": "stream",
     "text": [
      "C:\\Users\\Momrez\\anaconda3\\envs\\new\\Lib\\site-packages\\keras\\src\\engine\\training.py:3103: UserWarning: You are saving your model as an HDF5 file via `model.save()`. This file format is considered legacy. We recommend using instead the native Keras format, e.g. `model.save('my_model.keras')`.\n",
      "  saving_api.save_model(\n"
     ]
    },
    {
     "name": "stdout",
     "output_type": "stream",
     "text": [
      "INFO:tensorflow:Assets written to: C:\\Users\\Momrez\\Downloads\\Osman\\cyber security Edge-IIoTset\\wandb\\run-20231213_114149-nsia3b4y\\files\\model-best\\assets\n"
     ]
    },
    {
     "name": "stderr",
     "output_type": "stream",
     "text": [
      "INFO:tensorflow:Assets written to: C:\\Users\\Momrez\\Downloads\\Osman\\cyber security Edge-IIoTset\\wandb\\run-20231213_114149-nsia3b4y\\files\\model-best\\assets\n",
      "\u001b[34m\u001b[1mwandb\u001b[0m: Adding directory to artifact (C:\\Users\\Momrez\\Downloads\\Osman\\cyber security Edge-IIoTset\\wandb\\run-20231213_114149-nsia3b4y\\files\\model-best)... Done. 0.0s\n"
     ]
    },
    {
     "name": "stdout",
     "output_type": "stream",
     "text": [
      "11190/11190 [==============================] - 424s 38ms/step - loss: 0.1013 - accuracy: 0.9486 - val_loss: 0.0987 - val_accuracy: 0.9494 - lr: 2.0000e-04\n",
      "Epoch 7/50\n",
      "11190/11190 [==============================] - 410s 37ms/step - loss: 0.1011 - accuracy: 0.9487 - val_loss: 0.0989 - val_accuracy: 0.9492 - lr: 2.0000e-04\n",
      "Epoch 8/50\n",
      "11190/11190 [==============================] - 401s 36ms/step - loss: 0.1008 - accuracy: 0.9487 - val_loss: 0.1003 - val_accuracy: 0.9489 - lr: 2.0000e-04\n",
      "Epoch 9/50\n",
      "11190/11190 [==============================] - 407s 36ms/step - loss: 0.1012 - accuracy: 0.9487 - val_loss: 0.1016 - val_accuracy: 0.9486 - lr: 2.0000e-04\n",
      "Epoch 10/50\n",
      "11190/11190 [==============================] - 401s 36ms/step - loss: 0.1006 - accuracy: 0.9489 - val_loss: 0.0995 - val_accuracy: 0.9491 - lr: 2.0000e-04\n",
      "Epoch 11/50\n",
      "11190/11190 [==============================] - ETA: 0s - loss: 0.1004 - accuracy: 0.9488"
     ]
    },
    {
     "name": "stderr",
     "output_type": "stream",
     "text": [
      "C:\\Users\\Momrez\\anaconda3\\envs\\new\\Lib\\site-packages\\keras\\src\\engine\\training.py:3103: UserWarning: You are saving your model as an HDF5 file via `model.save()`. This file format is considered legacy. We recommend using instead the native Keras format, e.g. `model.save('my_model.keras')`.\n",
      "  saving_api.save_model(\n"
     ]
    },
    {
     "name": "stdout",
     "output_type": "stream",
     "text": [
      "INFO:tensorflow:Assets written to: C:\\Users\\Momrez\\Downloads\\Osman\\cyber security Edge-IIoTset\\wandb\\run-20231213_114149-nsia3b4y\\files\\model-best\\assets\n"
     ]
    },
    {
     "name": "stderr",
     "output_type": "stream",
     "text": [
      "INFO:tensorflow:Assets written to: C:\\Users\\Momrez\\Downloads\\Osman\\cyber security Edge-IIoTset\\wandb\\run-20231213_114149-nsia3b4y\\files\\model-best\\assets\n",
      "\u001b[34m\u001b[1mwandb\u001b[0m: Adding directory to artifact (C:\\Users\\Momrez\\Downloads\\Osman\\cyber security Edge-IIoTset\\wandb\\run-20231213_114149-nsia3b4y\\files\\model-best)... Done. 0.0s\n"
     ]
    },
    {
     "name": "stdout",
     "output_type": "stream",
     "text": [
      "11190/11190 [==============================] - 404s 36ms/step - loss: 0.1004 - accuracy: 0.9488 - val_loss: 0.0987 - val_accuracy: 0.9493 - lr: 2.0000e-04\n",
      "Epoch 12/50\n",
      "11190/11190 [==============================] - 401s 36ms/step - loss: 0.0998 - accuracy: 0.9489 - val_loss: 0.0991 - val_accuracy: 0.9497 - lr: 2.0000e-04\n",
      "Epoch 13/50\n",
      "11189/11190 [============================>.] - ETA: 0s - loss: 0.1005 - accuracy: 0.9488"
     ]
    },
    {
     "name": "stderr",
     "output_type": "stream",
     "text": [
      "C:\\Users\\Momrez\\anaconda3\\envs\\new\\Lib\\site-packages\\keras\\src\\engine\\training.py:3103: UserWarning: You are saving your model as an HDF5 file via `model.save()`. This file format is considered legacy. We recommend using instead the native Keras format, e.g. `model.save('my_model.keras')`.\n",
      "  saving_api.save_model(\n"
     ]
    },
    {
     "name": "stdout",
     "output_type": "stream",
     "text": [
      "INFO:tensorflow:Assets written to: C:\\Users\\Momrez\\Downloads\\Osman\\cyber security Edge-IIoTset\\wandb\\run-20231213_114149-nsia3b4y\\files\\model-best\\assets\n"
     ]
    },
    {
     "name": "stderr",
     "output_type": "stream",
     "text": [
      "INFO:tensorflow:Assets written to: C:\\Users\\Momrez\\Downloads\\Osman\\cyber security Edge-IIoTset\\wandb\\run-20231213_114149-nsia3b4y\\files\\model-best\\assets\n",
      "\u001b[34m\u001b[1mwandb\u001b[0m: Adding directory to artifact (C:\\Users\\Momrez\\Downloads\\Osman\\cyber security Edge-IIoTset\\wandb\\run-20231213_114149-nsia3b4y\\files\\model-best)... Done. 0.0s\n"
     ]
    },
    {
     "name": "stdout",
     "output_type": "stream",
     "text": [
      "11190/11190 [==============================] - 405s 36ms/step - loss: 0.1005 - accuracy: 0.9488 - val_loss: 0.0983 - val_accuracy: 0.9494 - lr: 2.0000e-04\n",
      "Epoch 14/50\n",
      "11190/11190 [==============================] - 404s 36ms/step - loss: 0.1004 - accuracy: 0.9491 - val_loss: 0.1000 - val_accuracy: 0.9495 - lr: 2.0000e-04\n",
      "Epoch 15/50\n",
      "11190/11190 [==============================] - 410s 37ms/step - loss: 0.0998 - accuracy: 0.9490 - val_loss: 0.0998 - val_accuracy: 0.9493 - lr: 2.0000e-04\n",
      "Epoch 16/50\n",
      "11190/11190 [==============================] - 405s 36ms/step - loss: 0.0999 - accuracy: 0.9488 - val_loss: 0.0985 - val_accuracy: 0.9494 - lr: 2.0000e-04\n",
      "Epoch 17/50\n",
      "11189/11190 [============================>.] - ETA: 0s - loss: 0.0997 - accuracy: 0.9489"
     ]
    },
    {
     "name": "stderr",
     "output_type": "stream",
     "text": [
      "C:\\Users\\Momrez\\anaconda3\\envs\\new\\Lib\\site-packages\\keras\\src\\engine\\training.py:3103: UserWarning: You are saving your model as an HDF5 file via `model.save()`. This file format is considered legacy. We recommend using instead the native Keras format, e.g. `model.save('my_model.keras')`.\n",
      "  saving_api.save_model(\n"
     ]
    },
    {
     "name": "stdout",
     "output_type": "stream",
     "text": [
      "INFO:tensorflow:Assets written to: C:\\Users\\Momrez\\Downloads\\Osman\\cyber security Edge-IIoTset\\wandb\\run-20231213_114149-nsia3b4y\\files\\model-best\\assets\n"
     ]
    },
    {
     "name": "stderr",
     "output_type": "stream",
     "text": [
      "INFO:tensorflow:Assets written to: C:\\Users\\Momrez\\Downloads\\Osman\\cyber security Edge-IIoTset\\wandb\\run-20231213_114149-nsia3b4y\\files\\model-best\\assets\n",
      "\u001b[34m\u001b[1mwandb\u001b[0m: Adding directory to artifact (C:\\Users\\Momrez\\Downloads\\Osman\\cyber security Edge-IIoTset\\wandb\\run-20231213_114149-nsia3b4y\\files\\model-best)... Done. 0.0s\n"
     ]
    },
    {
     "name": "stdout",
     "output_type": "stream",
     "text": [
      "11190/11190 [==============================] - 408s 36ms/step - loss: 0.0997 - accuracy: 0.9489 - val_loss: 0.0983 - val_accuracy: 0.9495 - lr: 2.0000e-04\n",
      "Epoch 18/50\n",
      "11190/11190 [==============================] - ETA: 0s - loss: 0.0997 - accuracy: 0.9490"
     ]
    },
    {
     "name": "stderr",
     "output_type": "stream",
     "text": [
      "C:\\Users\\Momrez\\anaconda3\\envs\\new\\Lib\\site-packages\\keras\\src\\engine\\training.py:3103: UserWarning: You are saving your model as an HDF5 file via `model.save()`. This file format is considered legacy. We recommend using instead the native Keras format, e.g. `model.save('my_model.keras')`.\n",
      "  saving_api.save_model(\n"
     ]
    },
    {
     "name": "stdout",
     "output_type": "stream",
     "text": [
      "INFO:tensorflow:Assets written to: C:\\Users\\Momrez\\Downloads\\Osman\\cyber security Edge-IIoTset\\wandb\\run-20231213_114149-nsia3b4y\\files\\model-best\\assets\n"
     ]
    },
    {
     "name": "stderr",
     "output_type": "stream",
     "text": [
      "INFO:tensorflow:Assets written to: C:\\Users\\Momrez\\Downloads\\Osman\\cyber security Edge-IIoTset\\wandb\\run-20231213_114149-nsia3b4y\\files\\model-best\\assets\n",
      "\u001b[34m\u001b[1mwandb\u001b[0m: Adding directory to artifact (C:\\Users\\Momrez\\Downloads\\Osman\\cyber security Edge-IIoTset\\wandb\\run-20231213_114149-nsia3b4y\\files\\model-best)... Done. 0.0s\n"
     ]
    },
    {
     "name": "stdout",
     "output_type": "stream",
     "text": [
      "11190/11190 [==============================] - 414s 37ms/step - loss: 0.0997 - accuracy: 0.9490 - val_loss: 0.0983 - val_accuracy: 0.9496 - lr: 2.0000e-04\n",
      "Epoch 19/50\n",
      "11190/11190 [==============================] - 428s 38ms/step - loss: 0.1001 - accuracy: 0.9491 - val_loss: 0.1001 - val_accuracy: 0.9485 - lr: 2.0000e-04\n",
      "Epoch 20/50\n",
      "11190/11190 [==============================] - 440s 39ms/step - loss: 0.1003 - accuracy: 0.9488 - val_loss: 0.0984 - val_accuracy: 0.9495 - lr: 2.0000e-04\n",
      "Epoch 21/50\n",
      "11190/11190 [==============================] - ETA: 0s - loss: 0.0989 - accuracy: 0.9494"
     ]
    },
    {
     "name": "stderr",
     "output_type": "stream",
     "text": [
      "C:\\Users\\Momrez\\anaconda3\\envs\\new\\Lib\\site-packages\\keras\\src\\engine\\training.py:3103: UserWarning: You are saving your model as an HDF5 file via `model.save()`. This file format is considered legacy. We recommend using instead the native Keras format, e.g. `model.save('my_model.keras')`.\n",
      "  saving_api.save_model(\n"
     ]
    },
    {
     "name": "stdout",
     "output_type": "stream",
     "text": [
      "INFO:tensorflow:Assets written to: C:\\Users\\Momrez\\Downloads\\Osman\\cyber security Edge-IIoTset\\wandb\\run-20231213_114149-nsia3b4y\\files\\model-best\\assets\n"
     ]
    },
    {
     "name": "stderr",
     "output_type": "stream",
     "text": [
      "INFO:tensorflow:Assets written to: C:\\Users\\Momrez\\Downloads\\Osman\\cyber security Edge-IIoTset\\wandb\\run-20231213_114149-nsia3b4y\\files\\model-best\\assets\n",
      "\u001b[34m\u001b[1mwandb\u001b[0m: Adding directory to artifact (C:\\Users\\Momrez\\Downloads\\Osman\\cyber security Edge-IIoTset\\wandb\\run-20231213_114149-nsia3b4y\\files\\model-best)... Done. 0.0s\n"
     ]
    },
    {
     "name": "stdout",
     "output_type": "stream",
     "text": [
      "11190/11190 [==============================] - 455s 41ms/step - loss: 0.0989 - accuracy: 0.9494 - val_loss: 0.0979 - val_accuracy: 0.9498 - lr: 3.3333e-05\n",
      "Epoch 22/50\n",
      "11190/11190 [==============================] - 445s 40ms/step - loss: 0.0986 - accuracy: 0.9494 - val_loss: 0.0979 - val_accuracy: 0.9496 - lr: 3.3333e-05\n",
      "Epoch 23/50\n",
      "11189/11190 [============================>.] - ETA: 0s - loss: 0.0989 - accuracy: 0.9495"
     ]
    },
    {
     "name": "stderr",
     "output_type": "stream",
     "text": [
      "C:\\Users\\Momrez\\anaconda3\\envs\\new\\Lib\\site-packages\\keras\\src\\engine\\training.py:3103: UserWarning: You are saving your model as an HDF5 file via `model.save()`. This file format is considered legacy. We recommend using instead the native Keras format, e.g. `model.save('my_model.keras')`.\n",
      "  saving_api.save_model(\n"
     ]
    },
    {
     "name": "stdout",
     "output_type": "stream",
     "text": [
      "INFO:tensorflow:Assets written to: C:\\Users\\Momrez\\Downloads\\Osman\\cyber security Edge-IIoTset\\wandb\\run-20231213_114149-nsia3b4y\\files\\model-best\\assets\n"
     ]
    },
    {
     "name": "stderr",
     "output_type": "stream",
     "text": [
      "INFO:tensorflow:Assets written to: C:\\Users\\Momrez\\Downloads\\Osman\\cyber security Edge-IIoTset\\wandb\\run-20231213_114149-nsia3b4y\\files\\model-best\\assets\n",
      "\u001b[34m\u001b[1mwandb\u001b[0m: Adding directory to artifact (C:\\Users\\Momrez\\Downloads\\Osman\\cyber security Edge-IIoTset\\wandb\\run-20231213_114149-nsia3b4y\\files\\model-best)... Done. 0.0s\n"
     ]
    },
    {
     "name": "stdout",
     "output_type": "stream",
     "text": [
      "11190/11190 [==============================] - 452s 40ms/step - loss: 0.0989 - accuracy: 0.9495 - val_loss: 0.0979 - val_accuracy: 0.9497 - lr: 3.3333e-05\n",
      "Epoch 24/50\n",
      "11190/11190 [==============================] - ETA: 0s - loss: 0.0985 - accuracy: 0.9495"
     ]
    },
    {
     "name": "stderr",
     "output_type": "stream",
     "text": [
      "C:\\Users\\Momrez\\anaconda3\\envs\\new\\Lib\\site-packages\\keras\\src\\engine\\training.py:3103: UserWarning: You are saving your model as an HDF5 file via `model.save()`. This file format is considered legacy. We recommend using instead the native Keras format, e.g. `model.save('my_model.keras')`.\n",
      "  saving_api.save_model(\n"
     ]
    },
    {
     "name": "stdout",
     "output_type": "stream",
     "text": [
      "INFO:tensorflow:Assets written to: C:\\Users\\Momrez\\Downloads\\Osman\\cyber security Edge-IIoTset\\wandb\\run-20231213_114149-nsia3b4y\\files\\model-best\\assets\n"
     ]
    },
    {
     "name": "stderr",
     "output_type": "stream",
     "text": [
      "INFO:tensorflow:Assets written to: C:\\Users\\Momrez\\Downloads\\Osman\\cyber security Edge-IIoTset\\wandb\\run-20231213_114149-nsia3b4y\\files\\model-best\\assets\n",
      "\u001b[34m\u001b[1mwandb\u001b[0m: Adding directory to artifact (C:\\Users\\Momrez\\Downloads\\Osman\\cyber security Edge-IIoTset\\wandb\\run-20231213_114149-nsia3b4y\\files\\model-best)... Done. 0.0s\n"
     ]
    },
    {
     "name": "stdout",
     "output_type": "stream",
     "text": [
      "11190/11190 [==============================] - 431s 39ms/step - loss: 0.0985 - accuracy: 0.9495 - val_loss: 0.0977 - val_accuracy: 0.9499 - lr: 3.3333e-05\n",
      "Epoch 25/50\n",
      "11189/11190 [============================>.] - ETA: 0s - loss: 0.0994 - accuracy: 0.9494"
     ]
    },
    {
     "name": "stderr",
     "output_type": "stream",
     "text": [
      "C:\\Users\\Momrez\\anaconda3\\envs\\new\\Lib\\site-packages\\keras\\src\\engine\\training.py:3103: UserWarning: You are saving your model as an HDF5 file via `model.save()`. This file format is considered legacy. We recommend using instead the native Keras format, e.g. `model.save('my_model.keras')`.\n",
      "  saving_api.save_model(\n"
     ]
    },
    {
     "name": "stdout",
     "output_type": "stream",
     "text": [
      "INFO:tensorflow:Assets written to: C:\\Users\\Momrez\\Downloads\\Osman\\cyber security Edge-IIoTset\\wandb\\run-20231213_114149-nsia3b4y\\files\\model-best\\assets\n"
     ]
    },
    {
     "name": "stderr",
     "output_type": "stream",
     "text": [
      "INFO:tensorflow:Assets written to: C:\\Users\\Momrez\\Downloads\\Osman\\cyber security Edge-IIoTset\\wandb\\run-20231213_114149-nsia3b4y\\files\\model-best\\assets\n",
      "\u001b[34m\u001b[1mwandb\u001b[0m: Adding directory to artifact (C:\\Users\\Momrez\\Downloads\\Osman\\cyber security Edge-IIoTset\\wandb\\run-20231213_114149-nsia3b4y\\files\\model-best)... Done. 0.0s\n"
     ]
    },
    {
     "name": "stdout",
     "output_type": "stream",
     "text": [
      "11190/11190 [==============================] - 447s 40ms/step - loss: 0.0994 - accuracy: 0.9494 - val_loss: 0.0977 - val_accuracy: 0.9497 - lr: 3.3333e-05\n",
      "Epoch 26/50\n",
      "11190/11190 [==============================] - 433s 39ms/step - loss: 0.0985 - accuracy: 0.9494 - val_loss: 0.0978 - val_accuracy: 0.9498 - lr: 3.3333e-05\n",
      "Epoch 27/50\n",
      "11190/11190 [==============================] - 453s 40ms/step - loss: 0.0984 - accuracy: 0.9495 - val_loss: 0.0980 - val_accuracy: 0.9496 - lr: 3.3333e-05\n",
      "Epoch 28/50\n",
      "11190/11190 [==============================] - 457s 41ms/step - loss: 0.0984 - accuracy: 0.9495 - val_loss: 0.0978 - val_accuracy: 0.9498 - lr: 3.3333e-05\n",
      "Epoch 29/50\n",
      "11190/11190 [==============================] - 440s 39ms/step - loss: 0.0985 - accuracy: 0.9493 - val_loss: 0.0977 - val_accuracy: 0.9497 - lr: 3.3333e-05\n",
      "Epoch 30/50\n",
      "11189/11190 [============================>.] - ETA: 0s - loss: 0.0984 - accuracy: 0.9496"
     ]
    },
    {
     "name": "stderr",
     "output_type": "stream",
     "text": [
      "C:\\Users\\Momrez\\anaconda3\\envs\\new\\Lib\\site-packages\\keras\\src\\engine\\training.py:3103: UserWarning: You are saving your model as an HDF5 file via `model.save()`. This file format is considered legacy. We recommend using instead the native Keras format, e.g. `model.save('my_model.keras')`.\n",
      "  saving_api.save_model(\n"
     ]
    },
    {
     "name": "stdout",
     "output_type": "stream",
     "text": [
      "INFO:tensorflow:Assets written to: C:\\Users\\Momrez\\Downloads\\Osman\\cyber security Edge-IIoTset\\wandb\\run-20231213_114149-nsia3b4y\\files\\model-best\\assets\n"
     ]
    },
    {
     "name": "stderr",
     "output_type": "stream",
     "text": [
      "INFO:tensorflow:Assets written to: C:\\Users\\Momrez\\Downloads\\Osman\\cyber security Edge-IIoTset\\wandb\\run-20231213_114149-nsia3b4y\\files\\model-best\\assets\n",
      "\u001b[34m\u001b[1mwandb\u001b[0m: Adding directory to artifact (C:\\Users\\Momrez\\Downloads\\Osman\\cyber security Edge-IIoTset\\wandb\\run-20231213_114149-nsia3b4y\\files\\model-best)... Done. 0.0s\n"
     ]
    },
    {
     "name": "stdout",
     "output_type": "stream",
     "text": [
      "11190/11190 [==============================] - 453s 41ms/step - loss: 0.0984 - accuracy: 0.9496 - val_loss: 0.0977 - val_accuracy: 0.9498 - lr: 3.3333e-05\n",
      "Epoch 31/50\n",
      "11190/11190 [==============================] - 448s 40ms/step - loss: 0.0983 - accuracy: 0.9495 - val_loss: 0.0978 - val_accuracy: 0.9498 - lr: 3.3333e-05\n",
      "Epoch 32/50\n",
      "11190/11190 [==============================] - ETA: 0s - loss: 0.0984 - accuracy: 0.9494"
     ]
    },
    {
     "name": "stderr",
     "output_type": "stream",
     "text": [
      "C:\\Users\\Momrez\\anaconda3\\envs\\new\\Lib\\site-packages\\keras\\src\\engine\\training.py:3103: UserWarning: You are saving your model as an HDF5 file via `model.save()`. This file format is considered legacy. We recommend using instead the native Keras format, e.g. `model.save('my_model.keras')`.\n",
      "  saving_api.save_model(\n"
     ]
    },
    {
     "name": "stdout",
     "output_type": "stream",
     "text": [
      "INFO:tensorflow:Assets written to: C:\\Users\\Momrez\\Downloads\\Osman\\cyber security Edge-IIoTset\\wandb\\run-20231213_114149-nsia3b4y\\files\\model-best\\assets\n"
     ]
    },
    {
     "name": "stderr",
     "output_type": "stream",
     "text": [
      "INFO:tensorflow:Assets written to: C:\\Users\\Momrez\\Downloads\\Osman\\cyber security Edge-IIoTset\\wandb\\run-20231213_114149-nsia3b4y\\files\\model-best\\assets\n",
      "\u001b[34m\u001b[1mwandb\u001b[0m: Adding directory to artifact (C:\\Users\\Momrez\\Downloads\\Osman\\cyber security Edge-IIoTset\\wandb\\run-20231213_114149-nsia3b4y\\files\\model-best)... Done. 0.0s\n"
     ]
    },
    {
     "name": "stdout",
     "output_type": "stream",
     "text": [
      "11190/11190 [==============================] - 474s 42ms/step - loss: 0.0984 - accuracy: 0.9494 - val_loss: 0.0976 - val_accuracy: 0.9498 - lr: 3.3333e-05\n",
      "Epoch 33/50\n",
      "11190/11190 [==============================] - ETA: 0s - loss: 0.0983 - accuracy: 0.9494"
     ]
    },
    {
     "name": "stderr",
     "output_type": "stream",
     "text": [
      "C:\\Users\\Momrez\\anaconda3\\envs\\new\\Lib\\site-packages\\keras\\src\\engine\\training.py:3103: UserWarning: You are saving your model as an HDF5 file via `model.save()`. This file format is considered legacy. We recommend using instead the native Keras format, e.g. `model.save('my_model.keras')`.\n",
      "  saving_api.save_model(\n"
     ]
    },
    {
     "name": "stdout",
     "output_type": "stream",
     "text": [
      "INFO:tensorflow:Assets written to: C:\\Users\\Momrez\\Downloads\\Osman\\cyber security Edge-IIoTset\\wandb\\run-20231213_114149-nsia3b4y\\files\\model-best\\assets\n"
     ]
    },
    {
     "name": "stderr",
     "output_type": "stream",
     "text": [
      "INFO:tensorflow:Assets written to: C:\\Users\\Momrez\\Downloads\\Osman\\cyber security Edge-IIoTset\\wandb\\run-20231213_114149-nsia3b4y\\files\\model-best\\assets\n",
      "\u001b[34m\u001b[1mwandb\u001b[0m: Adding directory to artifact (C:\\Users\\Momrez\\Downloads\\Osman\\cyber security Edge-IIoTset\\wandb\\run-20231213_114149-nsia3b4y\\files\\model-best)... Done. 0.0s\n"
     ]
    },
    {
     "name": "stdout",
     "output_type": "stream",
     "text": [
      "11190/11190 [==============================] - 485s 43ms/step - loss: 0.0983 - accuracy: 0.9494 - val_loss: 0.0976 - val_accuracy: 0.9498 - lr: 3.3333e-05\n",
      "Epoch 34/50\n",
      "11190/11190 [==============================] - 470s 42ms/step - loss: 0.0984 - accuracy: 0.9495 - val_loss: 0.0977 - val_accuracy: 0.9497 - lr: 3.3333e-05\n",
      "Epoch 35/50\n",
      "11190/11190 [==============================] - ETA: 0s - loss: 0.0982 - accuracy: 0.9495"
     ]
    },
    {
     "name": "stderr",
     "output_type": "stream",
     "text": [
      "C:\\Users\\Momrez\\anaconda3\\envs\\new\\Lib\\site-packages\\keras\\src\\engine\\training.py:3103: UserWarning: You are saving your model as an HDF5 file via `model.save()`. This file format is considered legacy. We recommend using instead the native Keras format, e.g. `model.save('my_model.keras')`.\n",
      "  saving_api.save_model(\n"
     ]
    },
    {
     "name": "stdout",
     "output_type": "stream",
     "text": [
      "INFO:tensorflow:Assets written to: C:\\Users\\Momrez\\Downloads\\Osman\\cyber security Edge-IIoTset\\wandb\\run-20231213_114149-nsia3b4y\\files\\model-best\\assets\n"
     ]
    },
    {
     "name": "stderr",
     "output_type": "stream",
     "text": [
      "INFO:tensorflow:Assets written to: C:\\Users\\Momrez\\Downloads\\Osman\\cyber security Edge-IIoTset\\wandb\\run-20231213_114149-nsia3b4y\\files\\model-best\\assets\n",
      "\u001b[34m\u001b[1mwandb\u001b[0m: Adding directory to artifact (C:\\Users\\Momrez\\Downloads\\Osman\\cyber security Edge-IIoTset\\wandb\\run-20231213_114149-nsia3b4y\\files\\model-best)... Done. 0.0s\n"
     ]
    },
    {
     "name": "stdout",
     "output_type": "stream",
     "text": [
      "11190/11190 [==============================] - 476s 43ms/step - loss: 0.0982 - accuracy: 0.9495 - val_loss: 0.0976 - val_accuracy: 0.9496 - lr: 3.3333e-05\n",
      "Epoch 36/50\n",
      "11190/11190 [==============================] - 455s 41ms/step - loss: 0.0983 - accuracy: 0.9495 - val_loss: 0.0977 - val_accuracy: 0.9497 - lr: 3.3333e-05\n",
      "Epoch 37/50\n",
      "11190/11190 [==============================] - ETA: 0s - loss: 0.1003 - accuracy: 0.9495"
     ]
    },
    {
     "name": "stderr",
     "output_type": "stream",
     "text": [
      "C:\\Users\\Momrez\\anaconda3\\envs\\new\\Lib\\site-packages\\keras\\src\\engine\\training.py:3103: UserWarning: You are saving your model as an HDF5 file via `model.save()`. This file format is considered legacy. We recommend using instead the native Keras format, e.g. `model.save('my_model.keras')`.\n",
      "  saving_api.save_model(\n"
     ]
    },
    {
     "name": "stdout",
     "output_type": "stream",
     "text": [
      "INFO:tensorflow:Assets written to: C:\\Users\\Momrez\\Downloads\\Osman\\cyber security Edge-IIoTset\\wandb\\run-20231213_114149-nsia3b4y\\files\\model-best\\assets\n"
     ]
    },
    {
     "name": "stderr",
     "output_type": "stream",
     "text": [
      "INFO:tensorflow:Assets written to: C:\\Users\\Momrez\\Downloads\\Osman\\cyber security Edge-IIoTset\\wandb\\run-20231213_114149-nsia3b4y\\files\\model-best\\assets\n",
      "\u001b[34m\u001b[1mwandb\u001b[0m: Adding directory to artifact (C:\\Users\\Momrez\\Downloads\\Osman\\cyber security Edge-IIoTset\\wandb\\run-20231213_114149-nsia3b4y\\files\\model-best)... Done. 0.0s\n"
     ]
    },
    {
     "name": "stdout",
     "output_type": "stream",
     "text": [
      "11190/11190 [==============================] - 450s 40ms/step - loss: 0.1003 - accuracy: 0.9495 - val_loss: 0.0975 - val_accuracy: 0.9497 - lr: 3.3333e-05\n",
      "Epoch 38/50\n",
      "11190/11190 [==============================] - 447s 40ms/step - loss: 0.0982 - accuracy: 0.9494 - val_loss: 0.0976 - val_accuracy: 0.9498 - lr: 3.3333e-05\n",
      "Epoch 39/50\n",
      "11190/11190 [==============================] - 446s 40ms/step - loss: 0.0983 - accuracy: 0.9495 - val_loss: 0.0976 - val_accuracy: 0.9497 - lr: 3.3333e-05\n",
      "Epoch 40/50\n",
      " 3048/11190 [=======>......................] - ETA: 4:37 - loss: 0.0986 - accuracy: 0.9492"
     ]
    },
    {
     "ename": "KeyboardInterrupt",
     "evalue": "",
     "output_type": "error",
     "traceback": [
      "\u001b[1;31m---------------------------------------------------------------------------\u001b[0m",
      "\u001b[1;31mKeyboardInterrupt\u001b[0m                         Traceback (most recent call last)",
      "Cell \u001b[1;32mIn[17], line 76\u001b[0m\n\u001b[0;32m     72\u001b[0m         \u001b[38;5;28;01mreturn\u001b[39;00m \u001b[38;5;241m0.0002\u001b[39m\u001b[38;5;241m/\u001b[39m\u001b[38;5;241m6\u001b[39m  \u001b[38;5;66;03m# Last 30 epochs with an even lower learning rate\u001b[39;00m\n\u001b[0;32m     74\u001b[0m lr_scheduler \u001b[38;5;241m=\u001b[39m LearningRateScheduler(lr_schedule)\n\u001b[1;32m---> 76\u001b[0m history \u001b[38;5;241m=\u001b[39m model\u001b[38;5;241m.\u001b[39mfit(X_train, y_train,\n\u001b[0;32m     77\u001b[0m                               batch_size\u001b[38;5;241m=\u001b[39m\u001b[38;5;241m128\u001b[39m,\n\u001b[0;32m     78\u001b[0m                               epochs\u001b[38;5;241m=\u001b[39m\u001b[38;5;241m50\u001b[39m,\n\u001b[0;32m     79\u001b[0m                               verbose\u001b[38;5;241m=\u001b[39m\u001b[38;5;28;01mTrue\u001b[39;00m, \u001b[38;5;66;03m#callbacks=[reduce_lr, early_stop_callback],\u001b[39;00m\n\u001b[0;32m     80\u001b[0m                               validation_data\u001b[38;5;241m=\u001b[39m(X_test, y_test),\n\u001b[0;32m     81\u001b[0m                                callbacks\u001b[38;5;241m=\u001b[39m[callbacks, lr_scheduler])\n",
      "File \u001b[1;32m~\\anaconda3\\envs\\new\\Lib\\site-packages\\keras\\src\\utils\\traceback_utils.py:65\u001b[0m, in \u001b[0;36mfilter_traceback.<locals>.error_handler\u001b[1;34m(*args, **kwargs)\u001b[0m\n\u001b[0;32m     63\u001b[0m filtered_tb \u001b[38;5;241m=\u001b[39m \u001b[38;5;28;01mNone\u001b[39;00m\n\u001b[0;32m     64\u001b[0m \u001b[38;5;28;01mtry\u001b[39;00m:\n\u001b[1;32m---> 65\u001b[0m     \u001b[38;5;28;01mreturn\u001b[39;00m fn(\u001b[38;5;241m*\u001b[39margs, \u001b[38;5;241m*\u001b[39m\u001b[38;5;241m*\u001b[39mkwargs)\n\u001b[0;32m     66\u001b[0m \u001b[38;5;28;01mexcept\u001b[39;00m \u001b[38;5;167;01mException\u001b[39;00m \u001b[38;5;28;01mas\u001b[39;00m e:\n\u001b[0;32m     67\u001b[0m     filtered_tb \u001b[38;5;241m=\u001b[39m _process_traceback_frames(e\u001b[38;5;241m.\u001b[39m__traceback__)\n",
      "File \u001b[1;32m~\\anaconda3\\envs\\new\\Lib\\site-packages\\keras\\src\\engine\\training.py:1807\u001b[0m, in \u001b[0;36mModel.fit\u001b[1;34m(self, x, y, batch_size, epochs, verbose, callbacks, validation_split, validation_data, shuffle, class_weight, sample_weight, initial_epoch, steps_per_epoch, validation_steps, validation_batch_size, validation_freq, max_queue_size, workers, use_multiprocessing)\u001b[0m\n\u001b[0;32m   1799\u001b[0m \u001b[38;5;28;01mwith\u001b[39;00m tf\u001b[38;5;241m.\u001b[39mprofiler\u001b[38;5;241m.\u001b[39mexperimental\u001b[38;5;241m.\u001b[39mTrace(\n\u001b[0;32m   1800\u001b[0m     \u001b[38;5;124m\"\u001b[39m\u001b[38;5;124mtrain\u001b[39m\u001b[38;5;124m\"\u001b[39m,\n\u001b[0;32m   1801\u001b[0m     epoch_num\u001b[38;5;241m=\u001b[39mepoch,\n\u001b[1;32m   (...)\u001b[0m\n\u001b[0;32m   1804\u001b[0m     _r\u001b[38;5;241m=\u001b[39m\u001b[38;5;241m1\u001b[39m,\n\u001b[0;32m   1805\u001b[0m ):\n\u001b[0;32m   1806\u001b[0m     callbacks\u001b[38;5;241m.\u001b[39mon_train_batch_begin(step)\n\u001b[1;32m-> 1807\u001b[0m     tmp_logs \u001b[38;5;241m=\u001b[39m \u001b[38;5;28mself\u001b[39m\u001b[38;5;241m.\u001b[39mtrain_function(iterator)\n\u001b[0;32m   1808\u001b[0m     \u001b[38;5;28;01mif\u001b[39;00m data_handler\u001b[38;5;241m.\u001b[39mshould_sync:\n\u001b[0;32m   1809\u001b[0m         context\u001b[38;5;241m.\u001b[39masync_wait()\n",
      "File \u001b[1;32m~\\anaconda3\\envs\\new\\Lib\\site-packages\\tensorflow\\python\\util\\traceback_utils.py:150\u001b[0m, in \u001b[0;36mfilter_traceback.<locals>.error_handler\u001b[1;34m(*args, **kwargs)\u001b[0m\n\u001b[0;32m    148\u001b[0m filtered_tb \u001b[38;5;241m=\u001b[39m \u001b[38;5;28;01mNone\u001b[39;00m\n\u001b[0;32m    149\u001b[0m \u001b[38;5;28;01mtry\u001b[39;00m:\n\u001b[1;32m--> 150\u001b[0m   \u001b[38;5;28;01mreturn\u001b[39;00m fn(\u001b[38;5;241m*\u001b[39margs, \u001b[38;5;241m*\u001b[39m\u001b[38;5;241m*\u001b[39mkwargs)\n\u001b[0;32m    151\u001b[0m \u001b[38;5;28;01mexcept\u001b[39;00m \u001b[38;5;167;01mException\u001b[39;00m \u001b[38;5;28;01mas\u001b[39;00m e:\n\u001b[0;32m    152\u001b[0m   filtered_tb \u001b[38;5;241m=\u001b[39m _process_traceback_frames(e\u001b[38;5;241m.\u001b[39m__traceback__)\n",
      "File \u001b[1;32m~\\anaconda3\\envs\\new\\Lib\\site-packages\\tensorflow\\python\\eager\\polymorphic_function\\polymorphic_function.py:832\u001b[0m, in \u001b[0;36mFunction.__call__\u001b[1;34m(self, *args, **kwds)\u001b[0m\n\u001b[0;32m    829\u001b[0m compiler \u001b[38;5;241m=\u001b[39m \u001b[38;5;124m\"\u001b[39m\u001b[38;5;124mxla\u001b[39m\u001b[38;5;124m\"\u001b[39m \u001b[38;5;28;01mif\u001b[39;00m \u001b[38;5;28mself\u001b[39m\u001b[38;5;241m.\u001b[39m_jit_compile \u001b[38;5;28;01melse\u001b[39;00m \u001b[38;5;124m\"\u001b[39m\u001b[38;5;124mnonXla\u001b[39m\u001b[38;5;124m\"\u001b[39m\n\u001b[0;32m    831\u001b[0m \u001b[38;5;28;01mwith\u001b[39;00m OptionalXlaContext(\u001b[38;5;28mself\u001b[39m\u001b[38;5;241m.\u001b[39m_jit_compile):\n\u001b[1;32m--> 832\u001b[0m   result \u001b[38;5;241m=\u001b[39m \u001b[38;5;28mself\u001b[39m\u001b[38;5;241m.\u001b[39m_call(\u001b[38;5;241m*\u001b[39margs, \u001b[38;5;241m*\u001b[39m\u001b[38;5;241m*\u001b[39mkwds)\n\u001b[0;32m    834\u001b[0m new_tracing_count \u001b[38;5;241m=\u001b[39m \u001b[38;5;28mself\u001b[39m\u001b[38;5;241m.\u001b[39mexperimental_get_tracing_count()\n\u001b[0;32m    835\u001b[0m without_tracing \u001b[38;5;241m=\u001b[39m (tracing_count \u001b[38;5;241m==\u001b[39m new_tracing_count)\n",
      "File \u001b[1;32m~\\anaconda3\\envs\\new\\Lib\\site-packages\\tensorflow\\python\\eager\\polymorphic_function\\polymorphic_function.py:868\u001b[0m, in \u001b[0;36mFunction._call\u001b[1;34m(self, *args, **kwds)\u001b[0m\n\u001b[0;32m    865\u001b[0m   \u001b[38;5;28mself\u001b[39m\u001b[38;5;241m.\u001b[39m_lock\u001b[38;5;241m.\u001b[39mrelease()\n\u001b[0;32m    866\u001b[0m   \u001b[38;5;66;03m# In this case we have created variables on the first call, so we run the\u001b[39;00m\n\u001b[0;32m    867\u001b[0m   \u001b[38;5;66;03m# defunned version which is guaranteed to never create variables.\u001b[39;00m\n\u001b[1;32m--> 868\u001b[0m   \u001b[38;5;28;01mreturn\u001b[39;00m tracing_compilation\u001b[38;5;241m.\u001b[39mcall_function(\n\u001b[0;32m    869\u001b[0m       args, kwds, \u001b[38;5;28mself\u001b[39m\u001b[38;5;241m.\u001b[39m_no_variable_creation_config\n\u001b[0;32m    870\u001b[0m   )\n\u001b[0;32m    871\u001b[0m \u001b[38;5;28;01melif\u001b[39;00m \u001b[38;5;28mself\u001b[39m\u001b[38;5;241m.\u001b[39m_variable_creation_config \u001b[38;5;129;01mis\u001b[39;00m \u001b[38;5;129;01mnot\u001b[39;00m \u001b[38;5;28;01mNone\u001b[39;00m:\n\u001b[0;32m    872\u001b[0m   \u001b[38;5;66;03m# Release the lock early so that multiple threads can perform the call\u001b[39;00m\n\u001b[0;32m    873\u001b[0m   \u001b[38;5;66;03m# in parallel.\u001b[39;00m\n\u001b[0;32m    874\u001b[0m   \u001b[38;5;28mself\u001b[39m\u001b[38;5;241m.\u001b[39m_lock\u001b[38;5;241m.\u001b[39mrelease()\n",
      "File \u001b[1;32m~\\anaconda3\\envs\\new\\Lib\\site-packages\\tensorflow\\python\\eager\\polymorphic_function\\tracing_compilation.py:139\u001b[0m, in \u001b[0;36mcall_function\u001b[1;34m(args, kwargs, tracing_options)\u001b[0m\n\u001b[0;32m    137\u001b[0m bound_args \u001b[38;5;241m=\u001b[39m function\u001b[38;5;241m.\u001b[39mfunction_type\u001b[38;5;241m.\u001b[39mbind(\u001b[38;5;241m*\u001b[39margs, \u001b[38;5;241m*\u001b[39m\u001b[38;5;241m*\u001b[39mkwargs)\n\u001b[0;32m    138\u001b[0m flat_inputs \u001b[38;5;241m=\u001b[39m function\u001b[38;5;241m.\u001b[39mfunction_type\u001b[38;5;241m.\u001b[39munpack_inputs(bound_args)\n\u001b[1;32m--> 139\u001b[0m \u001b[38;5;28;01mreturn\u001b[39;00m function\u001b[38;5;241m.\u001b[39m_call_flat(  \u001b[38;5;66;03m# pylint: disable=protected-access\u001b[39;00m\n\u001b[0;32m    140\u001b[0m     flat_inputs, captured_inputs\u001b[38;5;241m=\u001b[39mfunction\u001b[38;5;241m.\u001b[39mcaptured_inputs\n\u001b[0;32m    141\u001b[0m )\n",
      "File \u001b[1;32m~\\anaconda3\\envs\\new\\Lib\\site-packages\\tensorflow\\python\\eager\\polymorphic_function\\concrete_function.py:1323\u001b[0m, in \u001b[0;36mConcreteFunction._call_flat\u001b[1;34m(self, tensor_inputs, captured_inputs)\u001b[0m\n\u001b[0;32m   1319\u001b[0m possible_gradient_type \u001b[38;5;241m=\u001b[39m gradients_util\u001b[38;5;241m.\u001b[39mPossibleTapeGradientTypes(args)\n\u001b[0;32m   1320\u001b[0m \u001b[38;5;28;01mif\u001b[39;00m (possible_gradient_type \u001b[38;5;241m==\u001b[39m gradients_util\u001b[38;5;241m.\u001b[39mPOSSIBLE_GRADIENT_TYPES_NONE\n\u001b[0;32m   1321\u001b[0m     \u001b[38;5;129;01mand\u001b[39;00m executing_eagerly):\n\u001b[0;32m   1322\u001b[0m   \u001b[38;5;66;03m# No tape is watching; skip to running the function.\u001b[39;00m\n\u001b[1;32m-> 1323\u001b[0m   \u001b[38;5;28;01mreturn\u001b[39;00m \u001b[38;5;28mself\u001b[39m\u001b[38;5;241m.\u001b[39m_inference_function\u001b[38;5;241m.\u001b[39mcall_preflattened(args)\n\u001b[0;32m   1324\u001b[0m forward_backward \u001b[38;5;241m=\u001b[39m \u001b[38;5;28mself\u001b[39m\u001b[38;5;241m.\u001b[39m_select_forward_and_backward_functions(\n\u001b[0;32m   1325\u001b[0m     args,\n\u001b[0;32m   1326\u001b[0m     possible_gradient_type,\n\u001b[0;32m   1327\u001b[0m     executing_eagerly)\n\u001b[0;32m   1328\u001b[0m forward_function, args_with_tangents \u001b[38;5;241m=\u001b[39m forward_backward\u001b[38;5;241m.\u001b[39mforward()\n",
      "File \u001b[1;32m~\\anaconda3\\envs\\new\\Lib\\site-packages\\tensorflow\\python\\eager\\polymorphic_function\\atomic_function.py:216\u001b[0m, in \u001b[0;36mAtomicFunction.call_preflattened\u001b[1;34m(self, args)\u001b[0m\n\u001b[0;32m    214\u001b[0m \u001b[38;5;28;01mdef\u001b[39;00m \u001b[38;5;21mcall_preflattened\u001b[39m(\u001b[38;5;28mself\u001b[39m, args: Sequence[core\u001b[38;5;241m.\u001b[39mTensor]) \u001b[38;5;241m-\u001b[39m\u001b[38;5;241m>\u001b[39m Any:\n\u001b[0;32m    215\u001b[0m \u001b[38;5;250m  \u001b[39m\u001b[38;5;124;03m\"\"\"Calls with flattened tensor inputs and returns the structured output.\"\"\"\u001b[39;00m\n\u001b[1;32m--> 216\u001b[0m   flat_outputs \u001b[38;5;241m=\u001b[39m \u001b[38;5;28mself\u001b[39m\u001b[38;5;241m.\u001b[39mcall_flat(\u001b[38;5;241m*\u001b[39margs)\n\u001b[0;32m    217\u001b[0m   \u001b[38;5;28;01mreturn\u001b[39;00m \u001b[38;5;28mself\u001b[39m\u001b[38;5;241m.\u001b[39mfunction_type\u001b[38;5;241m.\u001b[39mpack_output(flat_outputs)\n",
      "File \u001b[1;32m~\\anaconda3\\envs\\new\\Lib\\site-packages\\tensorflow\\python\\eager\\polymorphic_function\\atomic_function.py:251\u001b[0m, in \u001b[0;36mAtomicFunction.call_flat\u001b[1;34m(self, *args)\u001b[0m\n\u001b[0;32m    249\u001b[0m \u001b[38;5;28;01mwith\u001b[39;00m record\u001b[38;5;241m.\u001b[39mstop_recording():\n\u001b[0;32m    250\u001b[0m   \u001b[38;5;28;01mif\u001b[39;00m \u001b[38;5;28mself\u001b[39m\u001b[38;5;241m.\u001b[39m_bound_context\u001b[38;5;241m.\u001b[39mexecuting_eagerly():\n\u001b[1;32m--> 251\u001b[0m     outputs \u001b[38;5;241m=\u001b[39m \u001b[38;5;28mself\u001b[39m\u001b[38;5;241m.\u001b[39m_bound_context\u001b[38;5;241m.\u001b[39mcall_function(\n\u001b[0;32m    252\u001b[0m         \u001b[38;5;28mself\u001b[39m\u001b[38;5;241m.\u001b[39mname,\n\u001b[0;32m    253\u001b[0m         \u001b[38;5;28mlist\u001b[39m(args),\n\u001b[0;32m    254\u001b[0m         \u001b[38;5;28mlen\u001b[39m(\u001b[38;5;28mself\u001b[39m\u001b[38;5;241m.\u001b[39mfunction_type\u001b[38;5;241m.\u001b[39mflat_outputs),\n\u001b[0;32m    255\u001b[0m     )\n\u001b[0;32m    256\u001b[0m   \u001b[38;5;28;01melse\u001b[39;00m:\n\u001b[0;32m    257\u001b[0m     outputs \u001b[38;5;241m=\u001b[39m make_call_op_in_graph(\n\u001b[0;32m    258\u001b[0m         \u001b[38;5;28mself\u001b[39m,\n\u001b[0;32m    259\u001b[0m         \u001b[38;5;28mlist\u001b[39m(args),\n\u001b[0;32m    260\u001b[0m         \u001b[38;5;28mself\u001b[39m\u001b[38;5;241m.\u001b[39m_bound_context\u001b[38;5;241m.\u001b[39mfunction_call_options\u001b[38;5;241m.\u001b[39mas_attrs(),\n\u001b[0;32m    261\u001b[0m     )\n",
      "File \u001b[1;32m~\\anaconda3\\envs\\new\\Lib\\site-packages\\tensorflow\\python\\eager\\context.py:1486\u001b[0m, in \u001b[0;36mContext.call_function\u001b[1;34m(self, name, tensor_inputs, num_outputs)\u001b[0m\n\u001b[0;32m   1484\u001b[0m cancellation_context \u001b[38;5;241m=\u001b[39m cancellation\u001b[38;5;241m.\u001b[39mcontext()\n\u001b[0;32m   1485\u001b[0m \u001b[38;5;28;01mif\u001b[39;00m cancellation_context \u001b[38;5;129;01mis\u001b[39;00m \u001b[38;5;28;01mNone\u001b[39;00m:\n\u001b[1;32m-> 1486\u001b[0m   outputs \u001b[38;5;241m=\u001b[39m execute\u001b[38;5;241m.\u001b[39mexecute(\n\u001b[0;32m   1487\u001b[0m       name\u001b[38;5;241m.\u001b[39mdecode(\u001b[38;5;124m\"\u001b[39m\u001b[38;5;124mutf-8\u001b[39m\u001b[38;5;124m\"\u001b[39m),\n\u001b[0;32m   1488\u001b[0m       num_outputs\u001b[38;5;241m=\u001b[39mnum_outputs,\n\u001b[0;32m   1489\u001b[0m       inputs\u001b[38;5;241m=\u001b[39mtensor_inputs,\n\u001b[0;32m   1490\u001b[0m       attrs\u001b[38;5;241m=\u001b[39mattrs,\n\u001b[0;32m   1491\u001b[0m       ctx\u001b[38;5;241m=\u001b[39m\u001b[38;5;28mself\u001b[39m,\n\u001b[0;32m   1492\u001b[0m   )\n\u001b[0;32m   1493\u001b[0m \u001b[38;5;28;01melse\u001b[39;00m:\n\u001b[0;32m   1494\u001b[0m   outputs \u001b[38;5;241m=\u001b[39m execute\u001b[38;5;241m.\u001b[39mexecute_with_cancellation(\n\u001b[0;32m   1495\u001b[0m       name\u001b[38;5;241m.\u001b[39mdecode(\u001b[38;5;124m\"\u001b[39m\u001b[38;5;124mutf-8\u001b[39m\u001b[38;5;124m\"\u001b[39m),\n\u001b[0;32m   1496\u001b[0m       num_outputs\u001b[38;5;241m=\u001b[39mnum_outputs,\n\u001b[1;32m   (...)\u001b[0m\n\u001b[0;32m   1500\u001b[0m       cancellation_manager\u001b[38;5;241m=\u001b[39mcancellation_context,\n\u001b[0;32m   1501\u001b[0m   )\n",
      "File \u001b[1;32m~\\anaconda3\\envs\\new\\Lib\\site-packages\\tensorflow\\python\\eager\\execute.py:53\u001b[0m, in \u001b[0;36mquick_execute\u001b[1;34m(op_name, num_outputs, inputs, attrs, ctx, name)\u001b[0m\n\u001b[0;32m     51\u001b[0m \u001b[38;5;28;01mtry\u001b[39;00m:\n\u001b[0;32m     52\u001b[0m   ctx\u001b[38;5;241m.\u001b[39mensure_initialized()\n\u001b[1;32m---> 53\u001b[0m   tensors \u001b[38;5;241m=\u001b[39m pywrap_tfe\u001b[38;5;241m.\u001b[39mTFE_Py_Execute(ctx\u001b[38;5;241m.\u001b[39m_handle, device_name, op_name,\n\u001b[0;32m     54\u001b[0m                                       inputs, attrs, num_outputs)\n\u001b[0;32m     55\u001b[0m \u001b[38;5;28;01mexcept\u001b[39;00m core\u001b[38;5;241m.\u001b[39m_NotOkStatusException \u001b[38;5;28;01mas\u001b[39;00m e:\n\u001b[0;32m     56\u001b[0m   \u001b[38;5;28;01mif\u001b[39;00m name \u001b[38;5;129;01mis\u001b[39;00m \u001b[38;5;129;01mnot\u001b[39;00m \u001b[38;5;28;01mNone\u001b[39;00m:\n",
      "\u001b[1;31mKeyboardInterrupt\u001b[0m: "
     ]
    }
   ],
   "source": [
    "# In order to ignore FutureWarning\n",
    "import warnings\n",
    "warnings.simplefilter(action='ignore', category=FutureWarning)\n",
    "warnings.simplefilter(action='ignore', category=DeprecationWarning)\n",
    "\n",
    "from keras.models import Sequential\n",
    "from keras import callbacks\n",
    "from keras.layers import Dense, Activation, Flatten, Convolution1D, Dropout, MaxPooling1D\n",
    "from sklearn import metrics\n",
    "from hyperopt import fmin, hp, tpe, Trials, STATUS_OK\n",
    "from hyperopt.plotting import main_plot_history, main_plot_vars\n",
    "import uuid\n",
    "import gc\n",
    "from tensorflow import keras\n",
    "import tensorflow as tf\n",
    "from tensorflow.keras.callbacks import EarlyStopping, ReduceLROnPlateau, LearningRateScheduler\n",
    "\n",
    "import wandb\n",
    "\n",
    "# Log in to WandB\n",
    "wandb.login(key='8f0d6e889f9698caf1173751c1e03e59c7f70277')\n",
    "\n",
    "# Initialize WandB run\n",
    "wandb.init(project='dcnn_fine_tune')\n",
    "\n",
    "\n",
    "K = keras.backend\n",
    "\n",
    "X_train = X_train.reshape(X_train.shape[0], 91, 1).astype('float32')\n",
    "X_test = X_test.reshape(X_test.shape[0], 91, 1).astype('float32')\n",
    "\n",
    "\n",
    "# DCNN Model\n",
    "model = Sequential()\n",
    "model.add(Convolution1D(filters=128, kernel_size=6, input_shape=(_features, 1)))\n",
    "model.add(Activation('relu'))\n",
    "model.add(MaxPooling1D(pool_size=2))\n",
    "model.add(Convolution1D(filters=256, kernel_size=6))\n",
    "model.add(Activation('relu'))\n",
    "model.add(MaxPooling1D(pool_size=2))\n",
    "model.add(Convolution1D(filters=128, kernel_size=6))\n",
    "model.add(Activation('relu'))\n",
    "model.add(MaxPooling1D(pool_size=2))\n",
    "model.add(Flatten())\n",
    "model.add(Dense(256, activation='relu'))\n",
    "model.add(Dropout(0.1))\n",
    "model.add(Dense(128, activation='relu'))\n",
    "model.add(Dropout(0.1))\n",
    "model.add(Dense(96, activation='relu'))\n",
    "model.add(Dropout(0.1))\n",
    "model.add(Dense(128, activation='relu'))\n",
    "model.add(Dropout(0.1))\n",
    "model.add(Dense(96, activation='relu'))\n",
    "model.add(Dropout(0.1))\n",
    "model.add(Dense(n_classes, activation = 'softmax'))\n",
    "model.summary() \n",
    "\n",
    "opt = keras.optimizers.Adam(learning_rate=0.0001)\n",
    "model.compile(loss='categorical_crossentropy',optimizer=opt, metrics=['accuracy'])\n",
    "\n",
    "callbacks = [\n",
    "    EarlyStopping(monitor='loss', patience=10),\n",
    "    ReduceLROnPlateau(monitor='val_loss', factor=0.2, patience=3, min_lr=0.001),\n",
    "    wandb.keras.WandbCallback()\n",
    "]\n",
    "def lr_schedule(epoch):\n",
    "    if epoch < 20:\n",
    "        return 0.0002  # First 30 epochs with this learning rate\n",
    "    elif epoch < 40:\n",
    "        return 0.0002/4  # Next 30 epochs with a lower learning rate\n",
    "    else:\n",
    "        return 0.0002/6  # Last 30 epochs with an even lower learning rate\n",
    "\n",
    "lr_scheduler = LearningRateScheduler(lr_schedule)\n",
    "\n",
    "history = model.fit(X_train, y_train,\n",
    "                              batch_size=128,\n",
    "                              epochs=50,\n",
    "                              verbose=True, #callbacks=[reduce_lr, early_stop_callback],\n",
    "                              validation_data=(X_test, y_test),\n",
    "                               callbacks=[callbacks, lr_scheduler])  "
   ]
  },
  {
   "cell_type": "code",
   "execution_count": 18,
   "id": "0a09dfc4-394b-4769-ac64-017dc102a26a",
   "metadata": {},
   "outputs": [
    {
     "name": "stderr",
     "output_type": "stream",
     "text": [
      "C:\\Users\\Momrez\\anaconda3\\envs\\new\\Lib\\site-packages\\keras\\src\\engine\\training.py:3103: UserWarning: You are saving your model as an HDF5 file via `model.save()`. This file format is considered legacy. We recommend using instead the native Keras format, e.g. `model.save('my_model.keras')`.\n",
      "  saving_api.save_model(\n"
     ]
    }
   ],
   "source": [
    "model.save('model3_dcnn.h5')"
   ]
  },
  {
   "cell_type": "code",
   "execution_count": 21,
   "id": "8183426e-d368-4991-9384-0c39841502aa",
   "metadata": {},
   "outputs": [
    {
     "name": "stderr",
     "output_type": "stream",
     "text": [
      "\u001b[34m\u001b[1mwandb\u001b[0m: \u001b[33mWARNING\u001b[0m Calling wandb.login() after wandb.init() has no effect.\n"
     ]
    },
    {
     "data": {
      "text/html": [
       "Finishing last run (ID:nsia3b4y) before initializing another..."
      ],
      "text/plain": [
       "<IPython.core.display.HTML object>"
      ]
     },
     "metadata": {},
     "output_type": "display_data"
    },
    {
     "data": {
      "text/html": [
       "<style>\n",
       "    table.wandb td:nth-child(1) { padding: 0 10px; text-align: left ; width: auto;} td:nth-child(2) {text-align: left ; width: 100%}\n",
       "    .wandb-row { display: flex; flex-direction: row; flex-wrap: wrap; justify-content: flex-start; width: 100% }\n",
       "    .wandb-col { display: flex; flex-direction: column; flex-basis: 100%; flex: 1; padding: 10px; }\n",
       "    </style>\n",
       "<div class=\"wandb-row\"><div class=\"wandb-col\"><h3>Run history:</h3><br/><table class=\"wandb\"><tr><td>accuracy</td><td>▁▇▇▇▇██████████████████████████████████</td></tr><tr><td>epoch</td><td>▁▁▁▂▂▂▂▂▂▃▃▃▃▃▄▄▄▄▄▅▅▅▅▅▅▆▆▆▆▆▇▇▇▇▇▇███</td></tr><tr><td>loss</td><td>█▂▂▁▂▁▁▁▁▁▁▁▁▁▁▁▁▁▁▁▁▁▁▁▁▁▁▁▁▁▁▁▁▁▁▁▁▁▁</td></tr><tr><td>lr</td><td>████████████████████▁▁▁▁▁▁▁▁▁▁▁▁▁▁▁▁▁▁▁</td></tr><tr><td>val_accuracy</td><td>▁▆▆▇▇▇▇▆▅▆▇█▇▇▇▇▇▇▅▇█▇████▇███████▇████</td></tr><tr><td>val_loss</td><td>█▄▃▃▂▂▂▃▄▂▂▂▂▃▃▂▂▂▃▂▁▁▁▁▁▁▁▁▁▁▁▁▁▁▁▁▁▁▁</td></tr></table><br/></div><div class=\"wandb-col\"><h3>Run summary:</h3><br/><table class=\"wandb\"><tr><td>accuracy</td><td>0.94949</td></tr><tr><td>best_epoch</td><td>36</td></tr><tr><td>best_val_loss</td><td>0.09751</td></tr><tr><td>epoch</td><td>38</td></tr><tr><td>loss</td><td>0.0983</td></tr><tr><td>lr</td><td>3e-05</td></tr><tr><td>val_accuracy</td><td>0.94973</td></tr><tr><td>val_loss</td><td>0.09763</td></tr></table><br/></div></div>"
      ],
      "text/plain": [
       "<IPython.core.display.HTML object>"
      ]
     },
     "metadata": {},
     "output_type": "display_data"
    },
    {
     "data": {
      "text/html": [
       " View run <strong style=\"color:#cdcd00\">sage-sponge-5</strong> at: <a href='https://wandb.ai/ganmaster/dcnn_fine_tune/runs/nsia3b4y' target=\"_blank\">https://wandb.ai/ganmaster/dcnn_fine_tune/runs/nsia3b4y</a><br/>Synced 6 W&B file(s), 1 media file(s), 95 artifact file(s) and 1 other file(s)"
      ],
      "text/plain": [
       "<IPython.core.display.HTML object>"
      ]
     },
     "metadata": {},
     "output_type": "display_data"
    },
    {
     "data": {
      "text/html": [
       "Find logs at: <code>.\\wandb\\run-20231213_114149-nsia3b4y\\logs</code>"
      ],
      "text/plain": [
       "<IPython.core.display.HTML object>"
      ]
     },
     "metadata": {},
     "output_type": "display_data"
    },
    {
     "data": {
      "text/html": [
       "Successfully finished last run (ID:nsia3b4y). Initializing new run:<br/>"
      ],
      "text/plain": [
       "<IPython.core.display.HTML object>"
      ]
     },
     "metadata": {},
     "output_type": "display_data"
    },
    {
     "data": {
      "text/html": [
       "wandb version 0.16.1 is available!  To upgrade, please run:\n",
       " $ pip install wandb --upgrade"
      ],
      "text/plain": [
       "<IPython.core.display.HTML object>"
      ]
     },
     "metadata": {},
     "output_type": "display_data"
    },
    {
     "data": {
      "text/html": [
       "Tracking run with wandb version 0.16.0"
      ],
      "text/plain": [
       "<IPython.core.display.HTML object>"
      ]
     },
     "metadata": {},
     "output_type": "display_data"
    },
    {
     "data": {
      "text/html": [
       "Run data is saved locally in <code>C:\\Users\\Momrez\\Downloads\\Osman\\cyber security Edge-IIoTset\\wandb\\run-20231213_163055-sagsbk5t</code>"
      ],
      "text/plain": [
       "<IPython.core.display.HTML object>"
      ]
     },
     "metadata": {},
     "output_type": "display_data"
    },
    {
     "data": {
      "text/html": [
       "Syncing run <strong><a href='https://wandb.ai/ganmaster/dcnn_fine_tune_validate/runs/sagsbk5t' target=\"_blank\">good-resonance-1</a></strong> to <a href='https://wandb.ai/ganmaster/dcnn_fine_tune_validate' target=\"_blank\">Weights & Biases</a> (<a href='https://wandb.me/run' target=\"_blank\">docs</a>)<br/>"
      ],
      "text/plain": [
       "<IPython.core.display.HTML object>"
      ]
     },
     "metadata": {},
     "output_type": "display_data"
    },
    {
     "data": {
      "text/html": [
       " View project at <a href='https://wandb.ai/ganmaster/dcnn_fine_tune_validate' target=\"_blank\">https://wandb.ai/ganmaster/dcnn_fine_tune_validate</a>"
      ],
      "text/plain": [
       "<IPython.core.display.HTML object>"
      ]
     },
     "metadata": {},
     "output_type": "display_data"
    },
    {
     "data": {
      "text/html": [
       " View run at <a href='https://wandb.ai/ganmaster/dcnn_fine_tune_validate/runs/sagsbk5t' target=\"_blank\">https://wandb.ai/ganmaster/dcnn_fine_tune_validate/runs/sagsbk5t</a>"
      ],
      "text/plain": [
       "<IPython.core.display.HTML object>"
      ]
     },
     "metadata": {},
     "output_type": "display_data"
    },
    {
     "name": "stdout",
     "output_type": "stream",
     "text": [
      "14920/14920 [==============================] - 55s 4ms/step - loss: 0.0980 - accuracy: 0.9497\n",
      "14920/14920 [==============================] - 52s 3ms/step\n",
      "14920/14920 [==============================] - 60s 4ms/step - loss: 0.0980 - accuracy: 0.9497\n",
      "14920/14920 [==============================] - 51s 3ms/step\n"
     ]
    },
    {
     "data": {
      "image/png": "[encoded data removed]",
      "text/plain": [
       "<Figure size 1000x800 with 2 Axes>"
      ]
     },
     "metadata": {},
     "output_type": "display_data"
    },
    {
     "name": "stdout",
     "output_type": "stream",
     "text": [
      "Completed\n",
      "Time taken: 0:03:50.287325\n",
      "Validation score: 0.9496814112580589\n",
      "Evaluation score: [0.09798822551965714, 0.9496814012527466]\n",
      "Recall score: 0.9496814112580589\n",
      "Precision score: 0.9625908599029793\n",
      "F1 Measure score: 0.9453412264790555\n",
      "ROC-AUC score: 0.8887180129734201\n",
      "Evaluation score: [0.09798822551965714, 0.9496814012527466]\n",
      "Precision: 0.9625908599029793\n",
      "Recall: 0.9496814112580589\n",
      "F1 Score: 0.9453412264790555\n",
      "ROC-AUC Score: 0.996329742910279\n",
      "\n",
      "Classification Report:\n",
      "               precision    recall  f1-score   support\n",
      "\n",
      "           0       0.96      0.98      0.97      6052\n",
      "           1       0.75      0.95      0.84     12028\n",
      "           2       1.00      1.00      1.00     17096\n",
      "           3       0.82      1.00      0.90     12560\n",
      "           4       1.00      1.00      1.00     30675\n",
      "           5       0.68      0.59      0.63       225\n",
      "           6       1.00      1.00      1.00        87\n",
      "           7       1.00      1.00      1.00    340790\n",
      "           8       0.93      0.18      0.30     12505\n",
      "           9       1.00      0.50      0.67      5094\n",
      "          10       1.00      0.89      0.94      2468\n",
      "          11       0.45      0.92      0.61     12478\n",
      "          12       0.67      0.48      0.56      9216\n",
      "          13       1.00      0.84      0.91     12417\n",
      "          14       0.59      0.39      0.47      3727\n",
      "\n",
      "    accuracy                           0.95    477418\n",
      "   macro avg       0.86      0.78      0.79    477418\n",
      "weighted avg       0.96      0.95      0.95    477418\n",
      "\n"
     ]
    }
   ],
   "source": [
    "import datetime as dt\n",
    "from sklearn.metrics import accuracy_score, confusion_matrix, precision_score, recall_score, f1_score, roc_auc_score\n",
    "from sklearn import preprocessing\n",
    "import wandb\n",
    "import seaborn as sns\n",
    "from sklearn.metrics import confusion_matrix, classification_report\n",
    "\n",
    "# Log in to WandB\n",
    "wandb.login(key='8f0d6e889f9698caf1173751c1e03e59c7f70277')\n",
    "\n",
    "# Initialize WandB run\n",
    "wandb.init(project='dcnn_fine_tune_validate')\n",
    "\n",
    "start = dt.datetime.now()\n",
    "\n",
    "escore = model.evaluate(X_test, y_test, batch_size=32)\n",
    "pred = model.predict(X_test)\n",
    "pred = np.argmax(pred,axis=1)\n",
    "y_eval = np.argmax(y_test,axis=1)\n",
    "\n",
    "score = metrics.accuracy_score(y_eval, pred)\n",
    "rscore = recall_score(y_eval, pred, average='weighted')\n",
    "ascore = precision_score(y_eval, pred, average='weighted')\n",
    "f1score= f1_score(y_eval, pred, average='weighted') #F1 = 2 * (precision * recall) / (precision + recall) for manual\n",
    "\n",
    "lb = preprocessing.LabelBinarizer()\n",
    "lb.fit(y_eval)\n",
    "y_eval = lb.transform(y_eval)\n",
    "pred = lb.transform(pred)\n",
    "roc_score = roc_auc_score(y_eval, pred)\n",
    "#roc_auc_socre = multiclass_roc_auc_score(y_eval, pred)\n",
    "\n",
    "# Evaluate the model on the test set\n",
    "escore = model.evaluate(X_test, y_test, batch_size=32)\n",
    "pred = model.predict(X_test)\n",
    "pred_classes = np.argmax(pred, axis=1)\n",
    "y_eval_classes = np.argmax(y_test, axis=1)\n",
    "\n",
    "# Confusion matrix\n",
    "conf_mat = confusion_matrix(y_eval_classes, pred_classes)\n",
    "\n",
    "# Plot the confusion matrix using seaborn\n",
    "plt.figure(figsize=(10, 8))\n",
    "sns.heatmap(conf_mat, annot=True, fmt='d', cmap='Blues', xticklabels=[str(i) for i in range(n_classes)], yticklabels=[str(i) for i in range(n_classes)])\n",
    "plt.xlabel('Predicted')\n",
    "plt.ylabel('True')\n",
    "plt.title('Confusion Matrix')\n",
    "plt.show()\n",
    "\n",
    "# Classification report\n",
    "class_report = classification_report(y_eval_classes, pred_classes)\n",
    "\n",
    "# Additional metrics\n",
    "precision = precision_score(y_eval_classes, pred_classes, average='weighted')\n",
    "recall = recall_score(y_eval_classes, pred_classes, average='weighted')\n",
    "f1 = f1_score(y_eval_classes, pred_classes, average='weighted')\n",
    "roc_auc = roc_auc_score(y_test, pred, multi_class='ovr')\n",
    "\n",
    "print('Completed')\n",
    "print('Time taken:',dt.datetime.now()-start)\n",
    "\n",
    "print(\"Validation score: {}\".format(score))\n",
    "print(\"Evaluation score: {}\".format(escore))\n",
    "print(\"Recall score: {}\".format(rscore))\n",
    "print(\"Precision score: {}\".format(ascore))\n",
    "print(\"F1 Measure score: {}\".format(f1score))\n",
    "print(\"ROC-AUC score: {}\".format(roc_score))\n",
    "\n",
    "# New metrics\n",
    "print('Evaluation score:', escore)\n",
    "print('Precision:', precision)\n",
    "print('Recall:', recall)\n",
    "print('F1 Score:', f1)\n",
    "print('ROC-AUC Score:', roc_auc)\n",
    "print('\\nClassification Report:\\n', class_report)\n"
   ]
  },
  {
   "cell_type": "code",
   "execution_count": 23,
   "id": "132a0dcf-c940-4340-883e-70fc4272d333",
   "metadata": {
    "scrolled": true
   },
   "outputs": [
    {
     "name": "stdout",
     "output_type": "stream",
     "text": [
      "WARNING:tensorflow:From C:\\Users\\Momrez\\anaconda3\\envs\\new\\Lib\\site-packages\\keras\\src\\backend.py:873: The name tf.get_default_graph is deprecated. Please use tf.compat.v1.get_default_graph instead.\n",
      "\n",
      "WARNING:tensorflow:From C:\\Users\\Momrez\\anaconda3\\envs\\new\\Lib\\site-packages\\keras\\src\\backend.py:6642: The name tf.nn.max_pool is deprecated. Please use tf.nn.max_pool2d instead.\n",
      "\n",
      "Model: \"sequential\"\n",
      "_________________________________________________________________\n",
      " Layer (type)                Output Shape              Param #   \n",
      "=================================================================\n",
      " conv1d (Conv1D)             (None, 86, 128)           896       \n",
      "                                                                 \n",
      " activation (Activation)     (None, 86, 128)           0         \n",
      "                                                                 \n",
      " max_pooling1d (MaxPooling1  (None, 43, 128)           0         \n",
      " D)                                                              \n",
      "                                                                 \n",
      " conv1d_1 (Conv1D)           (None, 38, 256)           196864    \n",
      "                                                                 \n",
      " activation_1 (Activation)   (None, 38, 256)           0         \n",
      "                                                                 \n",
      " max_pooling1d_1 (MaxPoolin  (None, 19, 256)           0         \n",
      " g1D)                                                            \n",
      "                                                                 \n",
      " conv1d_2 (Conv1D)           (None, 14, 128)           196736    \n",
      "                                                                 \n",
      " activation_2 (Activation)   (None, 14, 128)           0         \n",
      "                                                                 \n",
      " max_pooling1d_2 (MaxPoolin  (None, 7, 128)            0         \n",
      " g1D)                                                            \n",
      "                                                                 \n",
      " flatten (Flatten)           (None, 896)               0         \n",
      "                                                                 \n",
      " dense (Dense)               (None, 256)               229632    \n",
      "                                                                 \n",
      " dropout (Dropout)           (None, 256)               0         \n",
      "                                                                 \n",
      " dense_1 (Dense)             (None, 128)               32896     \n",
      "                                                                 \n",
      " dropout_1 (Dropout)         (None, 128)               0         \n",
      "                                                                 \n",
      " dense_2 (Dense)             (None, 96)                12384     \n",
      "                                                                 \n",
      " dropout_2 (Dropout)         (None, 96)                0         \n",
      "                                                                 \n",
      " dense_3 (Dense)             (None, 128)               12416     \n",
      "                                                                 \n",
      " dropout_3 (Dropout)         (None, 128)               0         \n",
      "                                                                 \n",
      " dense_4 (Dense)             (None, 96)                12384     \n",
      "                                                                 \n",
      " dropout_4 (Dropout)         (None, 96)                0         \n",
      "                                                                 \n",
      " dense_5 (Dense)             (None, 15)                1455      \n",
      "                                                                 \n",
      "=================================================================\n",
      "Total params: 695663 (2.65 MB)\n",
      "Trainable params: 695663 (2.65 MB)\n",
      "Non-trainable params: 0 (0.00 Byte)\n",
      "_________________________________________________________________\n",
      "Epoch 1/30\n",
      "WARNING:tensorflow:From C:\\Users\\Momrez\\anaconda3\\envs\\new\\Lib\\site-packages\\keras\\src\\utils\\tf_utils.py:492: The name tf.ragged.RaggedTensorValue is deprecated. Please use tf.compat.v1.ragged.RaggedTensorValue instead.\n",
      "\n",
      "WARNING:tensorflow:From C:\\Users\\Momrez\\anaconda3\\envs\\new\\Lib\\site-packages\\keras\\src\\engine\\base_layer_utils.py:384: The name tf.executing_eagerly_outside_functions is deprecated. Please use tf.compat.v1.executing_eagerly_outside_functions instead.\n",
      "\n",
      "38534/38534 [==============================] - 1279s 33ms/step - loss: 1.5555 - accuracy: 0.4963 - val_loss: 0.1115 - val_accuracy: 0.9454 - lr: 2.0000e-04\n",
      "Epoch 2/30\n",
      "38534/38534 [==============================] - 1279s 33ms/step - loss: 1.5247 - accuracy: 0.5054 - val_loss: 0.1039 - val_accuracy: 0.9483 - lr: 2.0000e-04\n",
      "Epoch 3/30\n",
      "38534/38534 [==============================] - 1282s 33ms/step - loss: 1.5176 - accuracy: 0.5074 - val_loss: 0.1024 - val_accuracy: 0.9485 - lr: 2.0000e-04\n",
      "Epoch 4/30\n",
      "38534/38534 [==============================] - 1254s 33ms/step - loss: 1.5129 - accuracy: 0.5086 - val_loss: 0.1009 - val_accuracy: 0.9483 - lr: 2.0000e-04\n",
      "Epoch 5/30\n",
      "38534/38534 [==============================] - 1265s 33ms/step - loss: 1.5093 - accuracy: 0.5095 - val_loss: 0.1002 - val_accuracy: 0.9487 - lr: 2.0000e-04\n",
      "Epoch 6/30\n",
      "38534/38534 [==============================] - 1275s 33ms/step - loss: 1.5054 - accuracy: 0.5105 - val_loss: 0.1001 - val_accuracy: 0.9488 - lr: 2.0000e-04\n",
      "Epoch 7/30\n",
      "38534/38534 [==============================] - 1302s 34ms/step - loss: 1.5008 - accuracy: 0.5117 - val_loss: 0.1011 - val_accuracy: 0.9493 - lr: 2.0000e-04\n",
      "Epoch 8/30\n",
      "38534/38534 [==============================] - 1309s 34ms/step - loss: 1.4964 - accuracy: 0.5132 - val_loss: 0.0999 - val_accuracy: 0.9489 - lr: 2.0000e-04\n",
      "Epoch 9/30\n",
      "38534/38534 [==============================] - 1317s 34ms/step - loss: 1.4925 - accuracy: 0.5143 - val_loss: 0.0996 - val_accuracy: 0.9494 - lr: 2.0000e-04\n",
      "Epoch 10/30\n",
      "38534/38534 [==============================] - 1312s 34ms/step - loss: 1.4892 - accuracy: 0.5155 - val_loss: 0.0989 - val_accuracy: 0.9495 - lr: 2.0000e-04\n",
      "Epoch 11/30\n",
      "38534/38534 [==============================] - 1308s 34ms/step - loss: 1.4864 - accuracy: 0.5164 - val_loss: 0.1005 - val_accuracy: 0.9490 - lr: 2.0000e-04\n",
      "Epoch 12/30\n",
      "38534/38534 [==============================] - 1315s 34ms/step - loss: 1.4840 - accuracy: 0.5173 - val_loss: 0.0999 - val_accuracy: 0.9489 - lr: 2.0000e-04\n",
      "Epoch 13/30\n",
      "38534/38534 [==============================] - 1317s 34ms/step - loss: 1.4819 - accuracy: 0.5181 - val_loss: 0.0993 - val_accuracy: 0.9493 - lr: 2.0000e-04\n",
      "Epoch 14/30\n",
      "38534/38534 [==============================] - 1313s 34ms/step - loss: 1.4802 - accuracy: 0.5184 - val_loss: 0.1032 - val_accuracy: 0.9491 - lr: 2.0000e-04\n",
      "Epoch 15/30\n",
      "38534/38534 [==============================] - 1321s 34ms/step - loss: 1.4789 - accuracy: 0.5189 - val_loss: 0.0992 - val_accuracy: 0.9494 - lr: 2.0000e-04\n",
      "Epoch 16/30\n",
      "38534/38534 [==============================] - 1319s 34ms/step - loss: 1.4664 - accuracy: 0.5226 - val_loss: 0.0981 - val_accuracy: 0.9496 - lr: 5.0000e-05\n",
      "Epoch 17/30\n",
      "38534/38534 [==============================] - 1316s 34ms/step - loss: 1.4637 - accuracy: 0.5232 - val_loss: 0.0980 - val_accuracy: 0.9497 - lr: 5.0000e-05\n",
      "Epoch 18/30\n",
      "38534/38534 [==============================] - 1318s 34ms/step - loss: 1.4622 - accuracy: 0.5237 - val_loss: 0.0981 - val_accuracy: 0.9497 - lr: 5.0000e-05\n",
      "Epoch 19/30\n",
      "38534/38534 [==============================] - 1306s 34ms/step - loss: 1.4609 - accuracy: 0.5240 - val_loss: 0.0981 - val_accuracy: 0.9496 - lr: 5.0000e-05\n",
      "Epoch 20/30\n",
      "38534/38534 [==============================] - 1311s 34ms/step - loss: 1.4595 - accuracy: 0.5245 - val_loss: 0.0981 - val_accuracy: 0.9496 - lr: 5.0000e-05\n",
      "Epoch 21/30\n",
      "38534/38534 [==============================] - 1312s 34ms/step - loss: 1.4582 - accuracy: 0.5248 - val_loss: 0.0980 - val_accuracy: 0.9497 - lr: 5.0000e-05\n",
      "Epoch 22/30\n",
      "38534/38534 [==============================] - 1305s 34ms/step - loss: 1.4572 - accuracy: 0.5251 - val_loss: 0.0980 - val_accuracy: 0.9497 - lr: 5.0000e-05\n",
      "Epoch 23/30\n",
      "38534/38534 [==============================] - 1322s 34ms/step - loss: 1.4563 - accuracy: 0.5255 - val_loss: 0.0980 - val_accuracy: 0.9496 - lr: 5.0000e-05\n",
      "Epoch 24/30\n",
      "38534/38534 [==============================] - 1317s 34ms/step - loss: 1.4535 - accuracy: 0.5262 - val_loss: 0.0980 - val_accuracy: 0.9496 - lr: 3.3333e-05\n",
      "Epoch 25/30\n",
      "38534/38534 [==============================] - 1303s 34ms/step - loss: 1.4525 - accuracy: 0.5265 - val_loss: 0.0979 - val_accuracy: 0.9496 - lr: 3.3333e-05\n",
      "Epoch 26/30\n",
      "38534/38534 [==============================] - 1303s 34ms/step - loss: 1.4518 - accuracy: 0.5266 - val_loss: 0.0986 - val_accuracy: 0.9494 - lr: 3.3333e-05\n",
      "Epoch 27/30\n",
      "38534/38534 [==============================] - 1320s 34ms/step - loss: 1.4510 - accuracy: 0.5269 - val_loss: 0.0979 - val_accuracy: 0.9497 - lr: 3.3333e-05\n",
      "Epoch 28/30\n",
      "38534/38534 [==============================] - 1313s 34ms/step - loss: 1.4503 - accuracy: 0.5271 - val_loss: 0.0979 - val_accuracy: 0.9496 - lr: 3.3333e-05\n",
      "Epoch 29/30\n",
      "38534/38534 [==============================] - 1299s 34ms/step - loss: 1.4497 - accuracy: 0.5272 - val_loss: 0.0980 - val_accuracy: 0.9498 - lr: 3.3333e-05\n",
      "Epoch 30/30\n",
      "38534/38534 [==============================] - 1298s 34ms/step - loss: 1.4491 - accuracy: 0.5276 - val_loss: 0.0980 - val_accuracy: 0.9496 - lr: 3.3333e-05\n"
     ]
    }
   ],
   "source": [
    "# In order to ignore FutureWarning\n",
    "import warnings\n",
    "warnings.simplefilter(action='ignore', category=FutureWarning)\n",
    "warnings.simplefilter(action='ignore', category=DeprecationWarning)\n",
    "\n",
    "from keras.models import Sequential\n",
    "from keras import callbacks\n",
    "from keras.layers import Dense, Activation, Flatten, Convolution1D, Dropout, MaxPooling1D\n",
    "from sklearn import metrics\n",
    "from hyperopt import fmin, hp, tpe, Trials, STATUS_OK\n",
    "from hyperopt.plotting import main_plot_history, main_plot_vars\n",
    "import uuid\n",
    "import gc\n",
    "from tensorflow import keras\n",
    "import tensorflow as tf\n",
    "from tensorflow.keras.callbacks import EarlyStopping, ReduceLROnPlateau, LearningRateScheduler\n",
    "\n",
    "import wandb\n",
    "\n",
    "# # Log in to WandB\n",
    "# wandb.login(key='8f0d6e889f9698caf1173751c1e03e59c7f70277')\n",
    "\n",
    "# # Initialize WandB run\n",
    "# wandb.init(project='dcnn_fine_tune_GAN1')\n",
    "\n",
    "\n",
    "K = keras.backend\n",
    "\n",
    "X_train2 = X_train2.reshape(X_train2.shape[0], 91, 1).astype('float32')\n",
    "X_test = X_test.reshape(X_test.shape[0], 91, 1).astype('float32')\n",
    "\n",
    "\n",
    "# DCNN Model\n",
    "model = Sequential()\n",
    "model.add(Convolution1D(filters=128, kernel_size=6, input_shape=(_features, 1)))\n",
    "model.add(Activation('relu'))\n",
    "model.add(MaxPooling1D(pool_size=2))\n",
    "model.add(Convolution1D(filters=256, kernel_size=6))\n",
    "model.add(Activation('relu'))\n",
    "model.add(MaxPooling1D(pool_size=2))\n",
    "model.add(Convolution1D(filters=128, kernel_size=6))\n",
    "model.add(Activation('relu'))\n",
    "model.add(MaxPooling1D(pool_size=2))\n",
    "model.add(Flatten())\n",
    "model.add(Dense(256, activation='relu'))\n",
    "model.add(Dropout(0.1))\n",
    "model.add(Dense(128, activation='relu'))\n",
    "model.add(Dropout(0.1))\n",
    "model.add(Dense(96, activation='relu'))\n",
    "model.add(Dropout(0.1))\n",
    "model.add(Dense(128, activation='relu'))\n",
    "model.add(Dropout(0.1))\n",
    "model.add(Dense(96, activation='relu'))\n",
    "model.add(Dropout(0.1))\n",
    "model.add(Dense(n_classes, activation = 'softmax'))\n",
    "model.summary() \n",
    "\n",
    "opt = keras.optimizers.Adam(learning_rate=0.0001)\n",
    "model.compile(loss='categorical_crossentropy',optimizer=opt, metrics=['accuracy'])\n",
    "\n",
    "callbacks = [\n",
    "    EarlyStopping(monitor='loss', patience=10),\n",
    "    ReduceLROnPlateau(monitor='val_loss', factor=0.2, patience=3, min_lr=0.001),\n",
    "    # wandb.keras.WandbCallback()\n",
    "]\n",
    "def lr_schedule(epoch):\n",
    "    if epoch < 15:\n",
    "        return 0.0002  # First 30 epochs with this learning rate\n",
    "    elif epoch < 23:\n",
    "        return 0.0002/4  # Next 30 epochs with a lower learning rate\n",
    "    else:\n",
    "        return 0.0002/6  # Last 30 epochs with an even lower learning rate\n",
    "\n",
    "lr_scheduler = LearningRateScheduler(lr_schedule)\n",
    "\n",
    "history = model.fit(X_train2, y_train2,\n",
    "                              batch_size=128,\n",
    "                              epochs=30,\n",
    "                              verbose=True, #callbacks=[reduce_lr, early_stop_callback],\n",
    "                              validation_data=(X_test, y_test),\n",
    "                               callbacks=[callbacks, lr_scheduler])  "
   ]
  },
  {
   "cell_type": "code",
   "execution_count": 24,
   "id": "a90851e1-42ca-4ca7-b12b-9d04a80f9a31",
   "metadata": {},
   "outputs": [
    {
     "name": "stderr",
     "output_type": "stream",
     "text": [
      "C:\\Users\\Momrez\\anaconda3\\envs\\new\\Lib\\site-packages\\keras\\src\\engine\\training.py:3103: UserWarning: You are saving your model as an HDF5 file via `model.save()`. This file format is considered legacy. We recommend using instead the native Keras format, e.g. `model.save('my_model.keras')`.\n",
      "  saving_api.save_model(\n"
     ]
    }
   ],
   "source": [
    "model.save('model3_dcnn_gan.h5')"
   ]
  },
  {
   "cell_type": "code",
   "execution_count": 26,
   "id": "0542ee3c-8066-4362-977b-8c68b8fc91ac",
   "metadata": {},
   "outputs": [
    {
     "name": "stdout",
     "output_type": "stream",
     "text": [
      "14920/14920 [==============================] - 52s 3ms/step - loss: 0.0980 - accuracy: 0.9496\n",
      "14920/14920 [==============================] - 51s 3ms/step\n",
      "14920/14920 [==============================] - 54s 4ms/step - loss: 0.0980 - accuracy: 0.9496\n",
      "14920/14920 [==============================] - 51s 3ms/step\n"
     ]
    },
    {
     "data": {
      "image/png": "[encoded data removed]",
      "text/plain": [
       "<Figure size 1000x800 with 2 Axes>"
      ]
     },
     "metadata": {},
     "output_type": "display_data"
    },
    {
     "name": "stdout",
     "output_type": "stream",
     "text": [
      "Completed\n",
      "Time taken: 0:03:43.653722\n",
      "Validation score: 0.9496458030489006\n",
      "Evaluation score: [0.09804890304803848, 0.9496458172798157]\n",
      "Recall score: 0.9496458030489006\n",
      "Precision score: 0.9625876912260931\n",
      "F1 Measure score: 0.9452190679872052\n",
      "ROC-AUC score: 0.8771088396907325\n",
      "Evaluation score: [0.09804890304803848, 0.9496458172798157]\n",
      "Precision: 0.9625876912260931\n",
      "Recall: 0.9496458030489006\n",
      "F1 Score: 0.9452190679872052\n",
      "ROC-AUC Score: 0.9963096289170353\n",
      "\n",
      "Classification Report:\n",
      "               precision    recall  f1-score   support\n",
      "\n",
      "           0       0.96      0.98      0.97      6052\n",
      "           1       0.75      0.95      0.84     12028\n",
      "           2       0.99      1.00      1.00     17096\n",
      "           3       0.82      1.00      0.90     12560\n",
      "           4       1.00      1.00      1.00     30675\n",
      "           5       1.00      0.23      0.38       225\n",
      "           6       1.00      1.00      1.00        87\n",
      "           7       1.00      1.00      1.00    340790\n",
      "           8       0.93      0.18      0.30     12505\n",
      "           9       1.00      0.50      0.67      5094\n",
      "          10       1.00      0.89      0.94      2468\n",
      "          11       0.45      0.92      0.61     12478\n",
      "          12       0.67      0.48      0.56      9216\n",
      "          13       1.00      0.84      0.91     12417\n",
      "          14       0.59      0.39      0.47      3727\n",
      "\n",
      "    accuracy                           0.95    477418\n",
      "   macro avg       0.88      0.76      0.77    477418\n",
      "weighted avg       0.96      0.95      0.95    477418\n",
      "\n"
     ]
    }
   ],
   "source": [
    "import datetime as dt\n",
    "from sklearn.metrics import accuracy_score, confusion_matrix, precision_score, recall_score, f1_score, roc_auc_score\n",
    "from sklearn import preprocessing\n",
    "import wandb\n",
    "import seaborn as sns\n",
    "from sklearn.metrics import confusion_matrix, classification_report\n",
    "\n",
    "# # Log in to WandB\n",
    "# wandb.login(key='8f0d6e889f9698caf1173751c1e03e59c7f70277')\n",
    "\n",
    "# # Initialize WandB run\n",
    "# wandb.init(project='dcnn_fine_tune_validate-GAN')\n",
    "\n",
    "start = dt.datetime.now()\n",
    "\n",
    "escore = model.evaluate(X_test, y_test, batch_size=32)\n",
    "pred = model.predict(X_test)\n",
    "pred = np.argmax(pred,axis=1)\n",
    "y_eval = np.argmax(y_test,axis=1)\n",
    "\n",
    "score = metrics.accuracy_score(y_eval, pred)\n",
    "rscore = recall_score(y_eval, pred, average='weighted')\n",
    "ascore = precision_score(y_eval, pred, average='weighted')\n",
    "f1score= f1_score(y_eval, pred, average='weighted') #F1 = 2 * (precision * recall) / (precision + recall) for manual\n",
    "\n",
    "lb = preprocessing.LabelBinarizer()\n",
    "lb.fit(y_eval)\n",
    "y_eval = lb.transform(y_eval)\n",
    "pred = lb.transform(pred)\n",
    "roc_score = roc_auc_score(y_eval, pred)\n",
    "#roc_auc_socre = multiclass_roc_auc_score(y_eval, pred)\n",
    "\n",
    "# Evaluate the model on the test set\n",
    "escore = model.evaluate(X_test, y_test, batch_size=32)\n",
    "pred = model.predict(X_test)\n",
    "pred_classes = np.argmax(pred, axis=1)\n",
    "y_eval_classes = np.argmax(y_test, axis=1)\n",
    "\n",
    "# Confusion matrix\n",
    "conf_mat = confusion_matrix(y_eval_classes, pred_classes)\n",
    "\n",
    "# Plot the confusion matrix using seaborn\n",
    "plt.figure(figsize=(10, 8))\n",
    "sns.heatmap(conf_mat, annot=True, fmt='d', cmap='Blues', xticklabels=[str(i) for i in range(n_classes)], yticklabels=[str(i) for i in range(n_classes)])\n",
    "plt.xlabel('Predicted')\n",
    "plt.ylabel('True')\n",
    "plt.title('Confusion Matrix')\n",
    "plt.show()\n",
    "\n",
    "# Classification report\n",
    "class_report = classification_report(y_eval_classes, pred_classes)\n",
    "\n",
    "# Additional metrics\n",
    "precision = precision_score(y_eval_classes, pred_classes, average='weighted')\n",
    "recall = recall_score(y_eval_classes, pred_classes, average='weighted')\n",
    "f1 = f1_score(y_eval_classes, pred_classes, average='weighted')\n",
    "roc_auc = roc_auc_score(y_test, pred, multi_class='ovr')\n",
    "\n",
    "print('Completed')\n",
    "print('Time taken:',dt.datetime.now()-start)\n",
    "\n",
    "print(\"Validation score: {}\".format(score))\n",
    "print(\"Evaluation score: {}\".format(escore))\n",
    "print(\"Recall score: {}\".format(rscore))\n",
    "print(\"Precision score: {}\".format(ascore))\n",
    "print(\"F1 Measure score: {}\".format(f1score))\n",
    "print(\"ROC-AUC score: {}\".format(roc_score))\n",
    "\n",
    "# New metrics\n",
    "print('Evaluation score:', escore)\n",
    "print('Precision:', precision)\n",
    "print('Recall:', recall)\n",
    "print('F1 Score:', f1)\n",
    "print('ROC-AUC Score:', roc_auc)\n",
    "print('\\nClassification Report:\\n', class_report)\n"
   ]
  },
  {
   "cell_type": "code",
   "execution_count": null,
   "id": "f0466021-9762-4b08-a76a-731284c75086",
   "metadata": {},
   "outputs": [
    {
     "name": "stdout",
     "output_type": "stream",
     "text": [
      "WARNING:tensorflow:From C:\\Users\\Momrez\\anaconda3\\envs\\new\\Lib\\site-packages\\keras\\src\\backend.py:873: The name tf.get_default_graph is deprecated. Please use tf.compat.v1.get_default_graph instead.\n",
      "\n",
      "WARNING:tensorflow:From C:\\Users\\Momrez\\anaconda3\\envs\\new\\Lib\\site-packages\\keras\\src\\backend.py:6642: The name tf.nn.max_pool is deprecated. Please use tf.nn.max_pool2d instead.\n",
      "\n",
      "Model: \"sequential\"\n",
      "_________________________________________________________________\n",
      " Layer (type)                Output Shape              Param #   \n",
      "=================================================================\n",
      " conv1d (Conv1D)             (None, 86, 128)           896       \n",
      "                                                                 \n",
      " activation (Activation)     (None, 86, 128)           0         \n",
      "                                                                 \n",
      " max_pooling1d (MaxPooling1  (None, 43, 128)           0         \n",
      " D)                                                              \n",
      "                                                                 \n",
      " conv1d_1 (Conv1D)           (None, 38, 256)           196864    \n",
      "                                                                 \n",
      " activation_1 (Activation)   (None, 38, 256)           0         \n",
      "                                                                 \n",
      " max_pooling1d_1 (MaxPoolin  (None, 19, 256)           0         \n",
      " g1D)                                                            \n",
      "                                                                 \n",
      " conv1d_2 (Conv1D)           (None, 14, 128)           196736    \n",
      "                                                                 \n",
      " activation_2 (Activation)   (None, 14, 128)           0         \n",
      "                                                                 \n",
      " max_pooling1d_2 (MaxPoolin  (None, 7, 128)            0         \n",
      " g1D)                                                            \n",
      "                                                                 \n",
      " flatten (Flatten)           (None, 896)               0         \n",
      "                                                                 \n",
      " dense (Dense)               (None, 256)               229632    \n",
      "                                                                 \n",
      " dropout (Dropout)           (None, 256)               0         \n",
      "                                                                 \n",
      " dense_1 (Dense)             (None, 128)               32896     \n",
      "                                                                 \n",
      " dropout_1 (Dropout)         (None, 128)               0         \n",
      "                                                                 \n",
      " dense_2 (Dense)             (None, 96)                12384     \n",
      "                                                                 \n",
      " dropout_2 (Dropout)         (None, 96)                0         \n",
      "                                                                 \n",
      " dense_3 (Dense)             (None, 128)               12416     \n",
      "                                                                 \n",
      " dropout_3 (Dropout)         (None, 128)               0         \n",
      "                                                                 \n",
      " dense_4 (Dense)             (None, 96)                12384     \n",
      "                                                                 \n",
      " dropout_4 (Dropout)         (None, 96)                0         \n",
      "                                                                 \n",
      " dense_5 (Dense)             (None, 15)                1455      \n",
      "                                                                 \n",
      "=================================================================\n",
      "Total params: 695663 (2.65 MB)\n",
      "Trainable params: 695663 (2.65 MB)\n",
      "Non-trainable params: 0 (0.00 Byte)\n",
      "_________________________________________________________________\n",
      "Epoch 1/30\n",
      "WARNING:tensorflow:From C:\\Users\\Momrez\\anaconda3\\envs\\new\\Lib\\site-packages\\keras\\src\\utils\\tf_utils.py:492: The name tf.ragged.RaggedTensorValue is deprecated. Please use tf.compat.v1.ragged.RaggedTensorValue instead.\n",
      "\n",
      "WARNING:tensorflow:From C:\\Users\\Momrez\\anaconda3\\envs\\new\\Lib\\site-packages\\keras\\src\\engine\\base_layer_utils.py:384: The name tf.executing_eagerly_outside_functions is deprecated. Please use tf.compat.v1.executing_eagerly_outside_functions instead.\n",
      "\n",
      "119908/119908 [==============================] - 4093s 34ms/step - loss: 0.3806 - accuracy: 0.8093 - val_loss: 0.1072 - val_accuracy: 0.9385 - lr: 2.0000e-04\n",
      "Epoch 2/30\n",
      "119908/119908 [==============================] - 4131s 34ms/step - loss: 0.3546 - accuracy: 0.8192 - val_loss: 0.1073 - val_accuracy: 0.9390 - lr: 2.0000e-04\n",
      "Epoch 3/30\n",
      "119908/119908 [==============================] - 3938s 33ms/step - loss: 0.3487 - accuracy: 0.8214 - val_loss: 0.1086 - val_accuracy: 0.9390 - lr: 2.0000e-04\n",
      "Epoch 4/30\n",
      "119908/119908 [==============================] - 3969s 33ms/step - loss: 0.3463 - accuracy: 0.8232 - val_loss: 0.1083 - val_accuracy: 0.9399 - lr: 2.0000e-04\n",
      "Epoch 5/30\n",
      "119908/119908 [==============================] - 3960s 33ms/step - loss: 0.3426 - accuracy: 0.8249 - val_loss: 0.1076 - val_accuracy: 0.9411 - lr: 2.0000e-04\n",
      "Epoch 6/30\n",
      "119908/119908 [==============================] - 3975s 33ms/step - loss: 0.3408 - accuracy: 0.8264 - val_loss: 0.1077 - val_accuracy: 0.9415 - lr: 2.0000e-04\n",
      "Epoch 7/30\n",
      "119908/119908 [==============================] - 3978s 33ms/step - loss: 0.3401 - accuracy: 0.8279 - val_loss: 0.1079 - val_accuracy: 0.9413 - lr: 2.0000e-04\n",
      "Epoch 8/30\n",
      " 61703/119908 [==============>...............] - ETA: 31:49 - loss: 0.3387 - accuracy: 0.8291"
     ]
    }
   ],
   "source": [
    "# In order to ignore FutureWarning\n",
    "import warnings\n",
    "warnings.simplefilter(action='ignore', category=FutureWarning)\n",
    "warnings.simplefilter(action='ignore', category=DeprecationWarning)\n",
    "\n",
    "from keras.models import Sequential\n",
    "from keras import callbacks\n",
    "from keras.layers import Dense, Activation, Flatten, Convolution1D, Dropout, MaxPooling1D\n",
    "from sklearn import metrics\n",
    "from hyperopt import fmin, hp, tpe, Trials, STATUS_OK\n",
    "from hyperopt.plotting import main_plot_history, main_plot_vars\n",
    "import uuid\n",
    "import gc\n",
    "from tensorflow import keras\n",
    "import tensorflow as tf\n",
    "from tensorflow.keras.callbacks import EarlyStopping, ReduceLROnPlateau, LearningRateScheduler\n",
    "\n",
    "import wandb\n",
    "\n",
    "# # Log in to WandB\n",
    "# wandb.login(key='8f0d6e889f9698caf1173751c1e03e59c7f70277')\n",
    "\n",
    "# # Initialize WandB run\n",
    "# wandb.init(project='dcnn_fine_tune_smote')\n",
    "\n",
    "\n",
    "K = keras.backend\n",
    "\n",
    "X_train_resampled = X_train_resampled.reshape(X_train_resampled.shape[0], 91, 1).astype('float32')\n",
    "X_test = X_test.reshape(X_test.shape[0], 91, 1).astype('float32')\n",
    "\n",
    "\n",
    "# DCNN Model\n",
    "model = Sequential()\n",
    "model.add(Convolution1D(filters=128, kernel_size=6, input_shape=(_features, 1)))\n",
    "model.add(Activation('relu'))\n",
    "model.add(MaxPooling1D(pool_size=2))\n",
    "model.add(Convolution1D(filters=256, kernel_size=6))\n",
    "model.add(Activation('relu'))\n",
    "model.add(MaxPooling1D(pool_size=2))\n",
    "model.add(Convolution1D(filters=128, kernel_size=6))\n",
    "model.add(Activation('relu'))\n",
    "model.add(MaxPooling1D(pool_size=2))\n",
    "model.add(Flatten())\n",
    "model.add(Dense(256, activation='relu'))\n",
    "model.add(Dropout(0.1))\n",
    "model.add(Dense(128, activation='relu'))\n",
    "model.add(Dropout(0.1))\n",
    "model.add(Dense(96, activation='relu'))\n",
    "model.add(Dropout(0.1))\n",
    "model.add(Dense(128, activation='relu'))\n",
    "model.add(Dropout(0.1))\n",
    "model.add(Dense(96, activation='relu'))\n",
    "model.add(Dropout(0.1))\n",
    "model.add(Dense(n_classes, activation = 'softmax'))\n",
    "model.summary() \n",
    "\n",
    "opt = keras.optimizers.Adam(learning_rate=0.0001)\n",
    "model.compile(loss='categorical_crossentropy',optimizer=opt, metrics=['accuracy'])\n",
    "\n",
    "callbacks = [\n",
    "    EarlyStopping(monitor='loss', patience=10),\n",
    "    ReduceLROnPlateau(monitor='val_loss', factor=0.2, patience=3, min_lr=0.001),\n",
    "    # wandb.keras.WandbCallback()\n",
    "]\n",
    "def lr_schedule(epoch):\n",
    "    if epoch < 15:\n",
    "        return 0.0002  # First 30 epochs with this learning rate\n",
    "    elif epoch < 23:\n",
    "        return 0.0002/4  # Next 30 epochs with a lower learning rate\n",
    "    else:\n",
    "        return 0.0002/6  # Last 30 epochs with an even lower learning rate\n",
    "\n",
    "lr_scheduler = LearningRateScheduler(lr_schedule)\n",
    "\n",
    "history = model.fit(X_train_resampled, y_train_resampled,\n",
    "                              batch_size=128,\n",
    "                              epochs=30,\n",
    "                              verbose=True, #callbacks=[reduce_lr, early_stop_callback],\n",
    "                              validation_data=(X_test, y_test),\n",
    "                               callbacks=[callbacks, lr_scheduler])  "
   ]
  },
  {
   "cell_type": "code",
   "execution_count": null,
   "id": "54dcd3df-eace-44b6-9696-c092693a1674",
   "metadata": {},
   "outputs": [],
   "source": [
    "model.save('model3_dcnn_smote.h5')"
   ]
  },
  {
   "cell_type": "code",
   "execution_count": null,
   "id": "001ecdb9-4caf-4439-b619-66d15cf61a9b",
   "metadata": {},
   "outputs": [],
   "source": [
    "import datetime as dt\n",
    "from sklearn.metrics import accuracy_score, confusion_matrix, precision_score, recall_score, f1_score, roc_auc_score\n",
    "from sklearn import preprocessing\n",
    "import wandb\n",
    "import seaborn as sns\n",
    "from sklearn.metrics import confusion_matrix, classification_report\n",
    "\n",
    "# Log in to WandB\n",
    "# wandb.login(key='8f0d6e889f9698caf1173751c1e03e59c7f70277')\n",
    "\n",
    "# # Initialize WandB run\n",
    "# wandb.init(project='dcnn_fine_tune_validate-GAN')\n",
    "\n",
    "start = dt.datetime.now()\n",
    "\n",
    "escore = model.evaluate(X_test, y_test, batch_size=32)\n",
    "pred = model.predict(X_test)\n",
    "pred = np.argmax(pred,axis=1)\n",
    "y_eval = np.argmax(y_test,axis=1)\n",
    "\n",
    "score = metrics.accuracy_score(y_eval, pred)\n",
    "rscore = recall_score(y_eval, pred, average='weighted')\n",
    "ascore = precision_score(y_eval, pred, average='weighted')\n",
    "f1score= f1_score(y_eval, pred, average='weighted') #F1 = 2 * (precision * recall) / (precision + recall) for manual\n",
    "\n",
    "lb = preprocessing.LabelBinarizer()\n",
    "lb.fit(y_eval)\n",
    "y_eval = lb.transform(y_eval)\n",
    "pred = lb.transform(pred)\n",
    "roc_score = roc_auc_score(y_eval, pred)\n",
    "#roc_auc_socre = multiclass_roc_auc_score(y_eval, pred)\n",
    "\n",
    "# Evaluate the model on the test set\n",
    "escore = model.evaluate(X_test, y_test, batch_size=32)\n",
    "pred = model.predict(X_test)\n",
    "pred_classes = np.argmax(pred, axis=1)\n",
    "y_eval_classes = np.argmax(y_test, axis=1)\n",
    "\n",
    "# Confusion matrix\n",
    "conf_mat = confusion_matrix(y_eval_classes, pred_classes)\n",
    "\n",
    "# Plot the confusion matrix using seaborn\n",
    "plt.figure(figsize=(10, 8))\n",
    "sns.heatmap(conf_mat, annot=True, fmt='d', cmap='Blues', xticklabels=[str(i) for i in range(n_classes)], yticklabels=[str(i) for i in range(n_classes)])\n",
    "plt.xlabel('Predicted')\n",
    "plt.ylabel('True')\n",
    "plt.title('Confusion Matrix')\n",
    "plt.show()\n",
    "\n",
    "# Classification report\n",
    "class_report = classification_report(y_eval_classes, pred_classes)\n",
    "\n",
    "# Additional metrics\n",
    "precision = precision_score(y_eval_classes, pred_classes, average='weighted')\n",
    "recall = recall_score(y_eval_classes, pred_classes, average='weighted')\n",
    "f1 = f1_score(y_eval_classes, pred_classes, average='weighted')\n",
    "roc_auc = roc_auc_score(y_test, pred, multi_class='ovr')\n",
    "\n",
    "print('Completed')\n",
    "print('Time taken:',dt.datetime.now()-start)\n",
    "\n",
    "print(\"Validation score: {}\".format(score))\n",
    "print(\"Evaluation score: {}\".format(escore))\n",
    "print(\"Recall score: {}\".format(rscore))\n",
    "print(\"Precision score: {}\".format(ascore))\n",
    "print(\"F1 Measure score: {}\".format(f1score))\n",
    "print(\"ROC-AUC score: {}\".format(roc_score))\n",
    "\n",
    "# New metrics\n",
    "print('Evaluation score:', escore)\n",
    "print('Precision:', precision)\n",
    "print('Recall:', recall)\n",
    "print('F1 Score:', f1)\n",
    "print('ROC-AUC Score:', roc_auc)\n",
    "print('\\nClassification Report:\\n', class_report)\n"
   ]
  },
  {
   "cell_type": "code",
   "execution_count": null,
   "id": "4184841f-857f-4ec8-b23a-b79a31da88ea",
   "metadata": {},
   "outputs": [],
   "source": []
  },
  {
   "cell_type": "code",
   "execution_count": null,
   "id": "689aed3d-537e-49ec-be01-b7ed63bc61de",
   "metadata": {},
   "outputs": [],
   "source": []
  }
 ],
 "metadata": {
  "kernelspec": {
   "display_name": "Python 3 (ipykernel)",
   "language": "python",
   "name": "python3"
  },
  "language_info": {
   "codemirror_mode": {
    "name": "ipython",
    "version": 3
   },
   "file_extension": ".py",
   "mimetype": "text/x-python",
   "name": "python",
   "nbconvert_exporter": "python",
   "pygments_lexer": "ipython3",
   "version": "3.11.5"
  }
 },
 "nbformat": 4,
 "nbformat_minor": 5
}
